{
 "cells": [
  {
   "cell_type": "markdown",
   "source": [
    "[![Open In Colab](https://colab.research.google.com/assets/colab-badge.svg)](https://colab.research.google.com/github/pronobis/libspn-keras/blob/master/examples/notebooks/Understanding%20Region%20SPNs.ipynb)"
   ],
   "metadata": {
    "collapsed": false,
    "pycharm": {
     "name": "#%% md\n"
    }
   }
  },
  {
   "cell_type": "code",
   "execution_count": null,
   "metadata": {
    "colab": {},
    "colab_type": "code",
    "id": "zFISaG74gHFu"
   },
   "outputs": [],
   "source": [
    "!pip install libspn-keras"
   ]
  },
  {
   "cell_type": "markdown",
   "metadata": {
    "colab_type": "text",
    "id": "TB3AJmYDhR6c"
   },
   "source": [
    "# Understanding Region SPNs\n",
    "In this notebook will have a closer look at how `libspn-keras` accomplishes scalable, layer-wise implementations of SPNs with arbitrary _decompositions_. \n",
    "\n",
    "### Decompositions\n",
    "A decomposition is a way of groupig a set of random variables hierarchically, which is also what SPNs do. \n",
    "\n",
    "### Regions\n",
    "In SPN literature, a decomposition is sometimes referred to as a _region graph_. Each region in such a graph corresponds to a single scope. SPNs need to be decomposable and complete, so as soon as two regions need to 'combine' their scopes, they can only do so if their scopes have no overlap at all. Within a single region, one can use sum nodes without breaking completeness or decomposability, hence maintaining the validity of the SPN.\n",
    "\n",
    "## Regions in `libspn-keras`\n",
    "In `libspn-keras`, region graphs can be built using `RegionNode` and `RegionVariable`. In a region graph there is no explicit notion of products or sums, those will be dealt with later. The region graphs are simply used to define the scope structure. Nothing more, nothing less.\n",
    "\n",
    "Imagine we have three random variables $X_0$, $X_1$ and $X_2$. There are several ways of grouping these variables into regions. The smallest possible region is one that consists of a single variable."
   ]
  },
  {
   "cell_type": "code",
   "execution_count": 2,
   "metadata": {
    "colab": {},
    "colab_type": "code",
    "id": "I-0JMzOrjVR_"
   },
   "outputs": [
    {
     "name": "stdout",
     "output_type": "stream",
     "text": [
      "x0\n",
      "x1\n",
      "x2\n"
     ]
    }
   ],
   "source": [
    "import libspn_keras as spnk\n",
    "\n",
    "x0 = spnk.RegionVariable(0)\n",
    "x1 = spnk.RegionVariable(1)\n",
    "x2 = spnk.RegionVariable(2)\n",
    "\n",
    "print(x0)\n",
    "print(x1)\n",
    "print(x2)"
   ]
  },
  {
   "cell_type": "markdown",
   "metadata": {
    "colab_type": "text",
    "id": "4UhlUNhTjl75"
   },
   "source": [
    "### Combining regions\n",
    "Two regions can be combined if their scopes don't overlap. We can combine the regions we have above in several ways: "
   ]
  },
  {
   "cell_type": "code",
   "execution_count": 3,
   "metadata": {
    "colab": {},
    "colab_type": "code",
    "id": "y_MCgwiOkqmU"
   },
   "outputs": [
    {
     "name": "stdout",
     "output_type": "stream",
     "text": [
      "{x0, x1}\n",
      "{x0, x2}\n",
      "{x1, x2}\n",
      "{x0, x1, x2}\n"
     ]
    }
   ],
   "source": [
    "x0_x1 = spnk.RegionNode([x0, x1])\n",
    "x0_x2 = spnk.RegionNode([x0, x2])\n",
    "x1_x2 = spnk.RegionNode([x1, x2])\n",
    "x0_x1_x2 = spnk.RegionNode([x0, x1, x2])\n",
    "\n",
    "print(x0_x1)\n",
    "print(x0_x2)\n",
    "print(x1_x2)\n",
    "print(x0_x1_x2)"
   ]
  },
  {
   "cell_type": "markdown",
   "metadata": {
    "colab_type": "text",
    "id": "UdS-DEodltpP"
   },
   "source": [
    "### Scope overlap\n",
    "As stated before, one thing we're not allowed to do is combine regions whose scopes overlap. In other words, the intersection of the variable sets that any pair of combined regions have must be empty. Here are a few examples of things we're not allowed to do:"
   ]
  },
  {
   "cell_type": "code",
   "execution_count": 4,
   "metadata": {
    "colab": {},
    "colab_type": "code",
    "id": "7LNS0N1CmL3I"
   },
   "outputs": [
    {
     "name": "stdout",
     "output_type": "stream",
     "text": [
      "Children x0 and x0 have overlapping scopes\n",
      "Children x0 and {x0, x1} have overlapping scopes\n",
      "Children {x0, x1} and {x1, x2} have overlapping scopes\n"
     ]
    }
   ],
   "source": [
    "def try_to_combine(a, b):\n",
    "    try:\n",
    "        spnk.RegionNode([a, b])\n",
    "    except spnk.region.OverlappingScopesException as e:\n",
    "        print(e)\n",
    "\n",
    "try_to_combine(x0, x0)\n",
    "try_to_combine(x0, x0_x1)\n",
    "try_to_combine(x0_x1, x1_x2)"
   ]
  },
  {
   "cell_type": "markdown",
   "metadata": {
    "colab_type": "text",
    "id": "FERbAVNkmp-X"
   },
   "source": [
    "### Root regions\n",
    "A region can be considered a _root region_ if it covers all random variables. So far, we've only made one root region `x0_x1_x2`. A _root region_ cannot be combined with any other region anymore as there would always be scope overlap. \n",
    "\n",
    "Here are some other root regions:"
   ]
  },
  {
   "cell_type": "code",
   "execution_count": 5,
   "metadata": {
    "colab": {},
    "colab_type": "code",
    "id": "7xQe2sh5nXQH"
   },
   "outputs": [
    {
     "name": "stdout",
     "output_type": "stream",
     "text": [
      "{{x0, x1}, x2}\n",
      "{{x0, x2}, x1}\n",
      "{{x1, x2}, x0}\n"
     ]
    }
   ],
   "source": [
    "x0x1_x2 = spnk.RegionNode([x0_x1, x2])\n",
    "x0x2_x1 = spnk.RegionNode([x0_x2, x1])\n",
    "x1x2_x0 = spnk.RegionNode([x1_x2, x0])\n",
    "\n",
    "print(x0x1_x2)\n",
    "print(x0x2_x1)\n",
    "print(x1x2_x0)"
   ]
  },
  {
   "cell_type": "markdown",
   "metadata": {
    "colab_type": "text",
    "id": "GkWj29NvoFzD"
   },
   "source": [
    "## From region graphs to SPNs\n",
    "Now that we have the region graphs, we can compose stacks of product and sum layers that adhere to their hierarchical scope structure. By using `region_graph_to_dense_spn` we can easily convert a region graph to an SPN. \n",
    "\n",
    "We also have to specify the leaf layer and the number of sums at each depth of the SPN. Note that for the root of the SPN, we will only have a single sum. Therefore, we don't have to specify a `1` in our `num_sums_iterable`."
   ]
  },
  {
   "cell_type": "code",
   "execution_count": 6,
   "metadata": {
    "colab": {},
    "colab_type": "code",
    "id": "vosbxVhhcBOl"
   },
   "outputs": [
    {
     "name": "stdout",
     "output_type": "stream",
     "text": [
      "Model: \"sequential\"\n",
      "________________________________________________________________________________\n",
      "Layer (type)                        Output Shape                    Param #     \n",
      "================================================================================\n",
      "flat_to_regions (FlatToRegions)     (None, 3, 1, 1)                 0           \n",
      "________________________________________________________________________________\n",
      "normal_leaf (NormalLeaf)            (None, 3, 1, 2)                 12          \n",
      "________________________________________________________________________________\n",
      "permute_and_pad_scopes (PermuteAndP (None, 4, 1, 2)                 0           \n",
      "________________________________________________________________________________\n",
      "dense_product (DenseProduct)        (None, 2, 1, 4)                 0           \n",
      "________________________________________________________________________________\n",
      "dense_sum (DenseSum)                (None, 2, 1, 2)                 16          \n",
      "________________________________________________________________________________\n",
      "dense_product_1 (DenseProduct)      (None, 1, 1, 4)                 0           \n",
      "________________________________________________________________________________\n",
      "root_sum (RootSum)                  (None, 1)                       4           \n",
      "================================================================================\n",
      "Total params: 32\n",
      "Trainable params: 26\n",
      "Non-trainable params: 6\n",
      "________________________________________________________________________________\n"
     ]
    }
   ],
   "source": [
    "# Number of sums per region from bottom to top\n",
    "num_sums_iterable = iter([2, 2])\n",
    "\n",
    "leaf = spnk.layers.NormalLeaf(num_components=2)\n",
    "dense_spn = spnk.region_graph_to_dense_spn(\n",
    "    x0x2_x1, \n",
    "    num_sums_iterable=num_sums_iterable,\n",
    "    leaf_node=leaf,\n",
    "    return_weighted_child_logits=False\n",
    ")\n",
    "\n",
    "dense_spn.summary(line_length=80)"
   ]
  },
  {
   "cell_type": "markdown",
   "metadata": {
    "colab_type": "text",
    "id": "lGk-4GxEwssq"
   },
   "source": [
    "### The layers in a dense SPN\n",
    "As you can see in the summary above, we have a variety of layer types in our SPN. The first layer that is inserted is a `FlatToRegion` layer. This layer takes in a tensor with shape `[num_batch, num_variables, variable_dimensionality]` and produces an output of `[num_variables, num_decompositions, num_batch, variable_dimensionality]`. \n",
    "\n",
    "Currently, `region_graph_to_dense_spn` always converts a region to an SPN with one decomposition. Also, it assumes the input variables have a dimensionality of 1 (they are univariate). Hence, the output shape of the first layer is `(3, 1, None, 1)`. \n",
    "\n",
    "Then, we apply the leaf distributions in `NormalLeaf`. This is where the raw observations get transformed to 'probabilities'. \n",
    "\n",
    "The `PermuteAndPadScopes` layer permutes the scopes so that subsequent product layers can combine scopes simply by multiplying _adjacent_ scopes. In this case, the first product layer computes the product for the regions `x0` and `x1` simply by multiplying all values in `permute_and_pad_scopes_out[0, ...]` with `permute_and_pad_scopes_out[1, ...]` and putting that into `dense_product_out[0, ...]`. \n",
    "\n",
    "The second set of products ends up in `dense_product_out[1, ...]` and computes all products between the nodes in `permute_and_pad_scopes_out[2, ...]` and `permute_and_pad_scopes_out[3, ...]`. This can be implemented with just a handful of operations in `tensorflow`.\n",
    "\n",
    "### Padding\n",
    "\n",
    "Optimal GPU parallelization is the motivation behind the **padding** in `PermuteAndPadScopes`. By padding with 'dummy' nodes with empty scopes and a fixed probability of 1 (or equivalently 0 in log-space), we obtain a tree structure that is fully balanced and homogeneous. In other words, all nodes in a single layer have the same number of children, thus allowing us to 'broadcast' the internal operations of the layers across all regions, decompositions and batch samples!  \n",
    "\n",
    "### Visualizing\n",
    "For educational purposes, `libspn-keras` implements a `visualize_dense_spn` function that visualizes the structure of the SPN using `plotly`:"
   ]
  },
  {
   "cell_type": "code",
   "execution_count": 8,
   "metadata": {
    "colab": {},
    "colab_type": "code",
    "id": "pb2iFb2if7nz"
   },
   "outputs": [
    {
     "data": {
      "application/vnd.plotly.v1+json": {
       "config": {
        "plotlyServerURL": "https://plot.ly"
       },
       "data": [
        {
         "line": {
          "color": "gray"
         },
         "mode": "lines",
         "showlegend": false,
         "type": "scatter",
         "x": [
          -3.5,
          -2.5,
          null,
          -3.5,
          -2.5,
          null,
          -2.5,
          -1.5,
          null,
          -1.5,
          1.5,
          null,
          -0.5,
          2.5,
          null,
          0.5,
          -0.5,
          null,
          1.5,
          0.5,
          null,
          -3.5,
          -3.5,
          null,
          -3.5,
          -1.5,
          null,
          -2.5,
          -2.5,
          null,
          -2.5,
          -1.5,
          null,
          -1.5,
          -3.5,
          null,
          -1.5,
          -0.5,
          null,
          -0.5,
          -2.5,
          null,
          -0.5,
          -0.5,
          null,
          0.5,
          0.5,
          null,
          0.5,
          2.5,
          null,
          1.5,
          1.5,
          null,
          1.5,
          2.5,
          null,
          2.5,
          0.5,
          null,
          2.5,
          3.5,
          null,
          3.5,
          1.5,
          null,
          3.5,
          3.5,
          null,
          -3,
          -3.5,
          null,
          -3,
          -2.5,
          null,
          -3,
          -1.5,
          null,
          -3,
          -0.5,
          null,
          -1,
          -3.5,
          null,
          -1,
          -2.5,
          null,
          -1,
          -1.5,
          null,
          -1,
          -0.5,
          null,
          1,
          0.5,
          null,
          1,
          1.5,
          null,
          1,
          2.5,
          null,
          1,
          3.5,
          null,
          3,
          0.5,
          null,
          3,
          1.5,
          null,
          3,
          2.5,
          null,
          3,
          3.5,
          null,
          -3,
          -3,
          null,
          -3,
          1,
          null,
          -1,
          -1,
          null,
          -1,
          1,
          null,
          1,
          -3,
          null,
          1,
          3,
          null,
          3,
          -1,
          null,
          3,
          3,
          null,
          0,
          -3,
          null,
          0,
          -1,
          null,
          0,
          1,
          null,
          0,
          3
         ],
         "y": [
          2,
          1,
          null,
          2,
          1,
          null,
          2,
          1,
          null,
          2,
          1,
          null,
          2,
          1,
          null,
          2,
          1,
          null,
          2,
          1,
          null,
          3,
          2,
          null,
          3,
          2,
          null,
          3,
          2,
          null,
          3,
          2,
          null,
          3,
          2,
          null,
          3,
          2,
          null,
          3,
          2,
          null,
          3,
          2,
          null,
          3,
          2,
          null,
          3,
          2,
          null,
          3,
          2,
          null,
          3,
          2,
          null,
          3,
          2,
          null,
          3,
          2,
          null,
          3,
          2,
          null,
          3,
          2,
          null,
          4,
          3,
          null,
          4,
          3,
          null,
          4,
          3,
          null,
          4,
          3,
          null,
          4,
          3,
          null,
          4,
          3,
          null,
          4,
          3,
          null,
          4,
          3,
          null,
          4,
          3,
          null,
          4,
          3,
          null,
          4,
          3,
          null,
          4,
          3,
          null,
          4,
          3,
          null,
          4,
          3,
          null,
          4,
          3,
          null,
          4,
          3,
          null,
          5,
          4,
          null,
          5,
          4,
          null,
          5,
          4,
          null,
          5,
          4,
          null,
          5,
          4,
          null,
          5,
          4,
          null,
          5,
          4,
          null,
          5,
          4,
          null,
          6,
          5,
          null,
          6,
          5,
          null,
          6,
          5,
          null,
          6,
          5
         ]
        },
        {
         "hoverinfo": "text",
         "hovertext": [
          "{0}",
          "{0}"
         ],
         "marker": {
          "color": [
           "rgb(141,211,199)",
           "rgb(141,211,199)"
          ],
          "line": {
           "width": 2
          },
          "size": 30,
          "symbol": [
           "circle",
           "circle"
          ]
         },
         "mode": "markers",
         "name": "$\\text{NormalLeaf }{X_0}$",
         "showlegend": true,
         "type": "scatter",
         "x": [
          -2.5,
          -1.5
         ],
         "y": [
          1,
          1
         ]
        },
        {
         "hoverinfo": "text",
         "hovertext": [
          "{1}",
          "{1}"
         ],
         "marker": {
          "color": [
           "rgb(255,255,179)",
           "rgb(255,255,179)"
          ],
          "line": {
           "width": 2
          },
          "size": 30,
          "symbol": [
           "circle",
           "circle"
          ]
         },
         "mode": "markers",
         "name": "$\\text{NormalLeaf }{X_1}$",
         "showlegend": true,
         "type": "scatter",
         "x": [
          -0.5,
          0.5
         ],
         "y": [
          1,
          1
         ]
        },
        {
         "hoverinfo": "text",
         "hovertext": [
          "{2}",
          "{2}"
         ],
         "marker": {
          "color": [
           "rgb(190,186,218)",
           "rgb(190,186,218)"
          ],
          "line": {
           "width": 2
          },
          "size": 30,
          "symbol": [
           "circle",
           "circle"
          ]
         },
         "mode": "markers",
         "name": "$\\text{NormalLeaf }{X_2}$",
         "showlegend": true,
         "type": "scatter",
         "x": [
          1.5,
          2.5
         ],
         "y": [
          1,
          1
         ]
        },
        {
         "hoverinfo": "text",
         "hovertext": [
          "{0}",
          "{0}"
         ],
         "marker": {
          "color": [
           "rgb(251,128,114)",
           "rgb(251,128,114)"
          ],
          "line": {
           "width": 2
          },
          "size": 30,
          "symbol": [
           "circle",
           "circle"
          ]
         },
         "mode": "markers",
         "name": "$\\text{PermuteAndPadScopes }{X_0}$",
         "showlegend": true,
         "type": "scatter",
         "x": [
          -3.5,
          -2.5
         ],
         "y": [
          2,
          2
         ]
        },
        {
         "hoverinfo": "text",
         "hovertext": [
          "{2}",
          "{2}"
         ],
         "marker": {
          "color": [
           "rgb(128,177,211)",
           "rgb(128,177,211)"
          ],
          "line": {
           "width": 2
          },
          "size": 30,
          "symbol": [
           "circle",
           "circle"
          ]
         },
         "mode": "markers",
         "name": "$\\text{PermuteAndPadScopes }{X_2}$",
         "showlegend": true,
         "type": "scatter",
         "x": [
          -1.5,
          -0.5
         ],
         "y": [
          2,
          2
         ]
        },
        {
         "hoverinfo": "text",
         "hovertext": [
          "{1}",
          "{1}"
         ],
         "marker": {
          "color": [
           "rgb(253,180,98)",
           "rgb(253,180,98)"
          ],
          "line": {
           "width": 2
          },
          "size": 30,
          "symbol": [
           "circle",
           "circle"
          ]
         },
         "mode": "markers",
         "name": "$\\text{PermuteAndPadScopes }{X_1}$",
         "showlegend": true,
         "type": "scatter",
         "x": [
          0.5,
          1.5
         ],
         "y": [
          2,
          2
         ]
        },
        {
         "hoverinfo": "text",
         "hovertext": [
          "{}",
          "{}"
         ],
         "marker": {
          "color": [
           "rgb(179,222,105)",
           "rgb(179,222,105)"
          ],
          "line": {
           "width": 2
          },
          "size": 30,
          "symbol": [
           "asterisk",
           "asterisk"
          ]
         },
         "mode": "markers",
         "name": "$\\text{PermuteAndPadScopes }\\emptyset$",
         "showlegend": true,
         "type": "scatter",
         "x": [
          2.5,
          3.5
         ],
         "y": [
          2,
          2
         ]
        },
        {
         "hoverinfo": "text",
         "hovertext": [
          "{0, 2}",
          "{0, 2}",
          "{0, 2}",
          "{0, 2}"
         ],
         "marker": {
          "color": [
           "rgb(252,205,229)",
           "rgb(252,205,229)",
           "rgb(252,205,229)",
           "rgb(252,205,229)"
          ],
          "line": {
           "width": 2
          },
          "size": 30,
          "symbol": [
           "circle-x",
           "circle-x",
           "circle-x",
           "circle-x"
          ]
         },
         "mode": "markers",
         "name": "$\\text{DenseProduct }{X_0, X_2}$",
         "showlegend": true,
         "type": "scatter",
         "x": [
          -3.5,
          -2.5,
          -1.5,
          -0.5
         ],
         "y": [
          3,
          3,
          3,
          3
         ]
        },
        {
         "hoverinfo": "text",
         "hovertext": [
          "{1}",
          "{1}",
          "{1}",
          "{1}"
         ],
         "marker": {
          "color": [
           "rgb(217,217,217)",
           "rgb(217,217,217)",
           "rgb(217,217,217)",
           "rgb(217,217,217)"
          ],
          "line": {
           "width": 2
          },
          "size": 30,
          "symbol": [
           "circle-x",
           "circle-x",
           "circle-x",
           "circle-x"
          ]
         },
         "mode": "markers",
         "name": "$\\text{DenseProduct }{X_1}$",
         "showlegend": true,
         "type": "scatter",
         "x": [
          0.5,
          1.5,
          2.5,
          3.5
         ],
         "y": [
          3,
          3,
          3,
          3
         ]
        },
        {
         "hoverinfo": "text",
         "hovertext": [
          "{0, 2}",
          "{0, 2}"
         ],
         "marker": {
          "color": [
           "rgb(188,128,189)",
           "rgb(188,128,189)"
          ],
          "line": {
           "width": 2
          },
          "size": 30,
          "symbol": [
           "circle-cross",
           "circle-cross"
          ]
         },
         "mode": "markers",
         "name": "$\\text{DenseSum }{X_0, X_2}$",
         "showlegend": true,
         "type": "scatter",
         "x": [
          -3,
          -1
         ],
         "y": [
          4,
          4
         ]
        },
        {
         "hoverinfo": "text",
         "hovertext": [
          "{1}",
          "{1}"
         ],
         "marker": {
          "color": [
           "rgb(204,235,197)",
           "rgb(204,235,197)"
          ],
          "line": {
           "width": 2
          },
          "size": 30,
          "symbol": [
           "circle-cross",
           "circle-cross"
          ]
         },
         "mode": "markers",
         "name": "$\\text{DenseSum }{X_1}$",
         "showlegend": true,
         "type": "scatter",
         "x": [
          1,
          3
         ],
         "y": [
          4,
          4
         ]
        },
        {
         "hoverinfo": "text",
         "hovertext": [
          "{0, 1, 2}",
          "{0, 1, 2}",
          "{0, 1, 2}",
          "{0, 1, 2}"
         ],
         "marker": {
          "color": [
           "rgb(255,237,111)",
           "rgb(255,237,111)",
           "rgb(255,237,111)",
           "rgb(255,237,111)"
          ],
          "line": {
           "width": 2
          },
          "size": 30,
          "symbol": [
           "circle-x",
           "circle-x",
           "circle-x",
           "circle-x"
          ]
         },
         "mode": "markers",
         "name": "$\\text{DenseProduct }{X_0, X_1, X_2}$",
         "showlegend": true,
         "type": "scatter",
         "x": [
          -3,
          -1,
          1,
          3
         ],
         "y": [
          5,
          5,
          5,
          5
         ]
        },
        {
         "hoverinfo": "text",
         "hovertext": [
          "{0, 1, 2}"
         ],
         "marker": {
          "color": [
           "rgb(141,211,199)"
          ],
          "line": {
           "width": 2
          },
          "size": 30,
          "symbol": [
           "circle-cross"
          ]
         },
         "mode": "markers",
         "name": "$\\text{RootSum }{X_0, X_1, X_2}$",
         "showlegend": true,
         "type": "scatter",
         "x": [
          0
         ],
         "y": [
          6
         ]
        }
       ],
       "layout": {
        "legend": {
         "font": {
          "size": 18
         },
         "traceorder": "reversed"
        },
        "plot_bgcolor": "rgb(255,255,255,0)",
        "template": {
         "data": {
          "bar": [
           {
            "error_x": {
             "color": "#2a3f5f"
            },
            "error_y": {
             "color": "#2a3f5f"
            },
            "marker": {
             "line": {
              "color": "#E5ECF6",
              "width": 0.5
             }
            },
            "type": "bar"
           }
          ],
          "barpolar": [
           {
            "marker": {
             "line": {
              "color": "#E5ECF6",
              "width": 0.5
             }
            },
            "type": "barpolar"
           }
          ],
          "carpet": [
           {
            "aaxis": {
             "endlinecolor": "#2a3f5f",
             "gridcolor": "white",
             "linecolor": "white",
             "minorgridcolor": "white",
             "startlinecolor": "#2a3f5f"
            },
            "baxis": {
             "endlinecolor": "#2a3f5f",
             "gridcolor": "white",
             "linecolor": "white",
             "minorgridcolor": "white",
             "startlinecolor": "#2a3f5f"
            },
            "type": "carpet"
           }
          ],
          "choropleth": [
           {
            "colorbar": {
             "outlinewidth": 0,
             "ticks": ""
            },
            "type": "choropleth"
           }
          ],
          "contour": [
           {
            "colorbar": {
             "outlinewidth": 0,
             "ticks": ""
            },
            "colorscale": [
             [
              0,
              "#0d0887"
             ],
             [
              0.1111111111111111,
              "#46039f"
             ],
             [
              0.2222222222222222,
              "#7201a8"
             ],
             [
              0.3333333333333333,
              "#9c179e"
             ],
             [
              0.4444444444444444,
              "#bd3786"
             ],
             [
              0.5555555555555556,
              "#d8576b"
             ],
             [
              0.6666666666666666,
              "#ed7953"
             ],
             [
              0.7777777777777778,
              "#fb9f3a"
             ],
             [
              0.8888888888888888,
              "#fdca26"
             ],
             [
              1,
              "#f0f921"
             ]
            ],
            "type": "contour"
           }
          ],
          "contourcarpet": [
           {
            "colorbar": {
             "outlinewidth": 0,
             "ticks": ""
            },
            "type": "contourcarpet"
           }
          ],
          "heatmap": [
           {
            "colorbar": {
             "outlinewidth": 0,
             "ticks": ""
            },
            "colorscale": [
             [
              0,
              "#0d0887"
             ],
             [
              0.1111111111111111,
              "#46039f"
             ],
             [
              0.2222222222222222,
              "#7201a8"
             ],
             [
              0.3333333333333333,
              "#9c179e"
             ],
             [
              0.4444444444444444,
              "#bd3786"
             ],
             [
              0.5555555555555556,
              "#d8576b"
             ],
             [
              0.6666666666666666,
              "#ed7953"
             ],
             [
              0.7777777777777778,
              "#fb9f3a"
             ],
             [
              0.8888888888888888,
              "#fdca26"
             ],
             [
              1,
              "#f0f921"
             ]
            ],
            "type": "heatmap"
           }
          ],
          "heatmapgl": [
           {
            "colorbar": {
             "outlinewidth": 0,
             "ticks": ""
            },
            "colorscale": [
             [
              0,
              "#0d0887"
             ],
             [
              0.1111111111111111,
              "#46039f"
             ],
             [
              0.2222222222222222,
              "#7201a8"
             ],
             [
              0.3333333333333333,
              "#9c179e"
             ],
             [
              0.4444444444444444,
              "#bd3786"
             ],
             [
              0.5555555555555556,
              "#d8576b"
             ],
             [
              0.6666666666666666,
              "#ed7953"
             ],
             [
              0.7777777777777778,
              "#fb9f3a"
             ],
             [
              0.8888888888888888,
              "#fdca26"
             ],
             [
              1,
              "#f0f921"
             ]
            ],
            "type": "heatmapgl"
           }
          ],
          "histogram": [
           {
            "marker": {
             "colorbar": {
              "outlinewidth": 0,
              "ticks": ""
             }
            },
            "type": "histogram"
           }
          ],
          "histogram2d": [
           {
            "colorbar": {
             "outlinewidth": 0,
             "ticks": ""
            },
            "colorscale": [
             [
              0,
              "#0d0887"
             ],
             [
              0.1111111111111111,
              "#46039f"
             ],
             [
              0.2222222222222222,
              "#7201a8"
             ],
             [
              0.3333333333333333,
              "#9c179e"
             ],
             [
              0.4444444444444444,
              "#bd3786"
             ],
             [
              0.5555555555555556,
              "#d8576b"
             ],
             [
              0.6666666666666666,
              "#ed7953"
             ],
             [
              0.7777777777777778,
              "#fb9f3a"
             ],
             [
              0.8888888888888888,
              "#fdca26"
             ],
             [
              1,
              "#f0f921"
             ]
            ],
            "type": "histogram2d"
           }
          ],
          "histogram2dcontour": [
           {
            "colorbar": {
             "outlinewidth": 0,
             "ticks": ""
            },
            "colorscale": [
             [
              0,
              "#0d0887"
             ],
             [
              0.1111111111111111,
              "#46039f"
             ],
             [
              0.2222222222222222,
              "#7201a8"
             ],
             [
              0.3333333333333333,
              "#9c179e"
             ],
             [
              0.4444444444444444,
              "#bd3786"
             ],
             [
              0.5555555555555556,
              "#d8576b"
             ],
             [
              0.6666666666666666,
              "#ed7953"
             ],
             [
              0.7777777777777778,
              "#fb9f3a"
             ],
             [
              0.8888888888888888,
              "#fdca26"
             ],
             [
              1,
              "#f0f921"
             ]
            ],
            "type": "histogram2dcontour"
           }
          ],
          "mesh3d": [
           {
            "colorbar": {
             "outlinewidth": 0,
             "ticks": ""
            },
            "type": "mesh3d"
           }
          ],
          "parcoords": [
           {
            "line": {
             "colorbar": {
              "outlinewidth": 0,
              "ticks": ""
             }
            },
            "type": "parcoords"
           }
          ],
          "pie": [
           {
            "automargin": true,
            "type": "pie"
           }
          ],
          "scatter": [
           {
            "marker": {
             "colorbar": {
              "outlinewidth": 0,
              "ticks": ""
             }
            },
            "type": "scatter"
           }
          ],
          "scatter3d": [
           {
            "line": {
             "colorbar": {
              "outlinewidth": 0,
              "ticks": ""
             }
            },
            "marker": {
             "colorbar": {
              "outlinewidth": 0,
              "ticks": ""
             }
            },
            "type": "scatter3d"
           }
          ],
          "scattercarpet": [
           {
            "marker": {
             "colorbar": {
              "outlinewidth": 0,
              "ticks": ""
             }
            },
            "type": "scattercarpet"
           }
          ],
          "scattergeo": [
           {
            "marker": {
             "colorbar": {
              "outlinewidth": 0,
              "ticks": ""
             }
            },
            "type": "scattergeo"
           }
          ],
          "scattergl": [
           {
            "marker": {
             "colorbar": {
              "outlinewidth": 0,
              "ticks": ""
             }
            },
            "type": "scattergl"
           }
          ],
          "scattermapbox": [
           {
            "marker": {
             "colorbar": {
              "outlinewidth": 0,
              "ticks": ""
             }
            },
            "type": "scattermapbox"
           }
          ],
          "scatterpolar": [
           {
            "marker": {
             "colorbar": {
              "outlinewidth": 0,
              "ticks": ""
             }
            },
            "type": "scatterpolar"
           }
          ],
          "scatterpolargl": [
           {
            "marker": {
             "colorbar": {
              "outlinewidth": 0,
              "ticks": ""
             }
            },
            "type": "scatterpolargl"
           }
          ],
          "scatterternary": [
           {
            "marker": {
             "colorbar": {
              "outlinewidth": 0,
              "ticks": ""
             }
            },
            "type": "scatterternary"
           }
          ],
          "surface": [
           {
            "colorbar": {
             "outlinewidth": 0,
             "ticks": ""
            },
            "colorscale": [
             [
              0,
              "#0d0887"
             ],
             [
              0.1111111111111111,
              "#46039f"
             ],
             [
              0.2222222222222222,
              "#7201a8"
             ],
             [
              0.3333333333333333,
              "#9c179e"
             ],
             [
              0.4444444444444444,
              "#bd3786"
             ],
             [
              0.5555555555555556,
              "#d8576b"
             ],
             [
              0.6666666666666666,
              "#ed7953"
             ],
             [
              0.7777777777777778,
              "#fb9f3a"
             ],
             [
              0.8888888888888888,
              "#fdca26"
             ],
             [
              1,
              "#f0f921"
             ]
            ],
            "type": "surface"
           }
          ],
          "table": [
           {
            "cells": {
             "fill": {
              "color": "#EBF0F8"
             },
             "line": {
              "color": "white"
             }
            },
            "header": {
             "fill": {
              "color": "#C8D4E3"
             },
             "line": {
              "color": "white"
             }
            },
            "type": "table"
           }
          ]
         },
         "layout": {
          "annotationdefaults": {
           "arrowcolor": "#2a3f5f",
           "arrowhead": 0,
           "arrowwidth": 1
          },
          "coloraxis": {
           "colorbar": {
            "outlinewidth": 0,
            "ticks": ""
           }
          },
          "colorscale": {
           "diverging": [
            [
             0,
             "#8e0152"
            ],
            [
             0.1,
             "#c51b7d"
            ],
            [
             0.2,
             "#de77ae"
            ],
            [
             0.3,
             "#f1b6da"
            ],
            [
             0.4,
             "#fde0ef"
            ],
            [
             0.5,
             "#f7f7f7"
            ],
            [
             0.6,
             "#e6f5d0"
            ],
            [
             0.7,
             "#b8e186"
            ],
            [
             0.8,
             "#7fbc41"
            ],
            [
             0.9,
             "#4d9221"
            ],
            [
             1,
             "#276419"
            ]
           ],
           "sequential": [
            [
             0,
             "#0d0887"
            ],
            [
             0.1111111111111111,
             "#46039f"
            ],
            [
             0.2222222222222222,
             "#7201a8"
            ],
            [
             0.3333333333333333,
             "#9c179e"
            ],
            [
             0.4444444444444444,
             "#bd3786"
            ],
            [
             0.5555555555555556,
             "#d8576b"
            ],
            [
             0.6666666666666666,
             "#ed7953"
            ],
            [
             0.7777777777777778,
             "#fb9f3a"
            ],
            [
             0.8888888888888888,
             "#fdca26"
            ],
            [
             1,
             "#f0f921"
            ]
           ],
           "sequentialminus": [
            [
             0,
             "#0d0887"
            ],
            [
             0.1111111111111111,
             "#46039f"
            ],
            [
             0.2222222222222222,
             "#7201a8"
            ],
            [
             0.3333333333333333,
             "#9c179e"
            ],
            [
             0.4444444444444444,
             "#bd3786"
            ],
            [
             0.5555555555555556,
             "#d8576b"
            ],
            [
             0.6666666666666666,
             "#ed7953"
            ],
            [
             0.7777777777777778,
             "#fb9f3a"
            ],
            [
             0.8888888888888888,
             "#fdca26"
            ],
            [
             1,
             "#f0f921"
            ]
           ]
          },
          "colorway": [
           "#636efa",
           "#EF553B",
           "#00cc96",
           "#ab63fa",
           "#FFA15A",
           "#19d3f3",
           "#FF6692",
           "#B6E880",
           "#FF97FF",
           "#FECB52"
          ],
          "font": {
           "color": "#2a3f5f"
          },
          "geo": {
           "bgcolor": "white",
           "lakecolor": "white",
           "landcolor": "#E5ECF6",
           "showlakes": true,
           "showland": true,
           "subunitcolor": "white"
          },
          "hoverlabel": {
           "align": "left"
          },
          "hovermode": "closest",
          "mapbox": {
           "style": "light"
          },
          "paper_bgcolor": "white",
          "plot_bgcolor": "#E5ECF6",
          "polar": {
           "angularaxis": {
            "gridcolor": "white",
            "linecolor": "white",
            "ticks": ""
           },
           "bgcolor": "#E5ECF6",
           "radialaxis": {
            "gridcolor": "white",
            "linecolor": "white",
            "ticks": ""
           }
          },
          "scene": {
           "xaxis": {
            "backgroundcolor": "#E5ECF6",
            "gridcolor": "white",
            "gridwidth": 2,
            "linecolor": "white",
            "showbackground": true,
            "ticks": "",
            "zerolinecolor": "white"
           },
           "yaxis": {
            "backgroundcolor": "#E5ECF6",
            "gridcolor": "white",
            "gridwidth": 2,
            "linecolor": "white",
            "showbackground": true,
            "ticks": "",
            "zerolinecolor": "white"
           },
           "zaxis": {
            "backgroundcolor": "#E5ECF6",
            "gridcolor": "white",
            "gridwidth": 2,
            "linecolor": "white",
            "showbackground": true,
            "ticks": "",
            "zerolinecolor": "white"
           }
          },
          "shapedefaults": {
           "line": {
            "color": "#2a3f5f"
           }
          },
          "ternary": {
           "aaxis": {
            "gridcolor": "white",
            "linecolor": "white",
            "ticks": ""
           },
           "baxis": {
            "gridcolor": "white",
            "linecolor": "white",
            "ticks": ""
           },
           "bgcolor": "#E5ECF6",
           "caxis": {
            "gridcolor": "white",
            "linecolor": "white",
            "ticks": ""
           }
          },
          "title": {
           "x": 0.05
          },
          "xaxis": {
           "automargin": true,
           "gridcolor": "white",
           "linecolor": "white",
           "ticks": "",
           "title": {
            "standoff": 15
           },
           "zerolinecolor": "white",
           "zerolinewidth": 2
          },
          "yaxis": {
           "automargin": true,
           "gridcolor": "white",
           "linecolor": "white",
           "ticks": "",
           "title": {
            "standoff": 15
           },
           "zerolinecolor": "white",
           "zerolinewidth": 2
          }
         }
        },
        "xaxis": {
         "ticks": "",
         "tickvals": []
        },
        "yaxis": {
         "ticks": "",
         "tickvals": []
        }
       }
      },
      "text/html": [
       "<div>\n",
       "        \n",
       "        \n",
       "            <div id=\"a8e0a55e-df61-4aac-aae9-a29cd700e1eb\" class=\"plotly-graph-div\" style=\"height:525px; width:100%;\"></div>\n",
       "            <script type=\"text/javascript\">\n",
       "                require([\"plotly\"], function(Plotly) {\n",
       "                    window.PLOTLYENV=window.PLOTLYENV || {};\n",
       "                    \n",
       "                if (document.getElementById(\"a8e0a55e-df61-4aac-aae9-a29cd700e1eb\")) {\n",
       "                    Plotly.newPlot(\n",
       "                        'a8e0a55e-df61-4aac-aae9-a29cd700e1eb',\n",
       "                        [{\"line\": {\"color\": \"gray\"}, \"mode\": \"lines\", \"showlegend\": false, \"type\": \"scatter\", \"x\": [-3.5, -2.5, null, -3.5, -2.5, null, -2.5, -1.5, null, -1.5, 1.5, null, -0.5, 2.5, null, 0.5, -0.5, null, 1.5, 0.5, null, -3.5, -3.5, null, -3.5, -1.5, null, -2.5, -2.5, null, -2.5, -1.5, null, -1.5, -3.5, null, -1.5, -0.5, null, -0.5, -2.5, null, -0.5, -0.5, null, 0.5, 0.5, null, 0.5, 2.5, null, 1.5, 1.5, null, 1.5, 2.5, null, 2.5, 0.5, null, 2.5, 3.5, null, 3.5, 1.5, null, 3.5, 3.5, null, -3.0, -3.5, null, -3.0, -2.5, null, -3.0, -1.5, null, -3.0, -0.5, null, -1.0, -3.5, null, -1.0, -2.5, null, -1.0, -1.5, null, -1.0, -0.5, null, 1.0, 0.5, null, 1.0, 1.5, null, 1.0, 2.5, null, 1.0, 3.5, null, 3.0, 0.5, null, 3.0, 1.5, null, 3.0, 2.5, null, 3.0, 3.5, null, -3.0, -3.0, null, -3.0, 1.0, null, -1.0, -1.0, null, -1.0, 1.0, null, 1.0, -3.0, null, 1.0, 3.0, null, 3.0, -1.0, null, 3.0, 3.0, null, 0.0, -3.0, null, 0.0, -1.0, null, 0.0, 1.0, null, 0.0, 3.0], \"y\": [2.0, 1.0, null, 2.0, 1.0, null, 2.0, 1.0, null, 2.0, 1.0, null, 2.0, 1.0, null, 2.0, 1.0, null, 2.0, 1.0, null, 3.0, 2.0, null, 3.0, 2.0, null, 3.0, 2.0, null, 3.0, 2.0, null, 3.0, 2.0, null, 3.0, 2.0, null, 3.0, 2.0, null, 3.0, 2.0, null, 3.0, 2.0, null, 3.0, 2.0, null, 3.0, 2.0, null, 3.0, 2.0, null, 3.0, 2.0, null, 3.0, 2.0, null, 3.0, 2.0, null, 3.0, 2.0, null, 4.0, 3.0, null, 4.0, 3.0, null, 4.0, 3.0, null, 4.0, 3.0, null, 4.0, 3.0, null, 4.0, 3.0, null, 4.0, 3.0, null, 4.0, 3.0, null, 4.0, 3.0, null, 4.0, 3.0, null, 4.0, 3.0, null, 4.0, 3.0, null, 4.0, 3.0, null, 4.0, 3.0, null, 4.0, 3.0, null, 4.0, 3.0, null, 5.0, 4.0, null, 5.0, 4.0, null, 5.0, 4.0, null, 5.0, 4.0, null, 5.0, 4.0, null, 5.0, 4.0, null, 5.0, 4.0, null, 5.0, 4.0, null, 6.0, 5.0, null, 6.0, 5.0, null, 6.0, 5.0, null, 6.0, 5.0]}, {\"hoverinfo\": \"text\", \"hovertext\": [\"{0}\", \"{0}\"], \"marker\": {\"color\": [\"rgb(141,211,199)\", \"rgb(141,211,199)\"], \"line\": {\"width\": 2}, \"size\": 30, \"symbol\": [\"circle\", \"circle\"]}, \"mode\": \"markers\", \"name\": \"$\\\\text{NormalLeaf }{X_0}$\", \"showlegend\": true, \"type\": \"scatter\", \"x\": [-2.5, -1.5], \"y\": [1, 1]}, {\"hoverinfo\": \"text\", \"hovertext\": [\"{1}\", \"{1}\"], \"marker\": {\"color\": [\"rgb(255,255,179)\", \"rgb(255,255,179)\"], \"line\": {\"width\": 2}, \"size\": 30, \"symbol\": [\"circle\", \"circle\"]}, \"mode\": \"markers\", \"name\": \"$\\\\text{NormalLeaf }{X_1}$\", \"showlegend\": true, \"type\": \"scatter\", \"x\": [-0.5, 0.5], \"y\": [1, 1]}, {\"hoverinfo\": \"text\", \"hovertext\": [\"{2}\", \"{2}\"], \"marker\": {\"color\": [\"rgb(190,186,218)\", \"rgb(190,186,218)\"], \"line\": {\"width\": 2}, \"size\": 30, \"symbol\": [\"circle\", \"circle\"]}, \"mode\": \"markers\", \"name\": \"$\\\\text{NormalLeaf }{X_2}$\", \"showlegend\": true, \"type\": \"scatter\", \"x\": [1.5, 2.5], \"y\": [1, 1]}, {\"hoverinfo\": \"text\", \"hovertext\": [\"{0}\", \"{0}\"], \"marker\": {\"color\": [\"rgb(251,128,114)\", \"rgb(251,128,114)\"], \"line\": {\"width\": 2}, \"size\": 30, \"symbol\": [\"circle\", \"circle\"]}, \"mode\": \"markers\", \"name\": \"$\\\\text{PermuteAndPadScopes }{X_0}$\", \"showlegend\": true, \"type\": \"scatter\", \"x\": [-3.5, -2.5], \"y\": [2, 2]}, {\"hoverinfo\": \"text\", \"hovertext\": [\"{2}\", \"{2}\"], \"marker\": {\"color\": [\"rgb(128,177,211)\", \"rgb(128,177,211)\"], \"line\": {\"width\": 2}, \"size\": 30, \"symbol\": [\"circle\", \"circle\"]}, \"mode\": \"markers\", \"name\": \"$\\\\text{PermuteAndPadScopes }{X_2}$\", \"showlegend\": true, \"type\": \"scatter\", \"x\": [-1.5, -0.5], \"y\": [2, 2]}, {\"hoverinfo\": \"text\", \"hovertext\": [\"{1}\", \"{1}\"], \"marker\": {\"color\": [\"rgb(253,180,98)\", \"rgb(253,180,98)\"], \"line\": {\"width\": 2}, \"size\": 30, \"symbol\": [\"circle\", \"circle\"]}, \"mode\": \"markers\", \"name\": \"$\\\\text{PermuteAndPadScopes }{X_1}$\", \"showlegend\": true, \"type\": \"scatter\", \"x\": [0.5, 1.5], \"y\": [2, 2]}, {\"hoverinfo\": \"text\", \"hovertext\": [\"{}\", \"{}\"], \"marker\": {\"color\": [\"rgb(179,222,105)\", \"rgb(179,222,105)\"], \"line\": {\"width\": 2}, \"size\": 30, \"symbol\": [\"asterisk\", \"asterisk\"]}, \"mode\": \"markers\", \"name\": \"$\\\\text{PermuteAndPadScopes }\\\\emptyset$\", \"showlegend\": true, \"type\": \"scatter\", \"x\": [2.5, 3.5], \"y\": [2, 2]}, {\"hoverinfo\": \"text\", \"hovertext\": [\"{0, 2}\", \"{0, 2}\", \"{0, 2}\", \"{0, 2}\"], \"marker\": {\"color\": [\"rgb(252,205,229)\", \"rgb(252,205,229)\", \"rgb(252,205,229)\", \"rgb(252,205,229)\"], \"line\": {\"width\": 2}, \"size\": 30, \"symbol\": [\"circle-x\", \"circle-x\", \"circle-x\", \"circle-x\"]}, \"mode\": \"markers\", \"name\": \"$\\\\text{DenseProduct }{X_0, X_2}$\", \"showlegend\": true, \"type\": \"scatter\", \"x\": [-3.5, -2.5, -1.5, -0.5], \"y\": [3, 3, 3, 3]}, {\"hoverinfo\": \"text\", \"hovertext\": [\"{1}\", \"{1}\", \"{1}\", \"{1}\"], \"marker\": {\"color\": [\"rgb(217,217,217)\", \"rgb(217,217,217)\", \"rgb(217,217,217)\", \"rgb(217,217,217)\"], \"line\": {\"width\": 2}, \"size\": 30, \"symbol\": [\"circle-x\", \"circle-x\", \"circle-x\", \"circle-x\"]}, \"mode\": \"markers\", \"name\": \"$\\\\text{DenseProduct }{X_1}$\", \"showlegend\": true, \"type\": \"scatter\", \"x\": [0.5, 1.5, 2.5, 3.5], \"y\": [3, 3, 3, 3]}, {\"hoverinfo\": \"text\", \"hovertext\": [\"{0, 2}\", \"{0, 2}\"], \"marker\": {\"color\": [\"rgb(188,128,189)\", \"rgb(188,128,189)\"], \"line\": {\"width\": 2}, \"size\": 30, \"symbol\": [\"circle-cross\", \"circle-cross\"]}, \"mode\": \"markers\", \"name\": \"$\\\\text{DenseSum }{X_0, X_2}$\", \"showlegend\": true, \"type\": \"scatter\", \"x\": [-3.0, -1.0], \"y\": [4, 4]}, {\"hoverinfo\": \"text\", \"hovertext\": [\"{1}\", \"{1}\"], \"marker\": {\"color\": [\"rgb(204,235,197)\", \"rgb(204,235,197)\"], \"line\": {\"width\": 2}, \"size\": 30, \"symbol\": [\"circle-cross\", \"circle-cross\"]}, \"mode\": \"markers\", \"name\": \"$\\\\text{DenseSum }{X_1}$\", \"showlegend\": true, \"type\": \"scatter\", \"x\": [1.0, 3.0], \"y\": [4, 4]}, {\"hoverinfo\": \"text\", \"hovertext\": [\"{0, 1, 2}\", \"{0, 1, 2}\", \"{0, 1, 2}\", \"{0, 1, 2}\"], \"marker\": {\"color\": [\"rgb(255,237,111)\", \"rgb(255,237,111)\", \"rgb(255,237,111)\", \"rgb(255,237,111)\"], \"line\": {\"width\": 2}, \"size\": 30, \"symbol\": [\"circle-x\", \"circle-x\", \"circle-x\", \"circle-x\"]}, \"mode\": \"markers\", \"name\": \"$\\\\text{DenseProduct }{X_0, X_1, X_2}$\", \"showlegend\": true, \"type\": \"scatter\", \"x\": [-3.0, -1.0, 1.0, 3.0], \"y\": [5, 5, 5, 5]}, {\"hoverinfo\": \"text\", \"hovertext\": [\"{0, 1, 2}\"], \"marker\": {\"color\": [\"rgb(141,211,199)\"], \"line\": {\"width\": 2}, \"size\": 30, \"symbol\": [\"circle-cross\"]}, \"mode\": \"markers\", \"name\": \"$\\\\text{RootSum }{X_0, X_1, X_2}$\", \"showlegend\": true, \"type\": \"scatter\", \"x\": [0], \"y\": [6]}],\n",
       "                        {\"legend\": {\"font\": {\"size\": 18}, \"traceorder\": \"reversed\"}, \"plot_bgcolor\": \"rgb(255,255,255,0)\", \"template\": {\"data\": {\"bar\": [{\"error_x\": {\"color\": \"#2a3f5f\"}, \"error_y\": {\"color\": \"#2a3f5f\"}, \"marker\": {\"line\": {\"color\": \"#E5ECF6\", \"width\": 0.5}}, \"type\": \"bar\"}], \"barpolar\": [{\"marker\": {\"line\": {\"color\": \"#E5ECF6\", \"width\": 0.5}}, \"type\": \"barpolar\"}], \"carpet\": [{\"aaxis\": {\"endlinecolor\": \"#2a3f5f\", \"gridcolor\": \"white\", \"linecolor\": \"white\", \"minorgridcolor\": \"white\", \"startlinecolor\": \"#2a3f5f\"}, \"baxis\": {\"endlinecolor\": \"#2a3f5f\", \"gridcolor\": \"white\", \"linecolor\": \"white\", \"minorgridcolor\": \"white\", \"startlinecolor\": \"#2a3f5f\"}, \"type\": \"carpet\"}], \"choropleth\": [{\"colorbar\": {\"outlinewidth\": 0, \"ticks\": \"\"}, \"type\": \"choropleth\"}], \"contour\": [{\"colorbar\": {\"outlinewidth\": 0, \"ticks\": \"\"}, \"colorscale\": [[0.0, \"#0d0887\"], [0.1111111111111111, \"#46039f\"], [0.2222222222222222, \"#7201a8\"], [0.3333333333333333, \"#9c179e\"], [0.4444444444444444, \"#bd3786\"], [0.5555555555555556, \"#d8576b\"], [0.6666666666666666, \"#ed7953\"], [0.7777777777777778, \"#fb9f3a\"], [0.8888888888888888, \"#fdca26\"], [1.0, \"#f0f921\"]], \"type\": \"contour\"}], \"contourcarpet\": [{\"colorbar\": {\"outlinewidth\": 0, \"ticks\": \"\"}, \"type\": \"contourcarpet\"}], \"heatmap\": [{\"colorbar\": {\"outlinewidth\": 0, \"ticks\": \"\"}, \"colorscale\": [[0.0, \"#0d0887\"], [0.1111111111111111, \"#46039f\"], [0.2222222222222222, \"#7201a8\"], [0.3333333333333333, \"#9c179e\"], [0.4444444444444444, \"#bd3786\"], [0.5555555555555556, \"#d8576b\"], [0.6666666666666666, \"#ed7953\"], [0.7777777777777778, \"#fb9f3a\"], [0.8888888888888888, \"#fdca26\"], [1.0, \"#f0f921\"]], \"type\": \"heatmap\"}], \"heatmapgl\": [{\"colorbar\": {\"outlinewidth\": 0, \"ticks\": \"\"}, \"colorscale\": [[0.0, \"#0d0887\"], [0.1111111111111111, \"#46039f\"], [0.2222222222222222, \"#7201a8\"], [0.3333333333333333, \"#9c179e\"], [0.4444444444444444, \"#bd3786\"], [0.5555555555555556, \"#d8576b\"], [0.6666666666666666, \"#ed7953\"], [0.7777777777777778, \"#fb9f3a\"], [0.8888888888888888, \"#fdca26\"], [1.0, \"#f0f921\"]], \"type\": \"heatmapgl\"}], \"histogram\": [{\"marker\": {\"colorbar\": {\"outlinewidth\": 0, \"ticks\": \"\"}}, \"type\": \"histogram\"}], \"histogram2d\": [{\"colorbar\": {\"outlinewidth\": 0, \"ticks\": \"\"}, \"colorscale\": [[0.0, \"#0d0887\"], [0.1111111111111111, \"#46039f\"], [0.2222222222222222, \"#7201a8\"], [0.3333333333333333, \"#9c179e\"], [0.4444444444444444, \"#bd3786\"], [0.5555555555555556, \"#d8576b\"], [0.6666666666666666, \"#ed7953\"], [0.7777777777777778, \"#fb9f3a\"], [0.8888888888888888, \"#fdca26\"], [1.0, \"#f0f921\"]], \"type\": \"histogram2d\"}], \"histogram2dcontour\": [{\"colorbar\": {\"outlinewidth\": 0, \"ticks\": \"\"}, \"colorscale\": [[0.0, \"#0d0887\"], [0.1111111111111111, \"#46039f\"], [0.2222222222222222, \"#7201a8\"], [0.3333333333333333, \"#9c179e\"], [0.4444444444444444, \"#bd3786\"], [0.5555555555555556, \"#d8576b\"], [0.6666666666666666, \"#ed7953\"], [0.7777777777777778, \"#fb9f3a\"], [0.8888888888888888, \"#fdca26\"], [1.0, \"#f0f921\"]], \"type\": \"histogram2dcontour\"}], \"mesh3d\": [{\"colorbar\": {\"outlinewidth\": 0, \"ticks\": \"\"}, \"type\": \"mesh3d\"}], \"parcoords\": [{\"line\": {\"colorbar\": {\"outlinewidth\": 0, \"ticks\": \"\"}}, \"type\": \"parcoords\"}], \"pie\": [{\"automargin\": true, \"type\": \"pie\"}], \"scatter\": [{\"marker\": {\"colorbar\": {\"outlinewidth\": 0, \"ticks\": \"\"}}, \"type\": \"scatter\"}], \"scatter3d\": [{\"line\": {\"colorbar\": {\"outlinewidth\": 0, \"ticks\": \"\"}}, \"marker\": {\"colorbar\": {\"outlinewidth\": 0, \"ticks\": \"\"}}, \"type\": \"scatter3d\"}], \"scattercarpet\": [{\"marker\": {\"colorbar\": {\"outlinewidth\": 0, \"ticks\": \"\"}}, \"type\": \"scattercarpet\"}], \"scattergeo\": [{\"marker\": {\"colorbar\": {\"outlinewidth\": 0, \"ticks\": \"\"}}, \"type\": \"scattergeo\"}], \"scattergl\": [{\"marker\": {\"colorbar\": {\"outlinewidth\": 0, \"ticks\": \"\"}}, \"type\": \"scattergl\"}], \"scattermapbox\": [{\"marker\": {\"colorbar\": {\"outlinewidth\": 0, \"ticks\": \"\"}}, \"type\": \"scattermapbox\"}], \"scatterpolar\": [{\"marker\": {\"colorbar\": {\"outlinewidth\": 0, \"ticks\": \"\"}}, \"type\": \"scatterpolar\"}], \"scatterpolargl\": [{\"marker\": {\"colorbar\": {\"outlinewidth\": 0, \"ticks\": \"\"}}, \"type\": \"scatterpolargl\"}], \"scatterternary\": [{\"marker\": {\"colorbar\": {\"outlinewidth\": 0, \"ticks\": \"\"}}, \"type\": \"scatterternary\"}], \"surface\": [{\"colorbar\": {\"outlinewidth\": 0, \"ticks\": \"\"}, \"colorscale\": [[0.0, \"#0d0887\"], [0.1111111111111111, \"#46039f\"], [0.2222222222222222, \"#7201a8\"], [0.3333333333333333, \"#9c179e\"], [0.4444444444444444, \"#bd3786\"], [0.5555555555555556, \"#d8576b\"], [0.6666666666666666, \"#ed7953\"], [0.7777777777777778, \"#fb9f3a\"], [0.8888888888888888, \"#fdca26\"], [1.0, \"#f0f921\"]], \"type\": \"surface\"}], \"table\": [{\"cells\": {\"fill\": {\"color\": \"#EBF0F8\"}, \"line\": {\"color\": \"white\"}}, \"header\": {\"fill\": {\"color\": \"#C8D4E3\"}, \"line\": {\"color\": \"white\"}}, \"type\": \"table\"}]}, \"layout\": {\"annotationdefaults\": {\"arrowcolor\": \"#2a3f5f\", \"arrowhead\": 0, \"arrowwidth\": 1}, \"coloraxis\": {\"colorbar\": {\"outlinewidth\": 0, \"ticks\": \"\"}}, \"colorscale\": {\"diverging\": [[0, \"#8e0152\"], [0.1, \"#c51b7d\"], [0.2, \"#de77ae\"], [0.3, \"#f1b6da\"], [0.4, \"#fde0ef\"], [0.5, \"#f7f7f7\"], [0.6, \"#e6f5d0\"], [0.7, \"#b8e186\"], [0.8, \"#7fbc41\"], [0.9, \"#4d9221\"], [1, \"#276419\"]], \"sequential\": [[0.0, \"#0d0887\"], [0.1111111111111111, \"#46039f\"], [0.2222222222222222, \"#7201a8\"], [0.3333333333333333, \"#9c179e\"], [0.4444444444444444, \"#bd3786\"], [0.5555555555555556, \"#d8576b\"], [0.6666666666666666, \"#ed7953\"], [0.7777777777777778, \"#fb9f3a\"], [0.8888888888888888, \"#fdca26\"], [1.0, \"#f0f921\"]], \"sequentialminus\": [[0.0, \"#0d0887\"], [0.1111111111111111, \"#46039f\"], [0.2222222222222222, \"#7201a8\"], [0.3333333333333333, \"#9c179e\"], [0.4444444444444444, \"#bd3786\"], [0.5555555555555556, \"#d8576b\"], [0.6666666666666666, \"#ed7953\"], [0.7777777777777778, \"#fb9f3a\"], [0.8888888888888888, \"#fdca26\"], [1.0, \"#f0f921\"]]}, \"colorway\": [\"#636efa\", \"#EF553B\", \"#00cc96\", \"#ab63fa\", \"#FFA15A\", \"#19d3f3\", \"#FF6692\", \"#B6E880\", \"#FF97FF\", \"#FECB52\"], \"font\": {\"color\": \"#2a3f5f\"}, \"geo\": {\"bgcolor\": \"white\", \"lakecolor\": \"white\", \"landcolor\": \"#E5ECF6\", \"showlakes\": true, \"showland\": true, \"subunitcolor\": \"white\"}, \"hoverlabel\": {\"align\": \"left\"}, \"hovermode\": \"closest\", \"mapbox\": {\"style\": \"light\"}, \"paper_bgcolor\": \"white\", \"plot_bgcolor\": \"#E5ECF6\", \"polar\": {\"angularaxis\": {\"gridcolor\": \"white\", \"linecolor\": \"white\", \"ticks\": \"\"}, \"bgcolor\": \"#E5ECF6\", \"radialaxis\": {\"gridcolor\": \"white\", \"linecolor\": \"white\", \"ticks\": \"\"}}, \"scene\": {\"xaxis\": {\"backgroundcolor\": \"#E5ECF6\", \"gridcolor\": \"white\", \"gridwidth\": 2, \"linecolor\": \"white\", \"showbackground\": true, \"ticks\": \"\", \"zerolinecolor\": \"white\"}, \"yaxis\": {\"backgroundcolor\": \"#E5ECF6\", \"gridcolor\": \"white\", \"gridwidth\": 2, \"linecolor\": \"white\", \"showbackground\": true, \"ticks\": \"\", \"zerolinecolor\": \"white\"}, \"zaxis\": {\"backgroundcolor\": \"#E5ECF6\", \"gridcolor\": \"white\", \"gridwidth\": 2, \"linecolor\": \"white\", \"showbackground\": true, \"ticks\": \"\", \"zerolinecolor\": \"white\"}}, \"shapedefaults\": {\"line\": {\"color\": \"#2a3f5f\"}}, \"ternary\": {\"aaxis\": {\"gridcolor\": \"white\", \"linecolor\": \"white\", \"ticks\": \"\"}, \"baxis\": {\"gridcolor\": \"white\", \"linecolor\": \"white\", \"ticks\": \"\"}, \"bgcolor\": \"#E5ECF6\", \"caxis\": {\"gridcolor\": \"white\", \"linecolor\": \"white\", \"ticks\": \"\"}}, \"title\": {\"x\": 0.05}, \"xaxis\": {\"automargin\": true, \"gridcolor\": \"white\", \"linecolor\": \"white\", \"ticks\": \"\", \"title\": {\"standoff\": 15}, \"zerolinecolor\": \"white\", \"zerolinewidth\": 2}, \"yaxis\": {\"automargin\": true, \"gridcolor\": \"white\", \"linecolor\": \"white\", \"ticks\": \"\", \"title\": {\"standoff\": 15}, \"zerolinecolor\": \"white\", \"zerolinewidth\": 2}}}, \"xaxis\": {\"ticks\": \"\", \"tickvals\": []}, \"yaxis\": {\"ticks\": \"\", \"tickvals\": []}},\n",
       "                        {\"responsive\": true}\n",
       "                    ).then(function(){\n",
       "                            \n",
       "var gd = document.getElementById('a8e0a55e-df61-4aac-aae9-a29cd700e1eb');\n",
       "var x = new MutationObserver(function (mutations, observer) {{\n",
       "        var display = window.getComputedStyle(gd).display;\n",
       "        if (!display || display === 'none') {{\n",
       "            console.log([gd, 'removed!']);\n",
       "            Plotly.purge(gd);\n",
       "            observer.disconnect();\n",
       "        }}\n",
       "}});\n",
       "\n",
       "// Listen for the removal of the full notebook cells\n",
       "var notebookContainer = gd.closest('#notebook-container');\n",
       "if (notebookContainer) {{\n",
       "    x.observe(notebookContainer, {childList: true});\n",
       "}}\n",
       "\n",
       "// Listen for the clearing of the current output cell\n",
       "var outputEl = gd.closest('.output');\n",
       "if (outputEl) {{\n",
       "    x.observe(outputEl, {childList: true});\n",
       "}}\n",
       "\n",
       "                        })\n",
       "                };\n",
       "                });\n",
       "            </script>\n",
       "        </div>"
      ]
     },
     "metadata": {},
     "output_type": "display_data"
    }
   ],
   "source": [
    "spnk.visualize_dense_spn(dense_spn, show_legend=True, transparent=False).show()"
   ]
  },
  {
   "cell_type": "markdown",
   "metadata": {
    "colab_type": "text",
    "id": "kJ1aXZqpmJ2w"
   },
   "source": [
    "You might need to resize the window to make the legend appear in the plot. You can see that sibling nodes with the same scope are grouped by their color. The `*` nodes are the padded nodes that we need to insert to make the tree perfectly balanced. \n",
    "\n",
    "Notice how the ``PermuteAndPadScopes`` layer permutes the very first layer and pads it with two more nodes on the right.\n",
    "\n",
    "The probability of the padded nodes is fixed to 1 and so the above network is equivalent to:\n"
   ]
  },
  {
   "cell_type": "code",
   "execution_count": null,
   "metadata": {
    "colab": {},
    "colab_type": "code",
    "id": "da0zqdEZnfDX"
   },
   "outputs": [],
   "source": [
    "spnk.visualize_dense_spn(dense_spn, show_legend=True, show_padding=False, transparent=False).show()"
   ]
  },
  {
   "cell_type": "markdown",
   "metadata": {
    "colab_type": "text",
    "id": "PURbS6zyrLr4"
   },
   "source": [
    "Of course, if there is no need for padding, then we shouldn't. In the next snippet we have an SPN where we don't need padding to get a perfectly balanced tree."
   ]
  },
  {
   "cell_type": "code",
   "execution_count": null,
   "metadata": {
    "colab": {},
    "colab_type": "code",
    "id": "M53LuUvYoGrD"
   },
   "outputs": [],
   "source": [
    "# Number of sums per region from bottom to top\n",
    "num_sums_iterable = iter([])  # in this case there are no non-root sum layers\n",
    "\n",
    "leaf = spnk.layers.NormalLeaf(num_components=2)\n",
    "dense_spn = spnk.region_graph_to_dense_spn(\n",
    "    x0_x1_x2, \n",
    "    num_sums_iterable=num_sums_iterable,\n",
    "    leaf_node=leaf,\n",
    "    return_weighted_child_logits=False\n",
    ")\n",
    "spnk.visualize_dense_spn(dense_spn, show_legend=True, transparent=False)"
   ]
  },
  {
   "cell_type": "markdown",
   "metadata": {
    "colab_type": "text",
    "id": "19VGpeiHxJiN"
   },
   "source": [
    "### Large SPNs\n",
    "In practice, you might want to make things larger, for example:"
   ]
  },
  {
   "cell_type": "code",
   "execution_count": null,
   "metadata": {
    "colab": {},
    "colab_type": "code",
    "id": "f4ft2HIIrcb3"
   },
   "outputs": [],
   "source": [
    "import itertools\n",
    "\n",
    "nodes = [spnk.RegionVariable(i) for i in range(32)]\n",
    "\n",
    "while len(nodes) > 1:\n",
    "    next_nodes = []\n",
    "    for i in range(0, len(nodes), 2):\n",
    "        next_nodes.append(spnk.RegionNode([nodes[i], nodes[i + 1]]))\n",
    "    nodes = next_nodes\n",
    "\n",
    "leaf = spnk.layers.NormalLeaf(num_components=2)\n",
    "dense_spn = spnk.region_graph_to_dense_spn(\n",
    "    nodes[0], \n",
    "    num_sums_iterable=itertools.cycle([2]),\n",
    "    leaf_node=leaf,\n",
    "    return_weighted_child_logits=False\n",
    ") \n",
    "spnk.visualize_dense_spn(dense_spn, node_size=16, transparent=False)"
   ]
  }
 ],
 "metadata": {
  "colab": {
   "collapsed_sections": [],
   "name": "libspn-keras Understanding Region SPNs.ipynb",
   "provenance": [],
   "toc_visible": true
  },
  "kernelspec": {
   "display_name": "Python 3",
   "language": "python",
   "name": "python3"
  },
  "language_info": {
   "codemirror_mode": {
    "name": "ipython",
    "version": 3
   },
   "file_extension": ".py",
   "mimetype": "text/x-python",
   "name": "python",
   "nbconvert_exporter": "python",
   "pygments_lexer": "ipython3",
   "version": "3.8.1"
  }
 },
 "nbformat": 4,
 "nbformat_minor": 4
}
