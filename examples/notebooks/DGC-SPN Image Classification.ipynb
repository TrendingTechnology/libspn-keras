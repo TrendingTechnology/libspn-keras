{
 "cells": [
  {
   "cell_type": "markdown",
   "metadata": {
    "colab_type": "text",
    "id": "cw8l-b_NIaBy"
   },
   "source": [
    "# **Image Classification**: A Deep Generalized Convolutional Sum-Product Network (DGC-SPN) with `libspn-keras`\n",
    "Let's go through an example of building complex SPNs with [`libspn-keras`](https://github.com/pronobis/libspn-keras). The layer-based API of the library makes it straightforward to build advanced SPN architectures.\n",
    "\n",
    "First let's set up the dependencies:"
   ]
  },
  {
   "cell_type": "code",
   "execution_count": null,
   "metadata": {},
   "outputs": [],
   "source": [
    "!pip install libspn-keras tensorflow-datasets -q"
   ]
  },
  {
   "cell_type": "markdown",
   "metadata": {
    "colab_type": "text",
    "id": "hM7gCCcdfJ3U"
   },
   "source": [
    "## DGC-SPN\n",
    "A DGC-SPN consists of convolutional product and sum nodes. For the sake of \n",
    "demonstration, we'll use a structure that trains relatively quickly, without worrying too much about the final accuracy of the model. \n",
    "\n",
    "### Setting the Default Sum Operation\n",
    "\n",
    "We'll take the default approach to training deep models for classification through gradient-based minimization of\n",
    "cross-entropy. To ensure our sum operations in the SPN pass down gradients instead of EM signals, we set\n",
    "the default sum operation to `SumOpGradBackprop`. In fact, this is the default setting of `libspn-keras`:"
   ]
  },
  {
   "cell_type": "code",
   "execution_count": null,
   "metadata": {},
   "outputs": [],
   "source": [
    "import libspn_keras as spnk\n",
    "\n",
    "print(spnk.get_default_sum_op())\n",
    "\n",
    "spnk.set_default_sum_op(spnk.SumOpGradBackprop())"
   ]
  },
  {
   "cell_type": "markdown",
   "metadata": {},
   "source": [
    "### Setting the Default Sum Accumulator Initializer\n",
    "\n",
    "In `libspn-keras`, we refer to the unnormalized weights as _accumulators_. These can be represented in linear space or logspace. Setting the ``SumOp`` also configures the default choice of representation space for these accumulators. For example, gradients should be used in the case of _discriminative_ learning and accumulators are then preferrably represented in logspace. This overcomes the need to project the accumulators to $\\mathbb R^+$ after gradient updates, since for log accumulators can take any value in $\\mathbb R$ (whereas linear accumulators are limited to $\\mathbb R^+$).\n",
    "\n",
    "To set the default initial value (which will be transformed to logspace internally if needed), one can use `spnk.set_default_accumulator_initializer`:"
   ]
  },
  {
   "cell_type": "code",
   "execution_count": null,
   "metadata": {},
   "outputs": [],
   "source": [
    "from tensorflow import keras\n",
    "\n",
    "spnk.set_default_accumulator_initializer(\n",
    "    keras.initializers.TruncatedNormal(stddev=0.5, mean=1.0)\n",
    ")"
   ]
  },
  {
   "cell_type": "markdown",
   "source": [
    "### Defining the Architecture\n",
    "We begin by using non-overlapping convolution patches for our first two product layers,\n",
    "since this way we make sure that no scopes overlap between products. \n",
    "\n",
    "For the\n",
    "remainder of the product layers, we'll use *exponentially increasing dilation rates*. By doing so, we have\n",
    "'overlapping' patches that still yield a valid SPN. These exponentially increasing dilation rates for convolutional SPNs were first\n",
    "introduced in [this paper](https://arxiv.org/abs/1902.06155)."
   ],
   "metadata": {
    "collapsed": false
   }
  },
  {
   "cell_type": "code",
   "execution_count": null,
   "outputs": [],
   "source": [
    "sum_product_network = keras.Sequential([\n",
    "  spnk.layers.NormalizeStandardScore(input_shape=(28, 28, 1)),\n",
    "  spnk.layers.NormalLeaf(\n",
    "      num_components=16, \n",
    "      location_trainable=True,\n",
    "      location_initializer=keras.initializers.TruncatedNormal(\n",
    "          stddev=1.0, mean=0.0)\n",
    "  ),\n",
    "  # Non-overlapping products\n",
    "  spnk.layers.Conv2DProduct(\n",
    "      depthwise=True, \n",
    "      strides=[2, 2], \n",
    "      dilations=[1, 1], \n",
    "      kernel_size=[2, 2],\n",
    "      padding='valid'\n",
    "  ),\n",
    "  spnk.layers.Local2DSum(num_sums=16),\n",
    "  # Non-overlapping products\n",
    "  spnk.layers.Conv2DProduct(\n",
    "      depthwise=True, \n",
    "      strides=[2, 2], \n",
    "      dilations=[1, 1], \n",
    "      kernel_size=[2, 2],\n",
    "      padding='valid'\n",
    "  ),\n",
    "  spnk.layers.Local2DSum(num_sums=32),\n",
    "  # Overlapping products, starting at dilations [1, 1]\n",
    "  spnk.layers.Conv2DProduct(\n",
    "      depthwise=True, \n",
    "      strides=[1, 1], \n",
    "      dilations=[1, 1], \n",
    "      kernel_size=[2, 2],\n",
    "      padding='full'\n",
    "  ),\n",
    "  spnk.layers.Local2DSum(num_sums=32),\n",
    "  # Overlapping products, with dilations [2, 2] and full padding\n",
    "  spnk.layers.Conv2DProduct(\n",
    "      depthwise=True, \n",
    "      strides=[1, 1], \n",
    "      dilations=[2, 2], \n",
    "      kernel_size=[2, 2],\n",
    "      padding='full'\n",
    "  ),\n",
    "  spnk.layers.Local2DSum(num_sums=64),\n",
    "  # Overlapping products, with dilations [2, 2] and full padding\n",
    "  spnk.layers.Conv2DProduct(\n",
    "      depthwise=True, \n",
    "      strides=[1, 1], \n",
    "      dilations=[4, 4], \n",
    "      kernel_size=[2, 2],\n",
    "      padding='full'\n",
    "  ),\n",
    "  spnk.layers.Local2DSum(num_sums=64),\n",
    "  # Overlapping products, with dilations [2, 2] and 'final' padding to combine \n",
    "  # all scopes\n",
    "  spnk.layers.Conv2DProduct(\n",
    "      depthwise=True, \n",
    "      strides=[1, 1], \n",
    "      dilations=[8, 8], \n",
    "      kernel_size=[2, 2],\n",
    "      padding='final'\n",
    "  ),\n",
    "  spnk.layers.SpatialToRegions(),\n",
    "  # Class roots\n",
    "  spnk.layers.DenseSum(num_sums=10),\n",
    "  spnk.layers.RootSum(return_weighted_child_logits=True)\n",
    "])\n",
    "\n",
    "sum_product_network.summary()"
   ],
   "metadata": {
    "collapsed": false,
    "pycharm": {
     "name": "#%%\n"
    }
   }
  },
  {
   "cell_type": "markdown",
   "metadata": {
    "pycharm": {
     "name": "#%% md\n"
    }
   },
   "source": [
    "### Setting up a `tf.Dataset` with `tensorflow_datasets`\n",
    "Then, we'll configure a train set and a test set using `tensorflow_datasets`. As first suggested in the work by [Poon and Domingos](https://arxiv.org/abs/1202.3732), we whiten each sample by subtracting the mean and dividing by the\n",
    "standard devation."
   ]
  },
  {
   "cell_type": "code",
   "execution_count": null,
   "metadata": {
    "colab": {
     "base_uri": "https://localhost:8080/",
     "height": 697
    },
    "colab_type": "code",
    "id": "aADN6sXCzrea",
    "outputId": "4b7cdd65-959c-4ab1-eda6-1f66a48b011d",
    "pycharm": {
     "name": "#%%\n"
    }
   },
   "outputs": [],
   "source": [
    "sum_product_network = keras.Sequential([\n",
    "  spnk.layers.NormalizeStandardScore(input_shape=(28, 28, 1)),\n",
    "  spnk.layers.NormalLeaf(\n",
    "      num_components=16, \n",
    "      location_trainable=True,\n",
    "      location_initializer=keras.initializers.TruncatedNormal(\n",
    "          stddev=1.0, mean=0.0)\n",
    "  ),\n",
    "  # Non-overlapping products\n",
    "  spnk.layers.Conv2DProduct(\n",
    "      depthwise=True, \n",
    "      strides=[2, 2], \n",
    "      dilations=[1, 1], \n",
    "      kernel_size=[2, 2],\n",
    "      padding='valid'\n",
    "  ),\n",
    "  spnk.layers.Local2DSum(num_sums=16),\n",
    "  # Non-overlapping products\n",
    "  spnk.layers.Conv2DProduct(\n",
    "      depthwise=True, \n",
    "      strides=[2, 2], \n",
    "      dilations=[1, 1], \n",
    "      kernel_size=[2, 2],\n",
    "      padding='valid'\n",
    "  ),\n",
    "  spnk.layers.Local2DSum(num_sums=32),\n",
    "  # Overlapping products, starting at dilations [1, 1]\n",
    "  spnk.layers.Conv2DProduct(\n",
    "      depthwise=True, \n",
    "      strides=[1, 1], \n",
    "      dilations=[1, 1], \n",
    "      kernel_size=[2, 2],\n",
    "      padding='full'\n",
    "  ),\n",
    "  spnk.layers.Local2DSum(num_sums=32),\n",
    "  # Overlapping products, with dilations [2, 2] and full padding\n",
    "  spnk.layers.Conv2DProduct(\n",
    "      depthwise=True, \n",
    "      strides=[1, 1], \n",
    "      dilations=[2, 2], \n",
    "      kernel_size=[2, 2],\n",
    "      padding='full'\n",
    "  ),\n",
    "  spnk.layers.Local2DSum(num_sums=64),\n",
    "  # Overlapping products, with dilations [2, 2] and full padding\n",
    "  spnk.layers.Conv2DProduct(\n",
    "      depthwise=True, \n",
    "      strides=[1, 1], \n",
    "      dilations=[4, 4], \n",
    "      kernel_size=[2, 2],\n",
    "      padding='full'\n",
    "  ),\n",
    "  spnk.layers.Local2DSum(num_sums=64),\n",
    "  # Overlapping products, with dilations [2, 2] and 'final' padding to combine \n",
    "  # all scopes\n",
    "  spnk.layers.Conv2DProduct(\n",
    "      depthwise=True, \n",
    "      strides=[1, 1], \n",
    "      dilations=[8, 8], \n",
    "      kernel_size=[2, 2],\n",
    "      padding='final'\n",
    "  ),\n",
    "  spnk.layers.SpatialToRegions(),\n",
    "  # Class roots\n",
    "  spnk.layers.DenseSum(num_sums=10),\n",
    "  spnk.layers.RootSum(return_weighted_child_logits=True)\n",
    "])\n",
    "\n",
    "sum_product_network.summary()"
   ]
  },
  {
   "cell_type": "markdown",
   "metadata": {
    "colab_type": "text",
    "id": "LXN945AmcvNh",
    "pycharm": {
     "name": "#%% md\n"
    }
   },
   "source": [
    "### Setting up a `tf.Dataset` with `tensorflow_datasets`\n",
    "Then, we'll configure a train set and a test set using `tensorflow_datasets`. As first suggested in the work by [Poon and Domingos](https://arxiv.org/abs/1202.3732), we whiten each sample by subtracting the mean and dividing by the\n",
    "standard devation."
   ]
  },
  {
   "cell_type": "code",
   "execution_count": null,
   "metadata": {
    "colab": {
     "base_uri": "https://localhost:8080/",
     "height": 202,
     "referenced_widgets": [
      "a981405eb90a4a1c93f5b175d9e5e44d",
      "06417c5e2ee741939430d3771e8203a0",
      "234b6bfff69a430997e56b333c8123ca",
      "1e571081dff943a89e5b00d90aad8611",
      "2e80ca0b6f84468b94d15752522e0e25",
      "a4ce48ee9fe045caa33fe9f5051a9ffa",
      "2663ac11587e488196eea584031d5a9c",
      "c7caaa130ade44c3ae3c934fa6132e64"
     ]
    },
    "colab_type": "code",
    "id": "wjmtjHUvct-q",
    "outputId": "6b343eb1-cf0c-4353-a3a9-800d8e793756",
    "pycharm": {
     "name": "#%%\n"
    }
   },
   "outputs": [],
   "source": [
    "import tensorflow_datasets as tfds\n",
    "\n",
    "batch_size = 32\n",
    "\n",
    "mnist_train = (\n",
    "    tfds.load(name=\"mnist\", split=\"train\", as_supervised=True)\n",
    "    .shuffle(1024)\n",
    "    .batch(batch_size)\n",
    ")\n",
    "\n",
    "mnist_test = (\n",
    "    tfds.load(name=\"mnist\", split=\"test\", as_supervised=True)\n",
    "    .batch(100)\n",
    ")"
   ]
  },
  {
   "cell_type": "markdown",
   "metadata": {},
   "source": [
    "### Configuring the remaining training components\n",
    "Now that we have an SPN that produces logits for each class at it root, we can attach a `SparseCategoricalCrossEntropy` loss. Note that we need `from_logits=True` since the SPN computes its outputs in log-space!"
   ]
  },
  {
   "cell_type": "markdown",
   "metadata": {
    "colab_type": "text",
    "id": "EpW4_ZRIdO5l"
   },
   "source": [
    "optimizer = keras.optimizers.Adam(learning_rate=1e-2)\n",
    "metrics = [keras.metrics.SparseCategoricalAccuracy()]\n",
    "loss = keras.losses.SparseCategoricalCrossentropy(from_logits=True)\n",
    "\n",
    "sum_product_network.compile(loss=loss, metrics=metrics, optimizer=optimizer)"
   ]
  },
  {
   "cell_type": "code",
   "execution_count": null,
   "metadata": {
    "colab": {},
    "colab_type": "code",
    "id": "8b20-VDbxbr7"
   },
   "outputs": [],
   "source": [
    "optimizer = keras.optimizers.Adam(learning_rate=1e-2)\n",
    "metrics = [keras.metrics.SparseCategoricalAccuracy()]\n",
    "loss = keras.losses.SparseCategoricalCrossentropy(from_logits=True)\n",
    "\n",
    "sum_product_network.compile(loss=loss, metrics=metrics, optimizer=optimizer)"
   ]
  },
  {
   "cell_type": "markdown",
   "metadata": {
    "colab_type": "text",
    "id": "h3cQ2B8NdvK7"
   },
   "source": [
    "### Training the SPN\n",
    "We can simply use the `.fit` function that comes with Keras and pass our `tf.data.Dataset` to it to train!"
   ]
  },
  {
   "cell_type": "code",
   "execution_count": null,
   "metadata": {
    "colab": {
     "base_uri": "https://localhost:8080/",
     "height": 221
    },
    "colab_type": "code",
    "id": "ntIS2OEbdnku",
    "outputId": "68607162-7b52-4756-a893-f3a0d943b2b5"
   },
   "outputs": [],
   "source": [
    "sum_product_network.fit(mnist_train, epochs=5)\n",
    "sum_product_network.evaluate(mnist_test)"
   ]
  },
  {
   "cell_type": "markdown",
   "metadata": {
    "colab_type": "text",
    "id": "2HH4yekrd-me"
   },
   "source": [
    "### Storing the SPN\n",
    "Finally, we might want to store our SPN, this is again a piece of cake using the `.save_weights` method of `tf.keras.models.Sequential`:"
   ]
  },
  {
   "cell_type": "code",
   "execution_count": null,
   "metadata": {
    "colab": {},
    "colab_type": "code",
    "id": "Hg8eHcl5eStF"
   },
   "outputs": [],
   "source": [
    "sum_product_network.save_weights('spn_weights.h5')"
   ]
  }
 ],
 "metadata": {
  "accelerator": "GPU",
  "colab": {
   "collapsed_sections": [],
   "name": "libspn-keras DGC-SPN image classification tutorial.ipynb",
   "provenance": [],
   "toc_visible": true
  },
  "kernelspec": {
   "display_name": "Python 3",
   "language": "python",
   "name": "python3"
  },
  "language_info": {
   "codemirror_mode": {
    "name": "ipython",
    "version": 3
   },
   "file_extension": ".py",
   "mimetype": "text/x-python",
   "name": "python",
   "nbconvert_exporter": "python",
   "pygments_lexer": "ipython3",
   "version": "3.8.1"
  },
  "widgets": {
   "application/vnd.jupyter.widget-state+json": {
    "06417c5e2ee741939430d3771e8203a0": {
     "model_module": "@jupyter-widgets/base",
     "model_name": "LayoutModel",
     "state": {
      "_model_module": "@jupyter-widgets/base",
      "_model_module_version": "1.2.0",
      "_model_name": "LayoutModel",
      "_view_count": null,
      "_view_module": "@jupyter-widgets/base",
      "_view_module_version": "1.2.0",
      "_view_name": "LayoutView",
      "align_content": null,
      "align_items": null,
      "align_self": null,
      "border": null,
      "bottom": null,
      "display": null,
      "flex": null,
      "flex_flow": null,
      "grid_area": null,
      "grid_auto_columns": null,
      "grid_auto_flow": null,
      "grid_auto_rows": null,
      "grid_column": null,
      "grid_gap": null,
      "grid_row": null,
      "grid_template_areas": null,
      "grid_template_columns": null,
      "grid_template_rows": null,
      "height": null,
      "justify_content": null,
      "justify_items": null,
      "left": null,
      "margin": null,
      "max_height": null,
      "max_width": null,
      "min_height": null,
      "min_width": null,
      "object_fit": null,
      "object_position": null,
      "order": null,
      "overflow": null,
      "overflow_x": null,
      "overflow_y": null,
      "padding": null,
      "right": null,
      "top": null,
      "visibility": null,
      "width": null
     }
    },
    "1e571081dff943a89e5b00d90aad8611": {
     "model_module": "@jupyter-widgets/controls",
     "model_name": "HTMLModel",
     "state": {
      "_dom_classes": [],
      "_model_module": "@jupyter-widgets/controls",
      "_model_module_version": "1.5.0",
      "_model_name": "HTMLModel",
      "_view_count": null,
      "_view_module": "@jupyter-widgets/controls",
      "_view_module_version": "1.5.0",
      "_view_name": "HTMLView",
      "description": "",
      "description_tooltip": null,
      "layout": "IPY_MODEL_c7caaa130ade44c3ae3c934fa6132e64",
      "placeholder": "​",
      "style": "IPY_MODEL_2663ac11587e488196eea584031d5a9c",
      "value": " 4/4 [00:01&lt;00:00,  2.48 file/s]"
     }
    },
    "234b6bfff69a430997e56b333c8123ca": {
     "model_module": "@jupyter-widgets/controls",
     "model_name": "FloatProgressModel",
     "state": {
      "_dom_classes": [],
      "_model_module": "@jupyter-widgets/controls",
      "_model_module_version": "1.5.0",
      "_model_name": "FloatProgressModel",
      "_view_count": null,
      "_view_module": "@jupyter-widgets/controls",
      "_view_module_version": "1.5.0",
      "_view_name": "ProgressView",
      "bar_style": "success",
      "description": "Dl Completed...: 100%",
      "description_tooltip": null,
      "layout": "IPY_MODEL_a4ce48ee9fe045caa33fe9f5051a9ffa",
      "max": 4,
      "min": 0,
      "orientation": "horizontal",
      "style": "IPY_MODEL_2e80ca0b6f84468b94d15752522e0e25",
      "value": 4
     }
    },
    "2663ac11587e488196eea584031d5a9c": {
     "model_module": "@jupyter-widgets/controls",
     "model_name": "DescriptionStyleModel",
     "state": {
      "_model_module": "@jupyter-widgets/controls",
      "_model_module_version": "1.5.0",
      "_model_name": "DescriptionStyleModel",
      "_view_count": null,
      "_view_module": "@jupyter-widgets/base",
      "_view_module_version": "1.2.0",
      "_view_name": "StyleView",
      "description_width": ""
     }
    },
    "2e80ca0b6f84468b94d15752522e0e25": {
     "model_module": "@jupyter-widgets/controls",
     "model_name": "ProgressStyleModel",
     "state": {
      "_model_module": "@jupyter-widgets/controls",
      "_model_module_version": "1.5.0",
      "_model_name": "ProgressStyleModel",
      "_view_count": null,
      "_view_module": "@jupyter-widgets/base",
      "_view_module_version": "1.2.0",
      "_view_name": "StyleView",
      "bar_color": null,
      "description_width": "initial"
     }
    },
    "a4ce48ee9fe045caa33fe9f5051a9ffa": {
     "model_module": "@jupyter-widgets/base",
     "model_name": "LayoutModel",
     "state": {
      "_model_module": "@jupyter-widgets/base",
      "_model_module_version": "1.2.0",
      "_model_name": "LayoutModel",
      "_view_count": null,
      "_view_module": "@jupyter-widgets/base",
      "_view_module_version": "1.2.0",
      "_view_name": "LayoutView",
      "align_content": null,
      "align_items": null,
      "align_self": null,
      "border": null,
      "bottom": null,
      "display": null,
      "flex": null,
      "flex_flow": null,
      "grid_area": null,
      "grid_auto_columns": null,
      "grid_auto_flow": null,
      "grid_auto_rows": null,
      "grid_column": null,
      "grid_gap": null,
      "grid_row": null,
      "grid_template_areas": null,
      "grid_template_columns": null,
      "grid_template_rows": null,
      "height": null,
      "justify_content": null,
      "justify_items": null,
      "left": null,
      "margin": null,
      "max_height": null,
      "max_width": null,
      "min_height": null,
      "min_width": null,
      "object_fit": null,
      "object_position": null,
      "order": null,
      "overflow": null,
      "overflow_x": null,
      "overflow_y": null,
      "padding": null,
      "right": null,
      "top": null,
      "visibility": null,
      "width": null
     }
    },
    "a981405eb90a4a1c93f5b175d9e5e44d": {
     "model_module": "@jupyter-widgets/controls",
     "model_name": "HBoxModel",
     "state": {
      "_dom_classes": [],
      "_model_module": "@jupyter-widgets/controls",
      "_model_module_version": "1.5.0",
      "_model_name": "HBoxModel",
      "_view_count": null,
      "_view_module": "@jupyter-widgets/controls",
      "_view_module_version": "1.5.0",
      "_view_name": "HBoxView",
      "box_style": "",
      "children": [
       "IPY_MODEL_234b6bfff69a430997e56b333c8123ca",
       "IPY_MODEL_1e571081dff943a89e5b00d90aad8611"
      ],
      "layout": "IPY_MODEL_06417c5e2ee741939430d3771e8203a0"
     }
    },
    "c7caaa130ade44c3ae3c934fa6132e64": {
     "model_module": "@jupyter-widgets/base",
     "model_name": "LayoutModel",
     "state": {
      "_model_module": "@jupyter-widgets/base",
      "_model_module_version": "1.2.0",
      "_model_name": "LayoutModel",
      "_view_count": null,
      "_view_module": "@jupyter-widgets/base",
      "_view_module_version": "1.2.0",
      "_view_name": "LayoutView",
      "align_content": null,
      "align_items": null,
      "align_self": null,
      "border": null,
      "bottom": null,
      "display": null,
      "flex": null,
      "flex_flow": null,
      "grid_area": null,
      "grid_auto_columns": null,
      "grid_auto_flow": null,
      "grid_auto_rows": null,
      "grid_column": null,
      "grid_gap": null,
      "grid_row": null,
      "grid_template_areas": null,
      "grid_template_columns": null,
      "grid_template_rows": null,
      "height": null,
      "justify_content": null,
      "justify_items": null,
      "left": null,
      "margin": null,
      "max_height": null,
      "max_width": null,
      "min_height": null,
      "min_width": null,
      "object_fit": null,
      "object_position": null,
      "order": null,
      "overflow": null,
      "overflow_x": null,
      "overflow_y": null,
      "padding": null,
      "right": null,
      "top": null,
      "visibility": null,
      "width": null
     }
    }
   }
  }
 },
 "nbformat": 4,
 "nbformat_minor": 4
}
