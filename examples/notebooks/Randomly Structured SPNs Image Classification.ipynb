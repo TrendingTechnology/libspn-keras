{
 "cells": [
  {
   "cell_type": "markdown",
   "source": [
    "[![Open In Colab](https://colab.research.google.com/assets/colab-badge.svg)](https://colab.research.google.com/github/pronobis/libspn-keras/blob/master/examples/notebooks/Randomly%20Structured%20SPNs%20Image%20Classification.ipynb)"
   ],
   "metadata": {
    "collapsed": false
   }
  },
  {
   "cell_type": "code",
   "execution_count": null,
   "metadata": {
    "colab": {},
    "colab_type": "code",
    "id": "6VHOrlY7YIB5"
   },
   "outputs": [],
   "source": [
    "!pip install libspn-keras"
   ]
  },
  {
   "cell_type": "markdown",
   "metadata": {
    "colab_type": "text",
    "id": "f1YjjRpGUemQ"
   },
   "source": [
    "# RAT-SPNs\n",
    "Randomized tensor SPNs are SPNs with randomized region graphs. In `libspn-keras` we've made it straightforward to implement such SPNs. For more background on these types of SPNs see the paper _Random Sum-Product Networks:\n",
    "A Simple and Effective Approach to Probabilistic Deep Learning_ by [Peharz et al. (2019)](http://auai.org/uai2019/proceedings/papers/124.pdf)\n",
    "\n",
    "## Defining a `tf.keras.Sequential`\n",
    "We'll define the SPN below:"
   ]
  },
  {
   "cell_type": "code",
   "execution_count": null,
   "metadata": {
    "colab": {},
    "colab_type": "code",
    "id": "V7fqkt3kXpds"
   },
   "outputs": [],
   "source": [
    "import libspn_keras as spnk\n",
    "from tensorflow import keras\n",
    "\n",
    "spnk.set_default_sum_op(spnk.SumOpGradBackprop())\n",
    "spnk.set_default_accumulator_initializer(\n",
    "    keras.initializers.TruncatedNormal(stddev=0.5, mean=1.0)\n",
    ")\n",
    "\n",
    "sum_product_stack = [\n",
    "    # 8 vars\n",
    "    spnk.layers.ReduceProduct(num_factors=8),\n",
    "    spnk.layers.DenseSum(num_sums=8),\n",
    "    # 64 vars\n",
    "    spnk.layers.ReduceProduct(num_factors=8),\n",
    "    spnk.layers.DenseSum(num_sums=8),\n",
    "    # 128 vars\n",
    "    spnk.layers.DenseProduct(num_factors=2),\n",
    "    spnk.layers.DenseSum(num_sums=8),\n",
    "    # 256 vars\n",
    "    spnk.layers.DenseProduct(num_factors=2),\n",
    "    spnk.layers.DenseSum(num_sums=8),\n",
    "    # 512 vars\n",
    "    spnk.layers.DenseProduct(num_factors=2),\n",
    "    spnk.layers.DenseSum(num_sums=8),\n",
    "    # 1024 vars\n",
    "    spnk.layers.DenseProduct(num_factors=2),\n",
    "    spnk.layers.DenseSum(num_sums=1),\n",
    "    spnk.layers.Undecompose(),\n",
    "    spnk.layers.RootSum(return_weighted_child_logits=True)\n",
    "]\n",
    "\n",
    "factors = [\n",
    "  layer.num_factors for layer in sum_product_stack \n",
    "  if isinstance(layer, (spnk.layers.DenseProduct, spnk.layers.ReduceProduct))\n",
    "]\n",
    "\n",
    "location_initializer = keras.initializers.TruncatedNormal(stddev=0.5, mean=0.0)\n",
    "\n",
    "pre_stack = [\n",
    "    spnk.layers.NormalizeStandardScore(input_shape=[784]),\n",
    "    spnk.layers.FlatToRegions(num_decomps=10),\n",
    "    spnk.layers.NormalLeaf(\n",
    "        num_components=32, \n",
    "        location_initializer=location_initializer,\n",
    "    ),\n",
    "    spnk.layers.PermuteAndPadScopesRandom(factors=factors)\n",
    "]\n",
    "\n",
    "rat_spn = keras.Sequential(pre_stack + sum_product_stack)\n",
    "\n",
    "rat_spn.summary()"
   ]
  },
  {
   "cell_type": "markdown",
   "metadata": {
    "colab_type": "text",
    "id": "IuPhFWKZYI2X"
   },
   "source": [
    "## Preparing the data\n",
    "We'll use `tensorflow_datasets` to set up our data."
   ]
  },
  {
   "cell_type": "code",
   "execution_count": null,
   "metadata": {
    "colab": {},
    "colab_type": "code",
    "id": "95G6bQNGal8y"
   },
   "outputs": [],
   "source": [
    "import tensorflow_datasets as tfds\n",
    "import tensorflow as tf\n",
    "\n",
    "batch_size = 128\n",
    "\n",
    "def flatten_img(img, labels):\n",
    "    return tf.reshape(img, [tf.shape(img)[0], -1]), labels\n",
    "\n",
    "mnist_train = tfds.load(name=\"mnist\", split=\"train\", as_supervised=True)\n",
    "mnist_train = (\n",
    "    mnist_train\n",
    "    .shuffle(10_000)\n",
    "    .batch(batch_size)\n",
    "    .map(flatten_img)\n",
    ")\n",
    "\n",
    "mnist_test = tfds.load(name=\"mnist\", split=\"test\", as_supervised=True)\n",
    "mnist_test = mnist_test.batch(100).map(flatten_img)"
   ]
  },
  {
   "cell_type": "markdown",
   "metadata": {
    "colab_type": "text",
    "id": "wiLEEcTiYPxj"
   },
   "source": [
    "## Optimizer, loss and metrics\n",
    "A few other key components are also simply coming from `tensorflow.keras`:"
   ]
  },
  {
   "cell_type": "code",
   "execution_count": null,
   "metadata": {
    "colab": {},
    "colab_type": "code",
    "id": "DEyB-Qu3Vj_O"
   },
   "outputs": [],
   "source": [
    "optimizer = keras.optimizers.Adam(learning_rate=1e-2)\n",
    "metrics = [keras.metrics.SparseCategoricalAccuracy()]\n",
    "loss = keras.losses.SparseCategoricalCrossentropy(from_logits=True)\n",
    "\n",
    "rat_spn.compile(loss=loss, metrics=metrics, optimizer=optimizer)"
   ]
  },
  {
   "cell_type": "markdown",
   "metadata": {
    "colab_type": "text",
    "id": "eKa0vhogZLue"
   },
   "source": [
    "## Training and evaluation\n",
    "We can train and evaluate again using the `tensorflow.keras` interface:"
   ]
  },
  {
   "cell_type": "code",
   "execution_count": null,
   "metadata": {
    "colab": {},
    "colab_type": "code",
    "id": "vp4F9lKdVusz"
   },
   "outputs": [],
   "source": [
    "rat_spn.fit(mnist_train, epochs=10)\n",
    "\n",
    "rat_spn.evaluate(mnist_test)"
   ]
  }
 ],
 "metadata": {
  "colab": {
   "collapsed_sections": [],
   "name": "libspn-keras Randomly Structured SPNs.ipynb",
   "provenance": [],
   "toc_visible": true
  },
  "kernelspec": {
   "display_name": "Python 3",
   "language": "python",
   "name": "python3"
  },
  "language_info": {
   "codemirror_mode": {
    "name": "ipython",
    "version": 3
   },
   "file_extension": ".py",
   "mimetype": "text/x-python",
   "name": "python",
   "nbconvert_exporter": "python",
   "pygments_lexer": "ipython3",
   "version": "3.8.1"
  }
 },
 "nbformat": 4,
 "nbformat_minor": 4
}
