{
 "cells": [
  {
   "cell_type": "code",
   "execution_count": 1,
   "metadata": {
    "collapsed": true
   },
   "outputs": [],
   "source": [
    "import libspn as spn\n",
    "import tensorflow as tf\n",
    "import numpy as np\n",
    "import matplotlib.pyplot as plt\n",
    "import scipy as scp"
   ]
  },
  {
   "cell_type": "markdown",
   "metadata": {},
   "source": [
    "# Params"
   ]
  },
  {
   "cell_type": "markdown",
   "metadata": {},
   "source": [
    "### Structure"
   ]
  },
  {
   "cell_type": "code",
   "execution_count": 2,
   "metadata": {
    "collapsed": true
   },
   "outputs": [],
   "source": [
    "# Type of input distributions for dense generator\n",
    "input_dist = spn.DenseSPNGenerator.InputDist.MIXTURE\n",
    "\n",
    "num_decomps=1\n",
    "num_subsets=5\n",
    "num_mixtures=2\n",
    "\n",
    "# Number of input mixtures for dense generator\n",
    "num_input_mixtures = 2"
   ]
  },
  {
   "cell_type": "markdown",
   "metadata": {},
   "source": [
    "### Learning"
   ]
  },
  {
   "cell_type": "code",
   "execution_count": 3,
   "metadata": {
    "collapsed": true
   },
   "outputs": [],
   "source": [
    "# Additive smoothing during learning\n",
    "additive_smoothing=100\n",
    "min_additive_smoothing=1\n",
    "smoothing_decay=0.2\n",
    "\n",
    "# Weight initialization\n",
    "# weight_init_value = 1\n",
    "weight_init_value = spn.ValueType.RANDOM_UNIFORM(10, 11)\n",
    "\n",
    "# Type of inference during upward pass of learning\n",
    "value_inference_type = spn.InferenceType.MARGINAL"
   ]
  },
  {
   "cell_type": "markdown",
   "metadata": {},
   "source": [
    "# Training Set"
   ]
  },
  {
   "cell_type": "code",
   "execution_count": 4,
   "metadata": {
    "collapsed": false
   },
   "outputs": [
    {
     "name": "stdout",
     "output_type": "stream",
     "text": [
      "Extracting /home/jos/datasets/mnist/train-images-idx3-ubyte.gz\n",
      "Extracting /home/jos/datasets/mnist/train-labels-idx1-ubyte.gz\n",
      "Extracting /home/jos/datasets/mnist/t10k-images-idx3-ubyte.gz\n",
      "Extracting /home/jos/datasets/mnist/t10k-labels-idx1-ubyte.gz\n"
     ]
    }
   ],
   "source": [
    "datasets = tf.contrib.learn.datasets.mnist.read_data_sets(\"/home/jos/datasets/mnist\")"
   ]
  },
  {
   "cell_type": "code",
   "execution_count": 5,
   "metadata": {
    "collapsed": true
   },
   "outputs": [],
   "source": [
    "def show_mnist(img):\n",
    "    img=np.reshape(img, (14,14))\n",
    "    plt.imshow(img, interpolation='none')\n",
    "    plt.show()"
   ]
  },
  {
   "cell_type": "markdown",
   "metadata": {},
   "source": [
    "### Process data"
   ]
  },
  {
   "cell_type": "code",
   "execution_count": 6,
   "metadata": {
    "collapsed": true
   },
   "outputs": [],
   "source": [
    "def process_set(data):\n",
    "#     threshold = 20\n",
    "    images = np.reshape(data, (-1, 28,28))\n",
    "    resized=[]\n",
    "    for i in range(images.shape[0]):\n",
    "        resized.append((scp.misc.imresize(images[i, :, :], 0.5).ravel()))\n",
    "    images=np.vstack((resized - np.mean(resized)) / np.std(resized))\n",
    "    return images"
   ]
  },
  {
   "cell_type": "code",
   "execution_count": 7,
   "metadata": {
    "collapsed": false
   },
   "outputs": [
    {
     "name": "stderr",
     "output_type": "stream",
     "text": [
      "/home/jos/.local/lib/python3.5/site-packages/ipykernel_launcher.py:6: DeprecationWarning: `imresize` is deprecated!\n",
      "`imresize` is deprecated in SciPy 1.0.0, and will be removed in 1.2.0.\n",
      "Use ``skimage.transform.resize`` instead.\n",
      "  \n"
     ]
    }
   ],
   "source": [
    "train_images = process_set(datasets.train.images)\n",
    "test_images = process_set(datasets.test.images)\n",
    "train_labels = datasets.train.labels\n",
    "test_labels = datasets.test.labels\n",
    "validation_labels = datasets.validation.labels"
   ]
  },
  {
   "cell_type": "code",
   "execution_count": 8,
   "metadata": {
    "collapsed": false
   },
   "outputs": [
    {
     "data": {
      "image/png": "[encoded data removed]",
      "text/plain": [
       "<matplotlib.figure.Figure at 0x7f8c2f24bba8>"
      ]
     },
     "metadata": {},
     "output_type": "display_data"
    }
   ],
   "source": [
    "show_mnist(train_images[19])"
   ]
  },
  {
   "cell_type": "code",
   "execution_count": 9,
   "metadata": {
    "collapsed": true
   },
   "outputs": [],
   "source": [
    "train_images_0 = train_images[train_labels==0]\n",
    "train_images_1 = train_images[train_labels==1]\n",
    "test_images_0 = test_images[test_labels==0]\n",
    "test_images_1 = test_images[test_labels==1]"
   ]
  },
  {
   "cell_type": "code",
   "execution_count": 10,
   "metadata": {
    "collapsed": false
   },
   "outputs": [
    {
     "name": "stdout",
     "output_type": "stream",
     "text": [
      "(5444, 196)\n"
     ]
    },
    {
     "data": {
      "image/png": "[encoded data removed]",
      "text/plain": [
       "<matplotlib.figure.Figure at 0x7f8c2e5683c8>"
      ]
     },
     "metadata": {},
     "output_type": "display_data"
    },
    {
     "name": "stdout",
     "output_type": "stream",
     "text": [
      "(6179, 196)\n"
     ]
    },
    {
     "data": {
      "image/png": "[encoded data removed]",
      "text/plain": [
       "<matplotlib.figure.Figure at 0x7f8c2f22c7f0>"
      ]
     },
     "metadata": {},
     "output_type": "display_data"
    },
    {
     "name": "stdout",
     "output_type": "stream",
     "text": [
      "(980, 196)\n"
     ]
    },
    {
     "data": {
      "image/png": "[encoded data removed]",
      "text/plain": [
       "<matplotlib.figure.Figure at 0x7f8c2f1e9550>"
      ]
     },
     "metadata": {},
     "output_type": "display_data"
    },
    {
     "name": "stdout",
     "output_type": "stream",
     "text": [
      "(1135, 196)\n"
     ]
    },
    {
     "data": {
      "image/png": "[encoded data removed]",
      "text/plain": [
       "<matplotlib.figure.Figure at 0x7f8c2f1c62b0>"
      ]
     },
     "metadata": {},
     "output_type": "display_data"
    }
   ],
   "source": [
    "print(train_images_0.shape)\n",
    "show_mnist(train_images_0[334])\n",
    "print(train_images_1.shape)\n",
    "show_mnist(train_images_1[22])\n",
    "print(test_images_0.shape)\n",
    "show_mnist(test_images_0[334])\n",
    "print(test_images_1.shape)\n",
    "show_mnist(test_images_1[22])"
   ]
  },
  {
   "cell_type": "markdown",
   "metadata": {},
   "source": [
    "# Generate SPN structure"
   ]
  },
  {
   "cell_type": "code",
   "execution_count": 11,
   "metadata": {
    "collapsed": false
   },
   "outputs": [
    {
     "name": "stdout",
     "output_type": "stream",
     "text": [
      "4936\n"
     ]
    }
   ],
   "source": [
    "gauss_quantiles = spn.GaussianQuantile(num_vars=196, num_components=2)\n",
    "gauss_quantiles.learn_from_data(train_images)\n",
    "dense_gen = spn.DenseSPNGenerator(num_decomps=num_decomps, num_subsets=num_subsets, num_mixtures=num_mixtures, \n",
    "                                  input_dist=input_dist, \n",
    "                                  num_input_mixtures=num_input_mixtures)\n",
    "root0 = dense_gen.generate(gauss_quantiles)\n",
    "root1 = dense_gen.generate(gauss_quantiles)\n",
    "root = spn.Sum(root0, root1)\n",
    "spn.generate_weights(root, init_value=weight_init_value)\n",
    "latent = root.generate_ivs()\n",
    "print(root.get_num_nodes())"
   ]
  },
  {
   "cell_type": "markdown",
   "metadata": {},
   "source": [
    "# Add Learning Ops"
   ]
  },
  {
   "cell_type": "code",
   "execution_count": 12,
   "metadata": {
    "collapsed": false
   },
   "outputs": [
    {
     "name": "stdout",
     "output_type": "stream",
     "text": [
      "WARNING:tensorflow:From /home/jos/spn/libspn/libspn/utils/math.py:277: calling reduce_max (from tensorflow.python.ops.math_ops) with keep_dims is deprecated and will be removed in a future version.\n",
      "Instructions for updating:\n",
      "keep_dims is deprecated, use keepdims instead\n"
     ]
    },
    {
     "name": "stderr",
     "output_type": "stream",
     "text": [
      "[WARNING] [tensorflow:warning] From /home/jos/spn/libspn/libspn/utils/math.py:277: calling reduce_max (from tensorflow.python.ops.math_ops) with keep_dims is deprecated and will be removed in a future version.\n",
      "Instructions for updating:\n",
      "keep_dims is deprecated, use keepdims instead\n"
     ]
    },
    {
     "name": "stdout",
     "output_type": "stream",
     "text": [
      "WARNING:tensorflow:From /home/jos/spn/libspn/libspn/utils/math.py:281: calling reduce_sum (from tensorflow.python.ops.math_ops) with keep_dims is deprecated and will be removed in a future version.\n",
      "Instructions for updating:\n",
      "keep_dims is deprecated, use keepdims instead\n"
     ]
    },
    {
     "name": "stderr",
     "output_type": "stream",
     "text": [
      "[WARNING] [tensorflow:warning] From /home/jos/spn/libspn/libspn/utils/math.py:281: calling reduce_sum (from tensorflow.python.ops.math_ops) with keep_dims is deprecated and will be removed in a future version.\n",
      "Instructions for updating:\n",
      "keep_dims is deprecated, use keepdims instead\n"
     ]
    },
    {
     "name": "stdout",
     "output_type": "stream",
     "text": [
      "WARNING:tensorflow:From /home/jos/spn/libspn/libspn/graph/sum.py:298: calling argmax (from tensorflow.python.ops.math_ops) with dimension is deprecated and will be removed in a future version.\n",
      "Instructions for updating:\n",
      "Use the `axis` argument instead\n"
     ]
    },
    {
     "name": "stderr",
     "output_type": "stream",
     "text": [
      "[WARNING] [tensorflow:warning] From /home/jos/spn/libspn/libspn/graph/sum.py:298: calling argmax (from tensorflow.python.ops.math_ops) with dimension is deprecated and will be removed in a future version.\n",
      "Instructions for updating:\n",
      "Use the `axis` argument instead\n"
     ]
    }
   ],
   "source": [
    "additive_smoothing_var = tf.Variable(additive_smoothing, dtype=spn.conf.dtype)\n",
    "learning = spn.EMLearning(root, log=True, value_inference_type = value_inference_type,\n",
    "                          additive_smoothing=additive_smoothing_var)\n",
    "init_weights = spn.initialize_weights(root)\n",
    "reset_accumulators = learning.reset_accumulators()\n",
    "accumulate_updates = learning.accumulate_updates()\n",
    "update_spn = learning.update_spn()\n",
    "train_likelihood=learning.value.values[root]\n",
    "avg_train_likelihood = tf.reduce_mean(train_likelihood)"
   ]
  },
  {
   "cell_type": "markdown",
   "metadata": {},
   "source": [
    "# Run Training"
   ]
  },
  {
   "cell_type": "code",
   "execution_count": 13,
   "metadata": {
    "collapsed": false
   },
   "outputs": [],
   "source": [
    "sess=None"
   ]
  },
  {
   "cell_type": "code",
   "execution_count": 14,
   "metadata": {
    "collapsed": false
   },
   "outputs": [
    {
     "name": "stdout",
     "output_type": "stream",
     "text": [
      "EPOCH 0 BATCH 0 SAMPLES 0 11623\n",
      "Smoothing:  100.0\n",
      "Avg likelihood (this batch data on previous weights): 728.7618\n",
      "Avg likelihood: 728.7617797851562\n",
      "EPOCH 1 BATCH 0 SAMPLES 0 11623\n",
      "Smoothing:  81.87308\n",
      "Avg likelihood (this batch data on previous weights): 803.22284\n",
      "Avg likelihood: 803.2228393554688\n",
      "EPOCH 2 BATCH 0 SAMPLES 0 11623\n",
      "Smoothing:  67.032005\n",
      "Avg likelihood (this batch data on previous weights): 805.0444\n",
      "Avg likelihood: 805.0443725585938\n",
      "EPOCH 3 BATCH 0 SAMPLES 0 11623\n",
      "Smoothing:  54.881165\n",
      "Avg likelihood (this batch data on previous weights): 806.31647\n",
      "Avg likelihood: 806.3164672851562\n",
      "EPOCH 4 BATCH 0 SAMPLES 0 11623\n",
      "Smoothing:  44.932896\n",
      "Avg likelihood (this batch data on previous weights): 807.3554\n",
      "Avg likelihood: 807.3554077148438\n",
      "EPOCH 5 BATCH 0 SAMPLES 0 11623\n",
      "Smoothing:  36.787945\n",
      "Avg likelihood (this batch data on previous weights): 808.2323\n",
      "Avg likelihood: 808.2322998046875\n",
      "EPOCH 6 BATCH 0 SAMPLES 0 11623\n",
      "Smoothing:  30.119421\n",
      "Avg likelihood (this batch data on previous weights): 808.97943\n",
      "Avg likelihood: 808.9794311523438\n",
      "EPOCH 7 BATCH 0 SAMPLES 0 11623\n",
      "Smoothing:  24.659697\n",
      "Avg likelihood (this batch data on previous weights): 809.61035\n",
      "Avg likelihood: 809.6103515625\n",
      "EPOCH 8 BATCH 0 SAMPLES 0 11623\n",
      "Smoothing:  20.189651\n",
      "Avg likelihood (this batch data on previous weights): 810.14594\n",
      "Avg likelihood: 810.1459350585938\n",
      "EPOCH 9 BATCH 0 SAMPLES 0 11623\n",
      "Smoothing:  16.529888\n",
      "Avg likelihood (this batch data on previous weights): 810.5978\n",
      "Avg likelihood: 810.5977783203125\n",
      "EPOCH 10 BATCH 0 SAMPLES 0 11623\n",
      "Smoothing:  13.533528\n",
      "Avg likelihood (this batch data on previous weights): 810.9846\n",
      "Avg likelihood: 810.984619140625\n",
      "EPOCH 11 BATCH 0 SAMPLES 0 11623\n",
      "Smoothing:  11.080316\n",
      "Avg likelihood (this batch data on previous weights): 811.3357\n",
      "Avg likelihood: 811.335693359375\n",
      "EPOCH 12 BATCH 0 SAMPLES 0 11623\n",
      "Smoothing:  9.071795\n",
      "Avg likelihood (this batch data on previous weights): 811.67114\n",
      "Avg likelihood: 811.671142578125\n",
      "EPOCH 13 BATCH 0 SAMPLES 0 11623\n",
      "Smoothing:  7.4273577\n",
      "Avg likelihood (this batch data on previous weights): 811.99976\n",
      "Avg likelihood: 811.999755859375\n",
      "EPOCH 14 BATCH 0 SAMPLES 0 11623\n",
      "Smoothing:  6.081006\n",
      "Avg likelihood (this batch data on previous weights): 812.4058\n",
      "Avg likelihood: 812.4058227539062\n",
      "EPOCH 15 BATCH 0 SAMPLES 0 11623\n",
      "Smoothing:  4.978707\n",
      "Avg likelihood (this batch data on previous weights): 812.92773\n",
      "Avg likelihood: 812.927734375\n",
      "EPOCH 16 BATCH 0 SAMPLES 0 11623\n",
      "Smoothing:  4.0762205\n",
      "Avg likelihood (this batch data on previous weights): 813.3812\n",
      "Avg likelihood: 813.3812255859375\n",
      "EPOCH 17 BATCH 0 SAMPLES 0 11623\n",
      "Smoothing:  3.337327\n",
      "Avg likelihood (this batch data on previous weights): 813.692\n",
      "Avg likelihood: 813.6920166015625\n",
      "EPOCH 18 BATCH 0 SAMPLES 0 11623\n",
      "Smoothing:  2.7323723\n",
      "Avg likelihood (this batch data on previous weights): 813.94855\n",
      "Avg likelihood: 813.9485473632812\n",
      "EPOCH 19 BATCH 0 SAMPLES 0 11623\n",
      "Smoothing:  2.2370772\n",
      "Avg likelihood (this batch data on previous weights): 814.2256\n",
      "Avg likelihood: 814.2255859375\n",
      "EPOCH 20 BATCH 0 SAMPLES 0 11623\n",
      "Smoothing:  1.8315638\n",
      "Avg likelihood (this batch data on previous weights): 814.42004\n",
      "Avg likelihood: 814.4200439453125\n",
      "EPOCH 21 BATCH 0 SAMPLES 0 11623\n",
      "Smoothing:  1.4995577\n",
      "Avg likelihood (this batch data on previous weights): 814.60004\n",
      "Avg likelihood: 814.6000366210938\n",
      "EPOCH 22 BATCH 0 SAMPLES 0 11623\n",
      "Smoothing:  1.227734\n",
      "Avg likelihood (this batch data on previous weights): 814.71094\n",
      "Avg likelihood: 814.7109375\n",
      "EPOCH 23 BATCH 0 SAMPLES 0 11623\n",
      "Smoothing:  1.0051836\n",
      "Avg likelihood (this batch data on previous weights): 814.8196\n",
      "Avg likelihood: 814.819580078125\n",
      "EPOCH 24 BATCH 0 SAMPLES 0 11623\n",
      "Smoothing:  1.0\n",
      "Avg likelihood (this batch data on previous weights): 814.9057\n",
      "Avg likelihood: 814.9057006835938\n"
     ]
    }
   ],
   "source": [
    "train_set = np.concatenate([train_images_0, train_images_1], 0)\n",
    "train_labels = np.concatenate([np.ones((train_images_0.shape[0]))*0, \n",
    "                               np.ones((train_images_1.shape[0]))*1])\n",
    "train_labels=np.reshape(train_labels, (-1, 1))\n",
    "\n",
    "if sess is not None:\n",
    "    sess.close()\n",
    "sess = tf.Session()\n",
    "\n",
    "sess.run(init_weights)\n",
    "sess.run(reset_accumulators)\n",
    "\n",
    "num_batches=1\n",
    "batch_size = train_set.shape[0] // num_batches\n",
    "prev_likelihood = 100\n",
    "likelihood = 0\n",
    "epoch = 0\n",
    "while abs(prev_likelihood - likelihood)>0.1:\n",
    "    prev_likelihood=likelihood\n",
    "    likelihoods = []\n",
    "    for batch in range(num_batches):\n",
    "        start = (batch)*batch_size\n",
    "        stop = (batch+1)*batch_size\n",
    "        print(\"EPOCH\", epoch, \"BATCH\", batch, \"SAMPLES\", start, stop)\n",
    "        # Adjust smoothing\n",
    "        ads=max(np.exp(-epoch*smoothing_decay)*additive_smoothing, min_additive_smoothing)\n",
    "        sess.run(additive_smoothing_var.assign(ads))\n",
    "        print(\"Smoothing: \", sess.run(additive_smoothing_var)) \n",
    "        # Run accumulate_updates\n",
    "        train_likelihoods_arr, avg_train_likelihood_val, _, = \\\n",
    "                sess.run([train_likelihood, avg_train_likelihood, accumulate_updates],\n",
    "                        feed_dict={gauss_quantiles: train_set[start:stop],\n",
    "                                   latent: train_labels[start:stop]})\n",
    "        # Print avg likelihood of this batch data on previous batch weights\n",
    "        print(\"Avg likelihood (this batch data on previous weights): %s\" % (avg_train_likelihood_val))\n",
    "        likelihoods.append(avg_train_likelihood_val)\n",
    "        # Update weights\n",
    "        sess.run(update_spn)\n",
    "    likelihood = sum(likelihoods) / len(likelihoods)\n",
    "    print(\"Avg likelihood: %s\" % (likelihood))\n",
    "    epoch+=1\n",
    "    sess.run(reset_accumulators)"
   ]
  },
  {
   "cell_type": "markdown",
   "metadata": {},
   "source": [
    "# Generate Testing Ops"
   ]
  },
  {
   "cell_type": "code",
   "execution_count": 15,
   "metadata": {
    "collapsed": true
   },
   "outputs": [],
   "source": [
    "mpe_state_gen = spn.MPEState(log=True, value_inference_type=spn.InferenceType.MPE)"
   ]
  },
  {
   "cell_type": "code",
   "execution_count": 16,
   "metadata": {
    "collapsed": false
   },
   "outputs": [],
   "source": [
    "mpe_gauss_quantiles, mpe_latent = mpe_state_gen.get_state(root, gauss_quantiles, latent)"
   ]
  },
  {
   "cell_type": "markdown",
   "metadata": {},
   "source": [
    "# Run Testing"
   ]
  },
  {
   "cell_type": "markdown",
   "metadata": {},
   "source": [
    "### MPE of the whole network"
   ]
  },
  {
   "cell_type": "code",
   "execution_count": 17,
   "metadata": {
    "collapsed": false
   },
   "outputs": [
    {
     "data": {
      "image/png": "[encoded data removed]",
      "text/plain": [
       "<matplotlib.figure.Figure at 0x7f8b83d06ac8>"
      ]
     },
     "metadata": {},
     "output_type": "display_data"
    },
    {
     "name": "stdout",
     "output_type": "stream",
     "text": [
      "[[1]]\n"
     ]
    }
   ],
   "source": [
    "no_evidence = np.zeros((1, 14 * 14)).astype(np.bool) \n",
    "mpe_gauss_val, mpe_latent_val = sess.run([mpe_gauss_quantiles, mpe_latent], feed_dict={\n",
    "    gauss_quantiles: np.ones((1, 14*14), dtype=int) * -1, latent: [[-1]], gauss_quantiles.evidence: no_evidence})\n",
    "show_mnist(mpe_gauss_val)\n",
    "print(mpe_latent_val)"
   ]
  },
  {
   "cell_type": "markdown",
   "metadata": {},
   "source": [
    "### MPE for 0"
   ]
  },
  {
   "cell_type": "code",
   "execution_count": 20,
   "metadata": {
    "collapsed": false
   },
   "outputs": [
    {
     "data": {
      "image/png": "[encoded data removed]",
      "text/plain": [
       "<matplotlib.figure.Figure at 0x7f8b83eafdd8>"
      ]
     },
     "metadata": {},
     "output_type": "display_data"
    }
   ],
   "source": [
    "mpe_gauss_val, mpe_latent_val = sess.run(\n",
    "    [mpe_gauss_quantiles, mpe_latent], feed_dict={gauss_quantiles: np.ones((1, 14*14), dtype=int) * -1, latent: [[0]], gauss_quantiles.evidence: no_evidence})\n",
    "show_mnist(mpe_gauss_val)\n",
    "print(mpe_latent_val)"
   ]
  },
  {
   "cell_type": "markdown",
   "metadata": {},
   "source": [
    "### MPE for 1"
   ]
  },
  {
   "cell_type": "code",
   "execution_count": 21,
   "metadata": {
    "collapsed": false
   },
   "outputs": [
    {
     "data": {
      "image/png": "[encoded data removed]",
      "text/plain": [
       "<matplotlib.figure.Figure at 0x7f8b83dbb748>"
      ]
     },
     "metadata": {},
     "output_type": "display_data"
    },
    {
     "name": "stdout",
     "output_type": "stream",
     "text": [
      "[[1]]\n"
     ]
    }
   ],
   "source": [
    "mpe_gauss_val, mpe_latent_val = sess.run(\n",
    "    [mpe_gauss_quantiles, mpe_latent], feed_dict={gauss_quantiles: np.ones((1, 14*14), dtype=int) * -1, latent: [[1]], gauss_quantiles.evidence: no_evidence})\n",
    "show_mnist(mpe_gauss_val)\n",
    "print(mpe_latent_val)"
   ]
  },
  {
   "cell_type": "markdown",
   "metadata": {},
   "source": [
    "### Classification of Training Data"
   ]
  },
  {
   "cell_type": "code",
   "execution_count": 22,
   "metadata": {
    "collapsed": false
   },
   "outputs": [
    {
     "data": {
      "text/plain": [
       "0.9960423298632023"
      ]
     },
     "execution_count": 22,
     "metadata": {},
     "output_type": "execute_result"
    }
   ],
   "source": [
    "mpe_latent_val = sess.run([mpe_latent], feed_dict={\n",
    "    gauss_quantiles: train_set, latent: np.ones((train_set.shape[0], 1))*-1})\n",
    "result=(mpe_latent_val==train_labels)\n",
    "np.sum(result) / train_labels.size"
   ]
  },
  {
   "cell_type": "markdown",
   "metadata": {},
   "source": [
    "### Classification of Test Data"
   ]
  },
  {
   "cell_type": "code",
   "execution_count": 42,
   "metadata": {
    "collapsed": true
   },
   "outputs": [],
   "source": [
    "test_set = np.concatenate([test_images_0, test_images_1], 0)\n",
    "test_labels = np.concatenate([np.ones((test_images_0.shape[0]))*0, \n",
    "                               np.ones((test_images_1.shape[0]))*1])\n",
    "test_labels=np.reshape(test_labels, (-1, 1))"
   ]
  },
  {
   "cell_type": "code",
   "execution_count": 43,
   "metadata": {
    "collapsed": false
   },
   "outputs": [
    {
     "data": {
      "text/plain": [
       "0.99763593380614657"
      ]
     },
     "execution_count": 43,
     "metadata": {},
     "output_type": "execute_result"
    }
   ],
   "source": [
    "mpe_latent_val = sess.run([mpe_latent], feed_dict={ivs: test_set, \n",
    "                                                   latent: np.ones((test_set.shape[0], 1))*-1})\n",
    "result=(mpe_latent_val==test_labels)\n",
    "np.sum(result) / test_labels.size"
   ]
  },
  {
   "cell_type": "code",
   "execution_count": null,
   "metadata": {
    "collapsed": true
   },
   "outputs": [],
   "source": []
  }
 ],
 "metadata": {
  "kernelspec": {
   "display_name": "Python 3",
   "language": "python",
   "name": "python3"
  },
  "language_info": {
   "codemirror_mode": {
    "name": "ipython",
    "version": 3
   },
   "file_extension": ".py",
   "mimetype": "text/x-python",
   "name": "python",
   "nbconvert_exporter": "python",
   "pygments_lexer": "ipython3",
   "version": "3.5.2"
  }
 },
 "nbformat": 4,
 "nbformat_minor": 2
}
