{
 "cells": [
  {
   "cell_type": "code",
   "execution_count": 1,
   "metadata": {
    "collapsed": true
   },
   "outputs": [],
   "source": [
    "# import sys\n",
    "# sys.path.append(\"../../\")\n",
    "import libspn as spn\n",
    "import tensorflow as tf\n",
    "import numpy as np\n",
    "import matplotlib.pyplot as plt\n",
    "import scipy as scp"
   ]
  },
  {
   "cell_type": "markdown",
   "metadata": {},
   "source": [
    "# Params"
   ]
  },
  {
   "cell_type": "markdown",
   "metadata": {},
   "source": [
    "### Structure"
   ]
  },
  {
   "cell_type": "code",
   "execution_count": 2,
   "metadata": {
    "collapsed": true
   },
   "outputs": [],
   "source": [
    "# Type of input distributions for dense generator\n",
    "input_dist = spn.DenseSPNGenerator.InputDist.MIXTURE\n",
    "\n",
    "num_decomps=1\n",
    "num_subsets=5\n",
    "num_mixtures=2\n",
    "\n",
    "# Number of input mixtures for dense generator\n",
    "num_input_mixtures = 2"
   ]
  },
  {
   "cell_type": "markdown",
   "metadata": {},
   "source": [
    "### Learning"
   ]
  },
  {
   "cell_type": "code",
   "execution_count": 3,
   "metadata": {
    "collapsed": true
   },
   "outputs": [],
   "source": [
    "# Additive smoothing during learning\n",
    "additive_smoothing=100\n",
    "min_additive_smoothing=1\n",
    "smoothing_decay=0.2\n",
    "\n",
    "# Weight initialization\n",
    "# weight_init_value = 1\n",
    "weight_init_value = spn.ValueType.RANDOM_UNIFORM(10, 11)\n",
    "\n",
    "# Type of inference during upward pass of learning\n",
    "value_inference_type = spn.InferenceType.MARGINAL"
   ]
  },
  {
   "cell_type": "markdown",
   "metadata": {},
   "source": [
    "# Training Set"
   ]
  },
  {
   "cell_type": "code",
   "execution_count": 4,
   "metadata": {
    "collapsed": false
   },
   "outputs": [
    {
     "name": "stdout",
     "output_type": "stream",
     "text": [
      "Extracting /home/jos/datasets/mnist/train-images-idx3-ubyte.gz\n",
      "Extracting /home/jos/datasets/mnist/train-labels-idx1-ubyte.gz\n",
      "Extracting /home/jos/datasets/mnist/t10k-images-idx3-ubyte.gz\n",
      "Extracting /home/jos/datasets/mnist/t10k-labels-idx1-ubyte.gz\n"
     ]
    }
   ],
   "source": [
    "datasets = tf.contrib.learn.datasets.mnist.read_data_sets(\"/home/jos/datasets/mnist\")"
   ]
  },
  {
   "cell_type": "code",
   "execution_count": 5,
   "metadata": {
    "collapsed": true
   },
   "outputs": [],
   "source": [
    "def show_mnist(img):\n",
    "    img=np.reshape(img, (14,14))\n",
    "    plt.imshow(img, interpolation='none', cmap=\"gray\")\n",
    "    plt.show()"
   ]
  },
  {
   "cell_type": "markdown",
   "metadata": {},
   "source": [
    "### Process data"
   ]
  },
  {
   "cell_type": "code",
   "execution_count": 5,
   "metadata": {
    "collapsed": true
   },
   "outputs": [],
   "source": [
    "def process_set(data):\n",
    "#     threshold = 20\n",
    "    images = np.reshape(data, (-1, 28,28))\n",
    "    resized=[]\n",
    "    for i in range(images.shape[0]):\n",
    "        resized.append((scp.misc.imresize(images[i, :, :], 0.5).ravel()))\n",
    "    images=np.vstack((resized - np.mean(resized)) / np.std(resized))\n",
    "    return images"
   ]
  },
  {
   "cell_type": "code",
   "execution_count": 6,
   "metadata": {
    "collapsed": false
   },
   "outputs": [
    {
     "name": "stderr",
     "output_type": "stream",
     "text": [
      "/home/jos/.local/lib/python3.5/site-packages/ipykernel_launcher.py:6: DeprecationWarning: `imresize` is deprecated!\n",
      "`imresize` is deprecated in SciPy 1.0.0, and will be removed in 1.2.0.\n",
      "Use ``skimage.transform.resize`` instead.\n",
      "  \n"
     ]
    }
   ],
   "source": [
    "train_images = process_set(datasets.train.images)\n",
    "test_images = process_set(datasets.test.images)\n",
    "train_labels = datasets.train.labels\n",
    "test_labels = datasets.test.labels\n",
    "validation_labels = datasets.validation.labels"
   ]
  },
  {
   "cell_type": "code",
   "execution_count": null,
   "metadata": {
    "collapsed": false
   },
   "outputs": [],
   "source": [
    "show_mnist(train_images[19])"
   ]
  },
  {
   "cell_type": "code",
   "execution_count": 7,
   "metadata": {
    "collapsed": true
   },
   "outputs": [],
   "source": [
    "train_images_0 = train_images[train_labels==0]\n",
    "train_images_1 = train_images[train_labels==1]\n",
    "test_images_0 = test_images[test_labels==0]\n",
    "test_images_1 = test_images[test_labels==1]"
   ]
  },
  {
   "cell_type": "code",
   "execution_count": 8,
   "metadata": {
    "collapsed": false
   },
   "outputs": [
    {
     "ename": "NameError",
     "evalue": "name 'train_images_0' is not defined",
     "output_type": "error",
     "traceback": [
      "\u001b[0;31m---------------------------------------------------------------------------\u001b[0m",
      "\u001b[0;31mNameError\u001b[0m                                 Traceback (most recent call last)",
      "\u001b[0;32m<ipython-input-8-fdd07e34a726>\u001b[0m in \u001b[0;36m<module>\u001b[0;34m()\u001b[0m\n\u001b[0;32m----> 1\u001b[0;31m \u001b[0mprint\u001b[0m\u001b[0;34m(\u001b[0m\u001b[0mtrain_images_0\u001b[0m\u001b[0;34m.\u001b[0m\u001b[0mshape\u001b[0m\u001b[0;34m)\u001b[0m\u001b[0;34m\u001b[0m\u001b[0m\n\u001b[0m\u001b[1;32m      2\u001b[0m \u001b[0mshow_mnist\u001b[0m\u001b[0;34m(\u001b[0m\u001b[0mtrain_images_0\u001b[0m\u001b[0;34m[\u001b[0m\u001b[0;36m334\u001b[0m\u001b[0;34m]\u001b[0m\u001b[0;34m)\u001b[0m\u001b[0;34m\u001b[0m\u001b[0m\n\u001b[1;32m      3\u001b[0m \u001b[0mprint\u001b[0m\u001b[0;34m(\u001b[0m\u001b[0mtrain_images_1\u001b[0m\u001b[0;34m.\u001b[0m\u001b[0mshape\u001b[0m\u001b[0;34m)\u001b[0m\u001b[0;34m\u001b[0m\u001b[0m\n\u001b[1;32m      4\u001b[0m \u001b[0mshow_mnist\u001b[0m\u001b[0;34m(\u001b[0m\u001b[0mtrain_images_1\u001b[0m\u001b[0;34m[\u001b[0m\u001b[0;36m22\u001b[0m\u001b[0;34m]\u001b[0m\u001b[0;34m)\u001b[0m\u001b[0;34m\u001b[0m\u001b[0m\n\u001b[1;32m      5\u001b[0m \u001b[0mprint\u001b[0m\u001b[0;34m(\u001b[0m\u001b[0mtest_images_0\u001b[0m\u001b[0;34m.\u001b[0m\u001b[0mshape\u001b[0m\u001b[0;34m)\u001b[0m\u001b[0;34m\u001b[0m\u001b[0m\n",
      "\u001b[0;31mNameError\u001b[0m: name 'train_images_0' is not defined"
     ]
    }
   ],
   "source": [
    "print(train_images_0.shape)\n",
    "show_mnist(train_images_0[334])\n",
    "print(train_images_1.shape)\n",
    "show_mnist(train_images_1[22])\n",
    "print(test_images_0.shape)\n",
    "show_mnist(test_images_0[334])\n",
    "print(test_images_1.shape)\n",
    "show_mnist(test_images_1[22])"
   ]
  },
  {
   "cell_type": "markdown",
   "metadata": {},
   "source": [
    "# Generate SPN structure"
   ]
  },
  {
   "cell_type": "code",
   "execution_count": 8,
   "metadata": {
    "collapsed": false
   },
   "outputs": [
    {
     "name": "stdout",
     "output_type": "stream",
     "text": [
      "4936\n"
     ]
    }
   ],
   "source": [
    "gauss_quantiles = spn.GaussianLeaf(num_vars=196, num_components=2, data=train_images)\n",
    "# gauss_quantiles.learn_from_data(train_images)\n",
    "dense_gen = spn.DenseSPNGenerator(num_decomps=num_decomps, num_subsets=num_subsets, num_mixtures=num_mixtures, \n",
    "                                  input_dist=input_dist, \n",
    "                                  num_input_mixtures=num_input_mixtures)\n",
    "root0 = dense_gen.generate(gauss_quantiles)\n",
    "root1 = dense_gen.generate(gauss_quantiles)\n",
    "root = spn.Sum(root0, root1)\n",
    "spn.generate_weights(root, init_value=weight_init_value)\n",
    "latent = root.generate_ivs()\n",
    "print(root.get_num_nodes())"
   ]
  },
  {
   "cell_type": "markdown",
   "metadata": {},
   "source": [
    "# Add Learning Ops"
   ]
  },
  {
   "cell_type": "code",
   "execution_count": 9,
   "metadata": {
    "collapsed": false
   },
   "outputs": [
    {
     "name": "stdout",
     "output_type": "stream",
     "text": [
      "WARNING:tensorflow:From /home/jos/spn/libspn/libspn/utils/math.py:277: calling reduce_max (from tensorflow.python.ops.math_ops) with keep_dims is deprecated and will be removed in a future version.\n",
      "Instructions for updating:\n",
      "keep_dims is deprecated, use keepdims instead\n"
     ]
    },
    {
     "name": "stderr",
     "output_type": "stream",
     "text": [
      "[WARNING] [tensorflow:warning] From /home/jos/spn/libspn/libspn/utils/math.py:277: calling reduce_max (from tensorflow.python.ops.math_ops) with keep_dims is deprecated and will be removed in a future version.\n",
      "Instructions for updating:\n",
      "keep_dims is deprecated, use keepdims instead\n"
     ]
    },
    {
     "name": "stdout",
     "output_type": "stream",
     "text": [
      "WARNING:tensorflow:From /home/jos/spn/libspn/libspn/utils/math.py:281: calling reduce_sum (from tensorflow.python.ops.math_ops) with keep_dims is deprecated and will be removed in a future version.\n",
      "Instructions for updating:\n",
      "keep_dims is deprecated, use keepdims instead\n"
     ]
    },
    {
     "name": "stderr",
     "output_type": "stream",
     "text": [
      "[WARNING] [tensorflow:warning] From /home/jos/spn/libspn/libspn/utils/math.py:281: calling reduce_sum (from tensorflow.python.ops.math_ops) with keep_dims is deprecated and will be removed in a future version.\n",
      "Instructions for updating:\n",
      "keep_dims is deprecated, use keepdims instead\n"
     ]
    },
    {
     "name": "stdout",
     "output_type": "stream",
     "text": [
      "WARNING:tensorflow:From /home/jos/spn/libspn/libspn/graph/sum.py:298: calling argmax (from tensorflow.python.ops.math_ops) with dimension is deprecated and will be removed in a future version.\n",
      "Instructions for updating:\n",
      "Use the `axis` argument instead\n"
     ]
    },
    {
     "name": "stderr",
     "output_type": "stream",
     "text": [
      "[WARNING] [tensorflow:warning] From /home/jos/spn/libspn/libspn/graph/sum.py:298: calling argmax (from tensorflow.python.ops.math_ops) with dimension is deprecated and will be removed in a future version.\n",
      "Instructions for updating:\n",
      "Use the `axis` argument instead\n"
     ]
    }
   ],
   "source": [
    "additive_smoothing_var = tf.Variable(additive_smoothing, dtype=spn.conf.dtype)\n",
    "learning = spn.EMLearning(root, log=True, value_inference_type = value_inference_type,\n",
    "                          additive_smoothing=additive_smoothing_var)\n",
    "init_weights = spn.initialize_weights(root)\n",
    "reset_accumulators = learning.reset_accumulators()\n",
    "accumulate_updates = learning.accumulate_updates()\n",
    "update_spn = learning.update_spn()\n",
    "train_likelihood=learning.value.values[root]\n",
    "avg_train_likelihood = tf.reduce_mean(train_likelihood)"
   ]
  },
  {
   "cell_type": "markdown",
   "metadata": {},
   "source": [
    "# Run Training"
   ]
  },
  {
   "cell_type": "code",
   "execution_count": 10,
   "metadata": {
    "collapsed": false
   },
   "outputs": [],
   "source": [
    "sess=None #https://github.com/whsu/spn/tree/master/spn"
   ]
  },
  {
   "cell_type": "code",
   "execution_count": 14,
   "metadata": {},
   "outputs": [],
   "source": [
    "from tqdm import tqdm_notebook\n",
    "from sklearn.utils import shuffle"
   ]
  },
  {
   "cell_type": "code",
   "execution_count": null,
   "metadata": {
    "collapsed": false
   },
   "outputs": [
    {
     "name": "stdout",
     "output_type": "stream",
     "text": [
      "\n"
     ]
    },
    {
     "data": {
      "application/vnd.jupyter.widget-view+json": {
       "model_id": "6cdec7f5977249769df0be147b9f7ebe",
       "version_major": 2,
       "version_minor": 0
      },
      "text/plain": [
       "HBox(children=(IntProgress(value=0, max=32), HTML(value='')))"
      ]
     },
     "metadata": {},
     "output_type": "display_data"
    },
    {
     "name": "stdout",
     "output_type": "stream",
     "text": [
      "\n"
     ]
    }
   ],
   "source": [
    "train_set = np.concatenate([train_images_0, train_images_1], 0)\n",
    "train_labels = np.concatenate([np.ones((train_images_0.shape[0]))*0, \n",
    "                               np.ones((train_images_1.shape[0]))*1])\n",
    "train_labels=np.reshape(train_labels, (-1, 1))\n",
    "\n",
    "if sess is not None:\n",
    "    sess.close()\n",
    "\n",
    "sess = tf.Session()\n",
    "\n",
    "sess.run(init_weights)\n",
    "sess.run(reset_accumulators)\n",
    "\n",
    "num_batches=32\n",
    "batch_size = train_set.shape[0] // num_batches\n",
    "prev_likelihood = 100\n",
    "likelihood = 0\n",
    "epoch = 0\n",
    "\n",
    "accumulators = [node.accum for node in learning._gaussian_leaf_nodes]\n",
    "sum_data = [node.sum_data for node in learning._gaussian_leaf_nodes]\n",
    "sum_data_squared = [node.sum_data_squared for node in learning._gaussian_leaf_nodes]\n",
    "\n",
    "while abs(prev_likelihood - likelihood)>0.1:\n",
    "    prev_likelihood=likelihood\n",
    "    likelihoods = []\n",
    "    pbar = tqdm_notebook(range(num_batches))\n",
    "    train_set, train_labels = shuffle(train_set, train_labels)\n",
    "    for batch in pbar:\n",
    "        start = (batch)*batch_size\n",
    "        stop = (batch+1)*batch_size\n",
    "#         print(\"EPOCH\", epoch, \"BATCH\", batch, \"SAMPLES\", start, stop)\n",
    "        # Adjust smoothing\n",
    "        ads=max(np.exp(-epoch*smoothing_decay)*additive_smoothing, min_additive_smoothing)\n",
    "        sess.run(additive_smoothing_var.assign(ads))\n",
    "#         print(\"Smoothing: \", sess.run(additive_smoothing_var)) \n",
    "        # Run accumulate_updates\n",
    "        train_likelihoods_arr, avg_train_likelihood_val, _, = \\\n",
    "                sess.run([train_likelihood, avg_train_likelihood, accumulate_updates],\n",
    "                        feed_dict={gauss_quantiles: train_set[start:stop],\n",
    "                                   latent: train_labels[start:stop]})\n",
    "        # Print avg likelihood of this batch data on previous batch weights\n",
    "#         print(\"Avg likelihood (this batch data on previous weights): %s\" % (avg_train_likelihood_val))\n",
    "        pbar.set_description(\"Lh {}\".format(avg_train_likelihood_val))\n",
    "        likelihoods.append(avg_train_likelihood_val)\n",
    "    # Update weights\n",
    "#     accumulator_val = sess.run(accumulators)\n",
    "#     sum_data_val = sess.run(sum_data)\n",
    "#     sum_data_squared_val = sess.run(sum_data_squared)\n",
    "        sess.run(update_spn)\n",
    "    \n",
    "    likelihood = sum(likelihoods) / len(likelihoods)\n",
    "    print(\"Avg likelihood: %s\" % (likelihood))\n",
    "    epoch+=1\n",
    "#     sess.run(reset_accumulators)"
   ]
  },
  {
   "cell_type": "code",
   "execution_count": 14,
   "metadata": {},
   "outputs": [],
   "source": [
    "flat_accum = np.concatenate([a.ravel() for a in accumulator_val])\n",
    "flat_sum_data = np.concatenate([a.ravel() for a in sum_data_val])\n",
    "flat_sum_data_sq = np.concatenate([a.ravel() for a in sum_data_squared_val])"
   ]
  },
  {
   "cell_type": "code",
   "execution_count": 18,
   "metadata": {},
   "outputs": [
    {
     "name": "stdout",
     "output_type": "stream",
     "text": [
      "[-3.9846375  -3.4506104  -3.2645745  -2.6230721  -2.5535667  -2.3906605\n",
      " -2.3627794  -2.2616777  -2.0460896  -1.8880049  -1.7511832  -1.6374474\n",
      " -1.4197037  -1.4149829  -1.3103653  -1.2638718  -1.2374343  -0.90327877\n",
      " -0.78360784 -0.75589406 -0.49836385 -0.42599937 -0.36299995 -0.289812\n",
      " -0.26556116 -0.26555693 -0.26555383 -0.26555106 -0.2655483  -0.26554608\n",
      " -0.26554334 -0.26553684 -0.26553646 -0.26552987 -0.26551786 -0.2655087\n",
      " -0.26549464 -0.26547927 -0.26547578 -0.26546678 -0.26543173 -0.2653948\n",
      " -0.26532286 -0.26528108 -0.26524585 -0.26521826 -0.26510143 -0.26503462\n",
      " -0.2649982  -0.26485884 -0.26485458 -0.26480815 -0.26473108 -0.2645801\n",
      " -0.2644247  -0.2643055  -0.26399818 -0.2639431  -0.26387408 -0.26352537\n",
      " -0.26274753 -0.26096758 -0.2594495  -0.25944436 -0.25943905 -0.2594282\n",
      " -0.2594237  -0.2594227  -0.2594204  -0.2594177  -0.25934944 -0.25928634\n",
      " -0.2592849  -0.25918892 -0.25917885 -0.2591432  -0.25913146 -0.25912598\n",
      " -0.2590745  -0.25898182 -0.25887063 -0.2586967  -0.25867417 -0.25853187\n",
      " -0.258501   -0.25780323 -0.2577556  -0.2577336  -0.25773078 -0.25772783\n",
      " -0.25771877 -0.25771827 -0.2576784  -0.25765058 -0.2576204  -0.25754115\n",
      " -0.25750324 -0.25749844 -0.2574962  -0.2574822  -0.2573637  -0.25734687\n",
      " -0.25727463 -0.25721392 -0.25719157 -0.2571864  -0.2571289  -0.2571206\n",
      " -0.2569424  -0.25654322 -0.2564145  -0.25632888 -0.25565308 -0.2549699\n",
      " -0.2549403  -0.2539779  -0.2537617  -0.25118363 -0.24962099 -0.2481963\n",
      " -0.2472625  -0.24663743 -0.24597593 -0.24530976 -0.24312232 -0.24250753\n",
      " -0.24150276 -0.24061823 -0.23896879 -0.2354658  -0.23360555 -0.2331699\n",
      " -0.2315595  -0.22472599 -0.2238191  -0.2219578  -0.21977511 -0.21877417\n",
      " -0.21790284 -0.21750522 -0.21459413 -0.21452907 -0.20885779 -0.20404735\n",
      " -0.20361638 -0.19817701 -0.17891799 -0.17718996 -0.17253721 -0.1630649\n",
      " -0.16118114 -0.15062878 -0.14824422 -0.14116524 -0.1394993  -0.13940282\n",
      " -0.13710944 -0.13264327 -0.13211028 -0.11812194 -0.08855541 -0.08411561\n",
      " -0.08167485 -0.07448553 -0.03961645 -0.03842948 -0.02067805 -0.0135437\n",
      "  0.00990099  0.02279529  0.03326724  0.03992964  0.06755994  0.07855783\n",
      "  0.08364538  0.09404879  0.10209468  0.11361258  0.12370931  0.16358992\n",
      "  0.17501232  0.18066058  0.23369719  0.2384385   0.24067557  0.24819376\n",
      "  0.2673153   0.26881596  0.2934264   0.31438604  0.34136173  0.34799\n",
      "  0.34974265  0.3543846   0.35614744  0.36525625  0.37985623  0.4859439\n",
      "  0.50522274  0.53866565  0.53994906  0.5404742   0.57622766  0.59083605\n",
      "  0.60874456  0.64410096  0.64699066  0.64863765  0.65012     0.65151894\n",
      "  0.6827223   0.69617546  0.70370793  0.7441759   0.7590472   0.7602473\n",
      "  0.77202505  0.78440833  0.79246724  0.79982793  0.8016298   0.8138104\n",
      "  0.8157705   0.8244366   0.82702726  0.8342451   0.83928925  0.86485815\n",
      "  0.89331436  0.90723103  0.91866213  0.9314208   0.9479593   0.9568178\n",
      "  0.97249347  0.9727229   0.9751848   0.97978556  0.97999877  0.99207324\n",
      "  1.0544245   1.0612013   1.0857375   1.0883414   1.1179041   1.1347295\n",
      "  1.1462817   1.1997039   1.2157      1.2242769   1.246589    1.2785717\n",
      "  1.3035917   1.4072499   1.4172251   1.4569165   1.4608986   1.4727769\n",
      "  1.485365    1.4903761   1.5199026   1.5260798   1.5757016   1.5778852\n",
      "  1.6002908 ]\n"
     ]
    }
   ],
   "source": [
    "mean_val = sess.run(gauss_quantiles.variance_variable)\n",
    "print(np.unique(mean_val))"
   ]
  },
  {
   "cell_type": "code",
   "execution_count": 16,
   "metadata": {},
   "outputs": [
    {
     "name": "stdout",
     "output_type": "stream",
     "text": [
      "[ 1484.4747  1682.9863  1484.443   1682.9863  3167.4133     0.\n",
      "  3167.2332     0.      1484.3992  1682.9547  3166.9387     0.\n",
      "  3165.7021     0.      1483.6943  1681.1724     0.      3164.8037\n",
      "  1682.5862  1484.2355  3167.3145     0.      1682.9863  1484.4747\n",
      "  3167.4612     0.      3167.4612     0.         0.      3167.3857\n",
      "  3166.802      0.         0.      3166.1055     0.      3161.367\n",
      "  1458.8612  1676.4113  1633.7145  1395.5635  1489.4539  1264.5713\n",
      "  1351.8503  1112.4976     0.      2388.4     2595.3616     0.\n",
      "  2905.9563     0.      3104.45       0.         0.      3162.3135\n",
      "     0.      3167.353   1682.8475  1484.4747  1483.2852  1681.9614\n",
      "     0.      3157.4116     0.      3167.709   1669.4047  1685.9297\n",
      "  4547.487      0.         0.      9528.631  10665.487   5903.5493\n",
      "  5866.727  11825.605      0.     12743.046   3375.4094  2913.196\n",
      "  3283.7761     0.         0.      3126.1194  1484.012   1682.9236\n",
      "     0.      3167.3208     0.      3164.045   1477.3425  1680.3434\n",
      "  3454.2473     0.      1726.5236  4125.5244 11729.339   2257.77\n",
      "  7631.4272 23282.477  17263.344  31634.057  50544.68       0.\n",
      " 11079.736  26981.188   4367.2646 13756.287   5396.238      0.\n",
      "     0.      3040.9075  1682.8632  1482.7727  3167.1472     0.\n",
      "     0.      3163.1787  1683.2762  1459.18    3040.081   1700.4507\n",
      "     0.     12525.771      0.     24775.95   36042.945      0.\n",
      "     0.     47981.375  21354.031  20963.816  33627.125      0.\n",
      "  2444.5845 22499.781   1705.3224  8180.531   3024.811      0.\n",
      "     0.      3165.0457     0.      3167.0615  3154.6536     0.\n",
      "     0.      3240.1167  8574.729      0.     19263.55    1741.374\n",
      " 27770.75       0.         0.     26064.055  33740.566   8239.257\n",
      " 24929.703      0.     14082.134   3522.4995  1670.4722 23479.697\n",
      "     0.     14856.599      0.      3208.1611  3162.4329     0.\n",
      "  1484.1333  1682.8334  1449.5184  1681.7351     0.      3839.9644\n",
      "     0.     14984.725  26597.809      0.         0.     20904.588\n",
      " 10879.728   6190.954      0.     45493.457  11763.813      0.\n",
      " 11687.419      0.     23573.156      0.     15496.598   1679.8538\n",
      "  1681.8033  1821.0941  1475.8706  1682.372   1484.3964  1682.8007\n",
      "  3076.853      0.      5396.8833     0.     21799.996      0.\n",
      " 26096.764      0.      1686.9885  9857.188  23131.758      0.\n",
      " 40974.703      0.      5754.552      0.         0.     13818.96\n",
      "     0.     23408.014   1680.2806 14005.66    1682.2743  1907.8842\n",
      "  3156.6697     0.      3166.9468     0.      1327.4353  1682.188\n",
      "  5765.6504  1681.3176  1668.0375 23949.781      0.     22444.799\n",
      "     0.     11169.0625     0.     32170.129  26704.293   2338.8547\n",
      "     0.      9831.282      0.     20407.902  22093.281      0.\n",
      "  1682.5391  9348.248   1683.4087  1565.2584  3160.4678     0.\n",
      "  3166.8428     0.      2992.4912     0.      7858.67       0.\n",
      " 25738.09       0.         0.     25976.23   22485.166      0.\n",
      " 28105.49    5850.3857 19515.396  10086.278  22657.469      0.\n",
      "  1845.2845 22289.076  14037.21    1742.0367  1708.6766  4261.2866\n",
      "  1690.8984  1401.1146  1482.416   1682.8335     0.      3166.8516\n",
      "  1680.0787  1370.1312     0.      5443.7544  2408.9204 18282.156\n",
      "  6943.0083 29417.844  17139.182  27134.236  24250.084  21775.396\n",
      " 17004.69   25907.146  23578.318   4848.595      0.     16679.78\n",
      "  5506.32    1768.4003     0.      3428.4336  1682.447   1446.9072\n",
      "  1483.6826  1681.6803  3167.2288     0.      3130.605      0.\n",
      "  3237.9517     0.         0.      8179.0244 15349.422   6268.759\n",
      " 34359.586      0.         0.     35168.44    9913.438  17464.434\n",
      "  3739.0396  9189.157      0.      5293.3994  1704.1555  1586.9475\n",
      "  1449.99    1678.5386     0.      3159.9958     0.      3165.9133\n",
      "  1682.9863  1484.4747  1482.7114  1681.5353  1437.3616  1659.2482\n",
      "  2868.4575     0.         0.      2751.9595     0.      2877.5518\n",
      "  1210.8251  1651.0853  2788.674      0.      1457.4332  1309.7867\n",
      "  3014.3857     0.         0.      3139.462   3163.2966     0.\n",
      "  3165.7876     0.      3166.9436     0.         0.      3167.4612\n",
      "     0.      3167.4612  1484.4586  1682.8593  3166.0435     0.\n",
      "     0.      3162.6497  1480.9617  1678.6943  3156.0583     0.\n",
      "  1676.3284  1482.8209  1483.7397  1681.4192  3167.2815     0.\n",
      "  1484.4747  1682.9863  1484.4747  1682.9863  3167.4612     0.\n",
      "  3167.4612     0.    ]\n",
      "4\n"
     ]
    }
   ],
   "source": [
    "%matplotlib inline\n",
    "import seaborn as sns\n",
    "print(flat_sum_data_sq)\n",
    "print(np.unique(flat_accum).size)"
   ]
  },
  {
   "cell_type": "markdown",
   "metadata": {},
   "source": [
    "# Generate Testing Ops"
   ]
  },
  {
   "cell_type": "code",
   "execution_count": 15,
   "metadata": {
    "collapsed": true
   },
   "outputs": [],
   "source": [
    "mpe_state_gen = spn.MPEState(log=True, value_inference_type=spn.InferenceType.MPE)"
   ]
  },
  {
   "cell_type": "code",
   "execution_count": 16,
   "metadata": {
    "collapsed": false
   },
   "outputs": [],
   "source": [
    "mpe_gauss_quantiles, mpe_latent = mpe_state_gen.get_state(root, gauss_quantiles, latent)"
   ]
  },
  {
   "cell_type": "markdown",
   "metadata": {},
   "source": [
    "# Run Testing"
   ]
  },
  {
   "cell_type": "markdown",
   "metadata": {},
   "source": [
    "### MPE of the whole network"
   ]
  },
  {
   "cell_type": "code",
   "execution_count": 17,
   "metadata": {
    "collapsed": false
   },
   "outputs": [
    {
     "data": {
      "image/png": "[encoded data removed]",
      "text/plain": [
       "<matplotlib.figure.Figure at 0x7f8b83d06ac8>"
      ]
     },
     "metadata": {},
     "output_type": "display_data"
    },
    {
     "name": "stdout",
     "output_type": "stream",
     "text": [
      "[[1]]\n"
     ]
    }
   ],
   "source": [
    "no_evidence = np.zeros((1, 14 * 14)).astype(np.bool) \n",
    "mpe_gauss_val, mpe_latent_val = sess.run([mpe_gauss_quantiles, mpe_latent], feed_dict={\n",
    "    gauss_quantiles: np.ones((1, 14*14), dtype=int) * -1, latent: [[-1]], gauss_quantiles.evidence: no_evidence})\n",
    "show_mnist(mpe_gauss_val)\n",
    "print(mpe_latent_val)"
   ]
  },
  {
   "cell_type": "markdown",
   "metadata": {},
   "source": [
    "### MPE for 0"
   ]
  },
  {
   "cell_type": "code",
   "execution_count": 20,
   "metadata": {
    "collapsed": false
   },
   "outputs": [
    {
     "data": {
      "image/png": "[encoded data removed]",
      "text/plain": [
       "<matplotlib.figure.Figure at 0x7f8b83eafdd8>"
      ]
     },
     "metadata": {},
     "output_type": "display_data"
    }
   ],
   "source": [
    "mpe_gauss_val, mpe_latent_val = sess.run(\n",
    "    [mpe_gauss_quantiles, mpe_latent], feed_dict={gauss_quantiles: np.ones((1, 14*14), dtype=int) * -1, latent: [[0]], gauss_quantiles.evidence: no_evidence})\n",
    "show_mnist(mpe_gauss_val)\n",
    "print(mpe_latent_val)"
   ]
  },
  {
   "cell_type": "markdown",
   "metadata": {},
   "source": [
    "### MPE for 1"
   ]
  },
  {
   "cell_type": "code",
   "execution_count": 21,
   "metadata": {
    "collapsed": false
   },
   "outputs": [
    {
     "data": {
      "image/png": "[encoded data removed]",
      "text/plain": [
       "<matplotlib.figure.Figure at 0x7f8b83dbb748>"
      ]
     },
     "metadata": {},
     "output_type": "display_data"
    },
    {
     "name": "stdout",
     "output_type": "stream",
     "text": [
      "[[1]]\n"
     ]
    }
   ],
   "source": [
    "mpe_gauss_val, mpe_latent_val = sess.run(\n",
    "    [mpe_gauss_quantiles, mpe_latent], feed_dict={gauss_quantiles: np.ones((1, 14*14), dtype=int) * -1, latent: [[1]], gauss_quantiles.evidence: no_evidence})\n",
    "show_mnist(mpe_gauss_val)\n",
    "print(mpe_latent_val)"
   ]
  },
  {
   "cell_type": "markdown",
   "metadata": {},
   "source": [
    "### Classification of Training Data"
   ]
  },
  {
   "cell_type": "code",
   "execution_count": 22,
   "metadata": {
    "collapsed": false
   },
   "outputs": [
    {
     "data": {
      "text/plain": [
       "0.9960423298632023"
      ]
     },
     "execution_count": 22,
     "metadata": {},
     "output_type": "execute_result"
    }
   ],
   "source": [
    "mpe_latent_val = sess.run([mpe_latent], feed_dict={\n",
    "    gauss_quantiles: train_set, latent: np.ones((train_set.shape[0], 1))*-1})\n",
    "result=(mpe_latent_val==train_labels)\n",
    "np.sum(result) / train_labels.size"
   ]
  },
  {
   "cell_type": "markdown",
   "metadata": {},
   "source": [
    "### Classification of Test Data"
   ]
  },
  {
   "cell_type": "code",
   "execution_count": 42,
   "metadata": {
    "collapsed": true
   },
   "outputs": [],
   "source": [
    "test_set = np.concatenate([test_images_0, test_images_1], 0)\n",
    "test_labels = np.concatenate([np.ones((test_images_0.shape[0]))*0, \n",
    "                               np.ones((test_images_1.shape[0]))*1])\n",
    "test_labels=np.reshape(test_labels, (-1, 1))"
   ]
  },
  {
   "cell_type": "code",
   "execution_count": 43,
   "metadata": {
    "collapsed": false
   },
   "outputs": [
    {
     "data": {
      "text/plain": [
       "0.99763593380614657"
      ]
     },
     "execution_count": 43,
     "metadata": {},
     "output_type": "execute_result"
    }
   ],
   "source": [
    "mpe_latent_val = sess.run([mpe_latent], feed_dict={ivs: test_set, \n",
    "                                                   latent: np.ones((test_set.shape[0], 1))*-1})\n",
    "result=(mpe_latent_val==test_labels)\n",
    "np.sum(result) / test_labels.size"
   ]
  },
  {
   "cell_type": "code",
   "execution_count": null,
   "metadata": {
    "collapsed": true
   },
   "outputs": [],
   "source": []
  }
 ],
 "metadata": {
  "kernelspec": {
   "display_name": "Python 3",
   "language": "python",
   "name": "python3"
  },
  "language_info": {
   "codemirror_mode": {
    "name": "ipython",
    "version": 3
   },
   "file_extension": ".py",
   "mimetype": "text/x-python",
   "name": "python",
   "nbconvert_exporter": "python",
   "pygments_lexer": "ipython3",
   "version": "3.5.2"
  }
 },
 "nbformat": 4,
 "nbformat_minor": 2
}
