{
 "cells": [
  {
   "cell_type": "markdown",
   "metadata": {},
   "source": [
    "# Tutorial 3: Learning"
   ]
  },
  {
   "cell_type": "code",
   "execution_count": 1,
   "metadata": {
    "collapsed": true
   },
   "outputs": [
    {
     "name": "stdout",
     "output_type": "stream",
     "text": [
      "\n",
      "WARNING: The TensorFlow contrib module will not be included in TensorFlow 2.0.\n",
      "For more information, please see:\n",
      "  * https://github.com/tensorflow/community/blob/master/rfcs/20180907-contrib-sunset.md\n",
      "  * https://github.com/tensorflow/addons\n",
      "If you depend on functionality not listed there, please file an issue.\n",
      "\n"
     ]
    }
   ],
   "source": [
    "import libspn as spn\n",
    "import tensorflow as tf"
   ]
  },
  {
   "cell_type": "markdown",
   "metadata": {},
   "source": [
    "### Building a Test Graph with Random Weights"
   ]
  },
  {
   "cell_type": "code",
   "execution_count": 2,
   "metadata": {
    "collapsed": true
   },
   "outputs": [
    {
     "name": "stdout",
     "output_type": "stream",
     "text": [
      "WARNING:tensorflow:From /home/jos/.local/lib/python3.5/site-packages/tensorflow/python/framework/op_def_library.py:263: colocate_with (from tensorflow.python.framework.ops) is deprecated and will be removed in a future version.\n",
      "Instructions for updating:\n",
      "Colocations handled automatically by placer.\n"
     ]
    },
    {
     "name": "stderr",
     "output_type": "stream",
     "text": [
      "[WARNING] [tensorflow:new_func] From /home/jos/.local/lib/python3.5/site-packages/tensorflow/python/framework/op_def_library.py:263: colocate_with (from tensorflow.python.framework.ops) is deprecated and will be removed in a future version.\n",
      "Instructions for updating:\n",
      "Colocations handled automatically by placer.\n"
     ]
    }
   ],
   "source": [
    "indicators_x = spn.IndicatorLeaf(num_vars=2, num_vals=2, name=\"indicators_x\")\n",
    "sum_11 = spn.Sum((indicators_x, [0,1]), name=\"sum_11\")\n",
    "sum_12 = spn.Sum((indicators_x, [0,1]), name=\"sum_12\")\n",
    "sum_21 = spn.Sum((indicators_x, [2,3]), name=\"sum_21\")\n",
    "sum_22 = spn.Sum((indicators_x, [2,3]), name=\"sum_22\")\n",
    "prod_1 = spn.Product(sum_11, sum_21, name=\"prod_1\")\n",
    "prod_2 = spn.Product(sum_11, sum_22, name=\"prod_2\")\n",
    "prod_3 = spn.Product(sum_12, sum_22, name=\"prod_3\")\n",
    "root = spn.Sum(prod_1, prod_2, prod_3, name=\"root\")\n",
    "root = spn.convert_to_layer_nodes(root)\n",
    "latent_indicator_y = root.generate_latent_indicators(name=\"latent_indicator_y\")\n",
    "spn.generate_weights(root, initializer=tf.initializers.random_uniform(1.0, 2.0))"
   ]
  },
  {
   "cell_type": "markdown",
   "metadata": {},
   "source": [
    "### Visualizing the SPN Graph"
   ]
  },
  {
   "cell_type": "code",
   "execution_count": 3,
   "metadata": {},
   "outputs": [
    {
     "data": {
      "text/html": [
       "<svg id=\"Seb4e6666966644cf8c15575bd83f3778\" width=\"950\" height=\"800\"></svg>\n",
       "<script>\n",
       " require.config({\n",
       "   paths: {\n",
       "     d3: 'https://d3js.org/d3.v4.min'\n",
       "   }\n",
       " });\n",
       " require(['d3'], function(d3){\n",
       "\n",
       "   var graph = {\"links\": [{\"value\": 8, \"source\": \"Weights/Layer3/SumsLayer-3.1_Weights_1\", \"target\": \"Layer3/SumsLayer-3.1\"}, {\"value\": 2, \"source\": \"indicators_x_2\", \"target\": \"Layer3/SumsLayer-3.1\"}, {\"value\": 2, \"source\": \"indicators_x_3\", \"target\": \"Layer3/SumsLayer-3.1\"}, {\"value\": 2, \"source\": \"indicators_x_4\", \"target\": \"Layer3/SumsLayer-3.1\"}, {\"value\": 2, \"source\": \"indicators_x_5\", \"target\": \"Layer3/SumsLayer-3.1\"}, {\"value\": 1, \"source\": \"Layer3/SumsLayer-3.1\", \"target\": \"Layer2/ProductsLayer-2.1\"}, {\"value\": 1, \"source\": \"Layer3/SumsLayer-3.1\", \"target\": \"Layer2/ProductsLayer-2.1\"}, {\"value\": 1, \"source\": \"Layer3/SumsLayer-3.1\", \"target\": \"Layer2/ProductsLayer-2.1\"}, {\"value\": 1, \"source\": \"Layer3/SumsLayer-3.1\", \"target\": \"Layer2/ProductsLayer-2.1\"}, {\"value\": 1, \"source\": \"Layer3/SumsLayer-3.1\", \"target\": \"Layer2/ProductsLayer-2.1\"}, {\"value\": 1, \"source\": \"Layer3/SumsLayer-3.1\", \"target\": \"Layer2/ProductsLayer-2.1\"}, {\"value\": 3, \"source\": \"Weights/root_Weights_6\", \"target\": \"root\"}, {\"value\": 3, \"source\": \"latent_indicator_y_7\", \"target\": \"root\"}, {\"value\": 1, \"source\": \"Layer2/ProductsLayer-2.1\", \"target\": \"root\"}, {\"value\": 1, \"source\": \"Layer2/ProductsLayer-2.1\", \"target\": \"root\"}, {\"value\": 1, \"source\": \"Layer2/ProductsLayer-2.1\", \"target\": \"root\"}], \"nodes\": [{\"tooltip\": \"Layer3/SumsLayer-3.1\", \"type\": 2, \"name\": \"Layer3/SumsLayer-3.1\", \"id\": \"Layer3/SumsLayer-3.1\"}, {\"tooltip\": \"Weights/Layer3/SumsLayer-3.1_Weights\", \"type\": 1, \"name\": \"Weights/Layer3/SumsLayer-3.1_Weights\", \"id\": \"Weights/Layer3/SumsLayer-3.1_Weights_1\"}, {\"tooltip\": \"indicators_x\", \"type\": 0, \"name\": \"indicators_x[0, 1]\", \"id\": \"indicators_x_2\"}, {\"tooltip\": \"indicators_x\", \"type\": 0, \"name\": \"indicators_x[2, 3]\", \"id\": \"indicators_x_3\"}, {\"tooltip\": \"indicators_x\", \"type\": 0, \"name\": \"indicators_x[2, 3]\", \"id\": \"indicators_x_4\"}, {\"tooltip\": \"indicators_x\", \"type\": 0, \"name\": \"indicators_x[0, 1]\", \"id\": \"indicators_x_5\"}, {\"tooltip\": \"Layer2/ProductsLayer-2.1\", \"type\": 3, \"name\": \"Layer2/ProductsLayer-2.1\", \"id\": \"Layer2/ProductsLayer-2.1\"}, {\"tooltip\": \"root\", \"type\": 4, \"name\": \"root\", \"id\": \"root\"}, {\"tooltip\": \"Weights/root_Weights\", \"type\": 1, \"name\": \"Weights/root_Weights\", \"id\": \"Weights/root_Weights_6\"}, {\"tooltip\": \"latent_indicator_y\", \"type\": 0, \"name\": \"latent_indicator_y\", \"id\": \"latent_indicator_y_7\"}]};\n",
       "\n",
       "   var color = d3.scaleOrdinal(d3.schemeCategory10);\n",
       "\n",
       "   var zoom = d3.zoom()\n",
       "                .scaleExtent([0.1, 10])\n",
       "                .on(\"zoom\", zoomed);\n",
       "\n",
       "   var svg = d3.select(\"#Seb4e6666966644cf8c15575bd83f3778\").\n",
       "                call(zoom);\n",
       "\n",
       "   var width = svg.attr(\"width\");\n",
       "   var height = svg.attr(\"height\");\n",
       "\n",
       "   var simulation = d3.forceSimulation(graph.nodes)\n",
       "                      .on(\"tick\", ticked)\n",
       "                      .force(\"link\", d3.forceLink(graph.links)\n",
       "                                       .distance(80)\n",
       "                                       .id(function(d) { return d.id; }))\n",
       "                      .force(\"charge\", d3.forceManyBody().\n",
       "                                          strength(-1000))\n",
       "                      .force(\"center\", d3.forceCenter(width / 2, height / 2));\n",
       "\n",
       "   /* Contents */\n",
       "   var container = svg.append(\"g\").\n",
       "                       attr(\"class\", \"container\");\n",
       "\n",
       "   var link = container.append(\"g\")\n",
       "                       .selectAll(\"link\")\n",
       "                       .data(graph.links)\n",
       "                       .enter().append(\"line\")\n",
       "                       .attr(\"stroke\", \"#444\")\n",
       "                       .attr(\"stroke-opacity\", \"0.6\")\n",
       "                       .attr(\"stroke-width\",\n",
       "                             function(d) {\n",
       "                               return d.value;\n",
       "                               /*return Math.sqrt(d.value);*/\n",
       "                             });\n",
       "\n",
       "   var link_value = container.append(\"g\")\n",
       "                             .selectAll(\"linkvalue\")\n",
       "                             .data(graph.links)\n",
       "                             .enter().append(\"text\")\n",
       "                             .attr(\"alignment-baseline\", \"middle\")\n",
       "                             .style(\"text-anchor\", \"middle\")\n",
       "                             .text(function(d) { return d.value; });\n",
       "\n",
       "   var node = container.append(\"g\")\n",
       "                       .selectAll(\"node\")\n",
       "                       .data(graph.nodes)\n",
       "                       .enter().append(\"g\")\n",
       "                       .call(d3.drag()\n",
       "                               .on(\"start\", dragstarted)\n",
       "                               .on(\"drag\", dragged)\n",
       "                               .on(\"end\", dragended));\n",
       "\n",
       "   /* Node appearance */\n",
       "   node.append(\"rect\")\n",
       "       .attr(\"height\", 0)\n",
       "       .attr(\"width\", 0)\n",
       "       .attr(\"fill\", function(d) { return color(d.type); })\n",
       "       .attr(\"stroke\", \"#000\")\n",
       "       .attr(\"stroke-width\", \"1px\");\n",
       "\n",
       "   node.append(\"text\")\n",
       "       .attr(\"alignment-baseline\", \"middle\")\n",
       "       .style(\"text-anchor\", \"middle\")\n",
       "       .text(function(d) { return d.name; });\n",
       "\n",
       "   /* Adjust rect width to text */\n",
       "   var margin=10;\n",
       "   node.selectAll('rect')\n",
       "       .attr(\"x\", function(d) {return d3.select(this).attr(\"x\") - (this.parentNode.getBBox().width + margin)/2.0;})\n",
       "       .attr(\"y\", function(d) {return d3.select(this).attr(\"y\") - (this.parentNode.getBBox().height + margin)/2.0;})\n",
       "       .attr(\"width\", function(d) {return this.parentNode.getBBox().width + margin;})\n",
       "       .attr(\"height\", function(d) {return this.parentNode.getBBox().height + margin;});\n",
       "\n",
       "   /* Tooltips */\n",
       "   node.append(\"title\")\n",
       "       .text(function(d) { return d.tooltip; });\n",
       "\n",
       "   /* Functions */\n",
       "   function zoomed() {\n",
       "     container.attr(\"transform\", d3.event.transform);\n",
       "   }\n",
       "\n",
       "   function ticked() {\n",
       "     link\n",
       "       .attr(\"x1\", function(d) { return d.source.x; })\n",
       "       .attr(\"y1\", function(d) { return d.source.y; })\n",
       "       .attr(\"x2\", function(d) { return d.target.x; })\n",
       "       .attr(\"y2\", function(d) { return d.target.y; });\n",
       "\n",
       "     link_value\n",
       "       .attr(\"x\", function(d) { return (d.source.x+d.target.x)/2; })\n",
       "       .attr(\"y\", function(d) { return (d.source.y+d.target.y)/2; })\n",
       "\n",
       "     node.attr(\"transform\",\n",
       "               function(d) { return \"translate(\" + d.x + \",\" + d.y + \")\"; });\n",
       "   }\n",
       "\n",
       "   function dragstarted(d) {\n",
       "     if (!d3.event.active) simulation.alphaTarget(0.3).restart();\n",
       "     d.fx = d.x;\n",
       "     d.fy = d.y;\n",
       "   }\n",
       "\n",
       "   function dragged(d) {\n",
       "     d.fx = d3.event.x;\n",
       "     d.fy = d3.event.y;\n",
       "   }\n",
       "\n",
       "   function dragended(d) {\n",
       "     if (!d3.event.active) simulation.alphaTarget(0);\n",
       "     d.fx = null;\n",
       "     d.fy = null;\n",
       "   }\n",
       "\n",
       " });\n",
       "</script>\n"
      ],
      "text/plain": [
       "<IPython.core.display.HTML object>"
      ]
     },
     "metadata": {},
     "output_type": "execute_result"
    }
   ],
   "source": [
    "spn.display_spn_graph(root)"
   ]
  },
  {
   "cell_type": "markdown",
   "metadata": {},
   "source": [
    "### Specify Training Data"
   ]
  },
  {
   "cell_type": "code",
   "execution_count": 4,
   "metadata": {
    "collapsed": true
   },
   "outputs": [],
   "source": [
    "indicators_x_arr=[[0,0],[0,0],[1,1],[1,1],[1,1],[0,1],[0,1],[0,1]]\n",
    "latent_indicator_y_arr=[[-1]] * len(indicators_x_arr)"
   ]
  },
  {
   "cell_type": "markdown",
   "metadata": {},
   "source": [
    "### Add Learning Ops"
   ]
  },
  {
   "cell_type": "code",
   "execution_count": 52,
   "metadata": {},
   "outputs": [],
   "source": [
    "init_weights = spn.initialize_weights(root)\n",
    "learning = spn.EMLearning(root, initial_accum_value=0.01, sample_prob=0.1, sample=True)\n",
    "init_learning = learning.reset_accumulators()\n",
    "accumulate_updates = learning.accumulate_updates()\n",
    "update_spn = learning.update_spn()\n",
    "likelihood = tf.reduce_mean(learning.value.values[root])"
   ]
  },
  {
   "cell_type": "markdown",
   "metadata": {},
   "source": [
    "### Run Learning"
   ]
  },
  {
   "cell_type": "code",
   "execution_count": 56,
   "metadata": {},
   "outputs": [
    {
     "name": "stdout",
     "output_type": "stream",
     "text": [
      "Avg. Likelihood: -1.4000051\n",
      "Avg. Likelihood: -1.0844302\n",
      "Avg. Likelihood: -1.0833168\n",
      "Avg. Likelihood: -1.0829438\n",
      "Avg. Likelihood: -1.1476172\n",
      "Avg. Likelihood: -1.1472332\n",
      "Avg. Likelihood: -1.1359968\n",
      "Avg. Likelihood: -1.1414859\n",
      "Avg. Likelihood: -1.1479024\n",
      "Avg. Likelihood: -1.1348104\n"
     ]
    }
   ],
   "source": [
    "epoch = 0\n",
    "with tf.Session() as sess:\n",
    "    sess.run(init_learning)\n",
    "    sess.run(init_weights)\n",
    "    for _ in range(10):\n",
    "        likelihood_arr, _, *nodes_out = sess.run(\n",
    "            [likelihood, accumulate_updates],\n",
    "            feed_dict={indicators_x: indicators_x_arr, latent_indicator_y: latent_indicator_y_arr})\n",
    "        print(\"Avg. Likelihood: %s\" % (likelihood_arr))\n",
    "        sess.run(update_spn)\n",
    "    "
   ]
  }
 ],
 "metadata": {
  "kernelspec": {
   "display_name": "Python 3",
   "language": "python",
   "name": "python3"
  },
  "language_info": {
   "codemirror_mode": {
    "name": "ipython",
    "version": 3
   },
   "file_extension": ".py",
   "mimetype": "text/x-python",
   "name": "python",
   "nbconvert_exporter": "python",
   "pygments_lexer": "ipython3",
   "version": "3.5.2"
  }
 },
 "nbformat": 4,
 "nbformat_minor": 2
}
