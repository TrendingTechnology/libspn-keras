{
 "cells": [
  {
   "cell_type": "markdown",
   "metadata": {},
   "source": [
    "# Tutorial 2: Inference"
   ]
  },
  {
   "cell_type": "code",
   "execution_count": 1,
   "metadata": {
    "collapsed": true
   },
   "outputs": [
    {
     "name": "stdout",
     "output_type": "stream",
     "text": [
      "\n",
      "WARNING: The TensorFlow contrib module will not be included in TensorFlow 2.0.\n",
      "For more information, please see:\n",
      "  * https://github.com/tensorflow/community/blob/master/rfcs/20180907-contrib-sunset.md\n",
      "  * https://github.com/tensorflow/addons\n",
      "If you depend on functionality not listed there, please file an issue.\n",
      "\n"
     ]
    }
   ],
   "source": [
    "import libspn as spn\n",
    "import tensorflow as tf\n",
    "\n",
    "def init_const(v):\n",
    "    return tf.initializers.constant(v)"
   ]
  },
  {
   "cell_type": "markdown",
   "metadata": {},
   "source": [
    "### Building a Test Graph with Initialized Weights"
   ]
  },
  {
   "cell_type": "code",
   "execution_count": 2,
   "metadata": {},
   "outputs": [
    {
     "name": "stdout",
     "output_type": "stream",
     "text": [
      "WARNING:tensorflow:From /home/jos/.local/lib/python3.5/site-packages/tensorflow/python/framework/op_def_library.py:263: colocate_with (from tensorflow.python.framework.ops) is deprecated and will be removed in a future version.\n",
      "Instructions for updating:\n",
      "Colocations handled automatically by placer.\n"
     ]
    },
    {
     "name": "stderr",
     "output_type": "stream",
     "text": [
      "[WARNING] [tensorflow:new_func] From /home/jos/.local/lib/python3.5/site-packages/tensorflow/python/framework/op_def_library.py:263: colocate_with (from tensorflow.python.framework.ops) is deprecated and will be removed in a future version.\n",
      "Instructions for updating:\n",
      "Colocations handled automatically by placer.\n"
     ]
    }
   ],
   "source": [
    "indicators_x = spn.IndicatorLeaf(num_vars=2, num_vals=2, name=\"indicators_x\")\n",
    "sum_11 = spn.Sum((indicators_x, [0,1]), name=\"sum_11\")\n",
    "sum_11.generate_weights(init_const([0.4, 0.6]))\n",
    "sum_12 = spn.Sum((indicators_x, [0,1]), name=\"sum_12\")\n",
    "sum_12.generate_weights(init_const([0.1, 0.9]))\n",
    "sum_21 = spn.Sum((indicators_x, [2,3]), name=\"sum_21\")\n",
    "sum_21.generate_weights(init_const([0.7, 0.3]))\n",
    "sum_22 = spn.Sum((indicators_x, [2,3]), name=\"sum_22\")\n",
    "sum_22.generate_weights(init_const([0.8, 0.2]))\n",
    "prod_1 = spn.Product(sum_11, sum_21, name=\"prod_1\")\n",
    "prod_2 = spn.Product(sum_11, sum_22, name=\"prod_2\")\n",
    "prod_3 = spn.Product(sum_12, sum_22, name=\"prod_3\")\n",
    "root = spn.Sum(prod_1, prod_2, prod_3, name=\"root\")\n",
    "root.generate_weights(init_const([0.5, 0.2, 0.3]))\n",
    "latent_indicator_y = root.generate_latent_indicators(name=\"latent_indicator_y\")"
   ]
  },
  {
   "cell_type": "markdown",
   "metadata": {},
   "source": [
    "### Visualizing the SPN Graph"
   ]
  },
  {
   "cell_type": "code",
   "execution_count": null,
   "metadata": {},
   "outputs": [],
   "source": [
    "spn.display_spn_graph(root)"
   ]
  },
  {
   "cell_type": "markdown",
   "metadata": {},
   "source": [
    "### Add Value Ops"
   ]
  },
  {
   "cell_type": "code",
   "execution_count": 3,
   "metadata": {},
   "outputs": [],
   "source": [
    "init_weights = spn.initialize_weights(root)\n",
    "marginal_val = root.get_value(inference_type=spn.InferenceType.MARGINAL)\n",
    "mpe_val = root.get_value(inference_type=spn.InferenceType.MPE)"
   ]
  },
  {
   "cell_type": "markdown",
   "metadata": {},
   "source": [
    "### Calculate Values"
   ]
  },
  {
   "cell_type": "code",
   "execution_count": 4,
   "metadata": {},
   "outputs": [
    {
     "name": "stdout",
     "output_type": "stream",
     "text": [
      "[[0.08199999]\n",
      " [0.52199996]\n",
      " [0.69      ]\n",
      " [1.        ]]\n",
      "[[0.06 ]\n",
      " [0.216]\n",
      " [0.216]\n",
      " [0.216]]\n"
     ]
    }
   ],
   "source": [
    "indicators_x_arr = [[0, 1],\n",
    "           [1, 0],\n",
    "           [1,-1],\n",
    "           [-1,-1]]\n",
    "\n",
    "latent_indicator_y_arr = [[-1]] * 4\n",
    "\n",
    "with tf.Session() as sess:\n",
    "    sess.run(init_weights)\n",
    "    marginal_val_arr = sess.run(marginal_val, feed_dict={indicators_x: indicators_x_arr, latent_indicator_y: latent_indicator_y_arr})\n",
    "    mpe_val_arr = sess.run(mpe_val, feed_dict={indicators_x: indicators_x_arr, latent_indicator_y: latent_indicator_y_arr})\n",
    "\n",
    "print(marginal_val_arr)\n",
    "print(mpe_val_arr)"
   ]
  },
  {
   "cell_type": "markdown",
   "metadata": {},
   "source": [
    "### Add MPE State Ops"
   ]
  },
  {
   "cell_type": "code",
   "execution_count": 5,
   "metadata": {},
   "outputs": [
    {
     "name": "stdout",
     "output_type": "stream",
     "text": [
      "WARNING:tensorflow:From /home/jos/.local/lib/python3.5/site-packages/tensorflow_probability/python/distributions/categorical.py:263: multinomial (from tensorflow.python.ops.random_ops) is deprecated and will be removed in a future version.\n",
      "Instructions for updating:\n",
      "Use tf.random.categorical instead.\n"
     ]
    },
    {
     "name": "stderr",
     "output_type": "stream",
     "text": [
      "[WARNING] [tensorflow:new_func] From /home/jos/.local/lib/python3.5/site-packages/tensorflow_probability/python/distributions/categorical.py:263: multinomial (from tensorflow.python.ops.random_ops) is deprecated and will be removed in a future version.\n",
      "Instructions for updating:\n",
      "Use tf.random.categorical instead.\n"
     ]
    }
   ],
   "source": [
    "mpe_state_gen = spn.MPEState(value_inference_type=spn.InferenceType.MPE)\n",
    "indicators_x_state, latent_indicator_y_state = mpe_state_gen.get_state(root, indicators_x, latent_indicator_y)"
   ]
  },
  {
   "cell_type": "code",
   "execution_count": 6,
   "metadata": {},
   "outputs": [
    {
     "name": "stdout",
     "output_type": "stream",
     "text": [
      "WARNING:tensorflow:From /home/jos/spn/libspn/libspn/session.py:34: start_queue_runners (from tensorflow.python.training.queue_runner_impl) is deprecated and will be removed in a future version.\n",
      "Instructions for updating:\n",
      "To construct input pipelines, use the `tf.data` module.\n"
     ]
    },
    {
     "name": "stderr",
     "output_type": "stream",
     "text": [
      "[WARNING] [tensorflow:new_func] From /home/jos/spn/libspn/libspn/session.py:34: start_queue_runners (from tensorflow.python.training.queue_runner_impl) is deprecated and will be removed in a future version.\n",
      "Instructions for updating:\n",
      "To construct input pipelines, use the `tf.data` module.\n"
     ]
    },
    {
     "name": "stdout",
     "output_type": "stream",
     "text": [
      "WARNING:tensorflow:`tf.train.start_queue_runners()` was called when no queue runners were defined. You can safely remove the call to this deprecated function.\n"
     ]
    },
    {
     "name": "stderr",
     "output_type": "stream",
     "text": [
      "[WARNING] [tensorflow:start_queue_runners] `tf.train.start_queue_runners()` was called when no queue runners were defined. You can safely remove the call to this deprecated function.\n"
     ]
    },
    {
     "name": "stdout",
     "output_type": "stream",
     "text": [
      "[[1 0]]\n",
      "[[2]]\n"
     ]
    }
   ],
   "source": [
    "with spn.session() as (sess, _):\n",
    "    init_weights.run()\n",
    "    indicators_x_state_arr, latent_indicator_y_state_arr = sess.run([indicators_x_state, latent_indicator_y_state], \n",
    "                                              feed_dict={indicators_x: [[-1,-1]], \n",
    "                                                         latent_indicator_y: [[-1]]})\n",
    "    \n",
    "print(indicators_x_state_arr)\n",
    "print(latent_indicator_y_state_arr)"
   ]
  },
  {
   "cell_type": "code",
   "execution_count": null,
   "metadata": {
    "collapsed": true
   },
   "outputs": [],
   "source": []
  }
 ],
 "metadata": {
  "kernelspec": {
   "display_name": "Python 3",
   "language": "python",
   "name": "python3"
  },
  "language_info": {
   "codemirror_mode": {
    "name": "ipython",
    "version": 3
   },
   "file_extension": ".py",
   "mimetype": "text/x-python",
   "name": "python",
   "nbconvert_exporter": "python",
   "pygments_lexer": "ipython3",
   "version": "3.5.2"
  }
 },
 "nbformat": 4,
 "nbformat_minor": 2
}
