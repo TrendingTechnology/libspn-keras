{
 "cells": [
  {
   "cell_type": "code",
   "execution_count": 16,
   "metadata": {
    "collapsed": true
   },
   "outputs": [],
   "source": [
    "num_sums=2\n",
    "num_vals=3"
   ]
  },
  {
   "cell_type": "code",
   "execution_count": 6,
   "metadata": {},
   "outputs": [
    {
     "data": {
      "text/plain": [
       "array([[ 1,  2,  3],\n",
       "       [ 4,  5,  6],\n",
       "       [ 7,  8,  9],\n",
       "       [10, 11, 12]])"
      ]
     },
     "execution_count": 6,
     "metadata": {},
     "output_type": "execute_result"
    }
   ],
   "source": [
    "i=np.array([[1,2,3],[4,5,6],[7,8,9],[10,11,12]])\n",
    "i"
   ]
  },
  {
   "cell_type": "code",
   "execution_count": 7,
   "metadata": {},
   "outputs": [
    {
     "data": {
      "text/plain": [
       "array([[0, 1, 0, 1, 0, 1],\n",
       "       [1, 0, 0, 0, 0, 1],\n",
       "       [0, 1, 0, 1, 0, 1],\n",
       "       [0, 0, 1, 1, 0, 0]])"
      ]
     },
     "execution_count": 7,
     "metadata": {},
     "output_type": "execute_result"
    }
   ],
   "source": [
    "latent_indicators = np.array([[0,1,0,1,0,1], [1,0,0,0,0,1], [0,1,0,1,0,1], [0,0,1,1,0,0]])\n",
    "latent_indicators"
   ]
  },
  {
   "cell_type": "code",
   "execution_count": 61,
   "metadata": {},
   "outputs": [
    {
     "data": {
      "text/plain": [
       "array([[[0, 1, 0],\n",
       "        [1, 0, 1]],\n",
       "\n",
       "       [[1, 0, 0],\n",
       "        [0, 0, 1]],\n",
       "\n",
       "       [[0, 1, 0],\n",
       "        [1, 0, 1]],\n",
       "\n",
       "       [[0, 0, 1],\n",
       "        [1, 0, 0]]])"
      ]
     },
     "execution_count": 61,
     "metadata": {},
     "output_type": "execute_result"
    }
   ],
   "source": [
    "latent_indicatorsr=latent_indicators.reshape((-1, num_sums, num_vals))\n",
    "latent_indicatorsr"
   ]
  },
  {
   "cell_type": "code",
   "execution_count": 10,
   "metadata": {},
   "outputs": [
    {
     "data": {
      "text/plain": [
       "array([ 0.1,  0.2,  0.3,  0.4,  0.5,  0.6])"
      ]
     },
     "execution_count": 10,
     "metadata": {},
     "output_type": "execute_result"
    }
   ],
   "source": [
    "w = np.array([0.1, 0.2, 0.3, 0.4, 0.5, 0.6])\n",
    "w"
   ]
  },
  {
   "cell_type": "code",
   "execution_count": 35,
   "metadata": {},
   "outputs": [
    {
     "data": {
      "text/plain": [
       "array([[ 0.1,  0.2,  0.3],\n",
       "       [ 0.4,  0.5,  0.6]])"
      ]
     },
     "execution_count": 35,
     "metadata": {},
     "output_type": "execute_result"
    }
   ],
   "source": [
    "wr = w.reshape([num_sums, -1])\n",
    "wr"
   ]
  },
  {
   "cell_type": "code",
   "execution_count": 62,
   "metadata": {},
   "outputs": [
    {
     "name": "stdout",
     "output_type": "stream",
     "text": [
      "[[ 1  2  3]\n",
      " [ 4  5  6]\n",
      " [ 7  8  9]\n",
      " [10 11 12]]\n",
      "[ 0.1  0.2  0.3  0.4  0.5  0.6]\n",
      "[[ 0.1  0.2  0.3]\n",
      " [ 0.4  0.5  0.6]]\n",
      "[[0 1 0 1 0 1]\n",
      " [1 0 0 0 0 1]\n",
      " [0 1 0 1 0 1]\n",
      " [0 0 1 1 0 0]]\n",
      "[[[0 1 0]\n",
      "  [1 0 1]]\n",
      "\n",
      " [[1 0 0]\n",
      "  [0 0 1]]\n",
      "\n",
      " [[0 1 0]\n",
      "  [1 0 1]]\n",
      "\n",
      " [[0 0 1]\n",
      "  [1 0 0]]]\n"
     ]
    }
   ],
   "source": [
    "print(i)\n",
    "print(w)\n",
    "print(wr)\n",
    "print(latent_indicators)\n",
    "print(latent_indicatorsr)"
   ]
  },
  {
   "cell_type": "markdown",
   "metadata": {},
   "source": [
    "# Value (No IVs)"
   ]
  },
  {
   "cell_type": "code",
   "execution_count": 70,
   "metadata": {},
   "outputs": [
    {
     "data": {
      "text/plain": [
       "array([[  1.4,   3.2],\n",
       "       [  3.2,   7.7],\n",
       "       [  5. ,  12.2],\n",
       "       [  6.8,  16.7]])"
      ]
     },
     "execution_count": 70,
     "metadata": {},
     "output_type": "execute_result"
    }
   ],
   "source": [
    "# Use the same idea for log values\n",
    "np.sum(i.reshape([-1,1,i.shape[1]])*wr, axis=2)"
   ]
  },
  {
   "cell_type": "code",
   "execution_count": 47,
   "metadata": {},
   "outputs": [
    {
     "data": {
      "text/plain": [
       "array([[  1.4,   3.2],\n",
       "       [  3.2,   7.7],\n",
       "       [  5. ,  12.2],\n",
       "       [  6.8,  16.7]])"
      ]
     },
     "execution_count": 47,
     "metadata": {},
     "output_type": "execute_result"
    }
   ],
   "source": [
    "np.tensordot(i, wr, axes=[1,1])"
   ]
  },
  {
   "cell_type": "code",
   "execution_count": 49,
   "metadata": {},
   "outputs": [
    {
     "data": {
      "text/plain": [
       "array([[  1.4,   3.2],\n",
       "       [  3.2,   7.7],\n",
       "       [  5. ,  12.2],\n",
       "       [  6.8,  16.7]])"
      ]
     },
     "execution_count": 49,
     "metadata": {},
     "output_type": "execute_result"
    }
   ],
   "source": [
    "i@wr.transpose()"
   ]
  },
  {
   "cell_type": "markdown",
   "metadata": {},
   "source": [
    "# Value (With IVs)"
   ]
  },
  {
   "cell_type": "code",
   "execution_count": 66,
   "metadata": {},
   "outputs": [
    {
     "name": "stdout",
     "output_type": "stream",
     "text": [
      "[[[ 0.   0.4  0. ]\n",
      "  [ 0.4  0.   1.8]]\n",
      "\n",
      " [[ 0.4  0.   0. ]\n",
      "  [ 0.   0.   3.6]]\n",
      "\n",
      " [[ 0.   1.6  0. ]\n",
      "  [ 2.8  0.   5.4]]\n",
      "\n",
      " [[ 0.   0.   3.6]\n",
      "  [ 4.   0.   0. ]]]\n"
     ]
    },
    {
     "data": {
      "text/plain": [
       "array([[ 0.4,  2.2],\n",
       "       [ 0.4,  3.6],\n",
       "       [ 1.6,  8.2],\n",
       "       [ 3.6,  4. ]])"
      ]
     },
     "execution_count": 66,
     "metadata": {},
     "output_type": "execute_result"
    }
   ],
   "source": [
    "before_reduce = i.reshape([-1,1,i.shape[1]]) * (latent_indicatorsr*wr)\n",
    "print(before_reduce)\n",
    "np.sum(before_reduce, axis=2)"
   ]
  },
  {
   "cell_type": "markdown",
   "metadata": {},
   "source": [
    "# Calculating MPE value (With IVs)"
   ]
  },
  {
   "cell_type": "code",
   "execution_count": 72,
   "metadata": {},
   "outputs": [
    {
     "name": "stdout",
     "output_type": "stream",
     "text": [
      "[[[ 0.   0.4  0. ]\n",
      "  [ 0.4  0.   1.8]]\n",
      "\n",
      " [[ 0.4  0.   0. ]\n",
      "  [ 0.   0.   3.6]]\n",
      "\n",
      " [[ 0.   1.6  0. ]\n",
      "  [ 2.8  0.   5.4]]\n",
      "\n",
      " [[ 0.   0.   3.6]\n",
      "  [ 4.   0.   0. ]]]\n"
     ]
    },
    {
     "data": {
      "text/plain": [
       "array([[ 0.4,  1.8],\n",
       "       [ 0.4,  3.6],\n",
       "       [ 1.6,  5.4],\n",
       "       [ 3.6,  4. ]])"
      ]
     },
     "execution_count": 72,
     "metadata": {},
     "output_type": "execute_result"
    }
   ],
   "source": [
    "before_reduce = i.reshape([-1,1,i.shape[1]]) * (latent_indicatorsr*wr)\n",
    "print(before_reduce)\n",
    "np.amax(before_reduce, axis=2)"
   ]
  }
 ],
 "metadata": {
  "kernelspec": {
   "display_name": "Python 3",
   "language": "python",
   "name": "python3"
  },
  "language_info": {
   "codemirror_mode": {
    "name": "ipython",
    "version": 3
   },
   "file_extension": ".py",
   "mimetype": "text/x-python",
   "name": "python",
   "nbconvert_exporter": "python",
   "pygments_lexer": "ipython3",
   "version": "3.5.2"
  }
 },
 "nbformat": 4,
 "nbformat_minor": 2
}
