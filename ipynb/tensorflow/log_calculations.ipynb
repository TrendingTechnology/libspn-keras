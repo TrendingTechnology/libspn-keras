{
 "cells": [
  {
   "cell_type": "code",
   "execution_count": 1,
   "metadata": {
    "collapsed": false
   },
   "outputs": [],
   "source": [
    "import tensorflow as tf\n",
    "import libspn as spn\n",
    "sess = tf.InteractiveSession()"
   ]
  },
  {
   "cell_type": "markdown",
   "metadata": {},
   "source": [
    "# Product in log space"
   ]
  },
  {
   "cell_type": "code",
   "execution_count": 2,
   "metadata": {
    "collapsed": false
   },
   "outputs": [
    {
     "name": "stdout",
     "output_type": "stream",
     "text": [
      "-inf\n",
      "-inf\n"
     ]
    }
   ],
   "source": [
    "v1 = 0\n",
    "v2 = 0\n",
    "v1_log=tf.log(tf.constant(v1, dtype=tf.float32))\n",
    "v2_log=tf.log(tf.constant(v2, dtype=tf.float32))\n",
    "print(v1_log.eval())\n",
    "print(v2_log.eval())"
   ]
  },
  {
   "cell_type": "code",
   "execution_count": 3,
   "metadata": {
    "collapsed": false
   },
   "outputs": [
    {
     "name": "stdout",
     "output_type": "stream",
     "text": [
      "-inf\n"
     ]
    }
   ],
   "source": [
    "out_log = tf.add(v1_log, v2_log)\n",
    "print(out_log.eval())"
   ]
  },
  {
   "cell_type": "code",
   "execution_count": 4,
   "metadata": {
    "collapsed": false
   },
   "outputs": [
    {
     "name": "stdout",
     "output_type": "stream",
     "text": [
      "0.0\n",
      "0\n"
     ]
    }
   ],
   "source": [
    "out = tf.exp(out_log)\n",
    "print(out.eval())\n",
    "print(v1*v2)"
   ]
  },
  {
   "cell_type": "markdown",
   "metadata": {},
   "source": [
    "# Sum in log space (naive)"
   ]
  },
  {
   "cell_type": "code",
   "execution_count": 5,
   "metadata": {
    "collapsed": false
   },
   "outputs": [
    {
     "name": "stdout",
     "output_type": "stream",
     "text": [
      "-inf\n",
      "-inf\n"
     ]
    }
   ],
   "source": [
    "v1 = 0\n",
    "v2 = 0\n",
    "v1_log=tf.log(tf.constant(v1, dtype=tf.float32))\n",
    "v2_log=tf.log(tf.constant(v2, dtype=tf.float32))\n",
    "print(v1_log.eval())\n",
    "print(v2_log.eval())"
   ]
  },
  {
   "cell_type": "code",
   "execution_count": 6,
   "metadata": {
    "collapsed": false
   },
   "outputs": [
    {
     "name": "stdout",
     "output_type": "stream",
     "text": [
      "-inf\n"
     ]
    }
   ],
   "source": [
    "v_log_max = tf.maximum(v1_log, v2_log)\n",
    "print(v_log_max.eval())"
   ]
  },
  {
   "cell_type": "code",
   "execution_count": 7,
   "metadata": {
    "collapsed": false
   },
   "outputs": [
    {
     "name": "stdout",
     "output_type": "stream",
     "text": [
      "nan\n",
      "nan\n"
     ]
    }
   ],
   "source": [
    "v1_log_rebased = tf.sub(v1_log, v_log_max)\n",
    "v2_log_rebased = tf.sub(v2_log, v_log_max)\n",
    "print(v1_log_rebased.eval())\n",
    "print(v2_log_rebased.eval())"
   ]
  },
  {
   "cell_type": "code",
   "execution_count": 8,
   "metadata": {
    "collapsed": false
   },
   "outputs": [
    {
     "name": "stdout",
     "output_type": "stream",
     "text": [
      "nan\n"
     ]
    }
   ],
   "source": [
    "out_log = v_log_max + tf.log(tf.add(tf.exp(v1_log_rebased), tf.exp(v2_log_rebased)))\n",
    "print(out_log.eval())"
   ]
  },
  {
   "cell_type": "code",
   "execution_count": 9,
   "metadata": {
    "collapsed": false
   },
   "outputs": [
    {
     "name": "stdout",
     "output_type": "stream",
     "text": [
      "nan\n",
      "0\n"
     ]
    }
   ],
   "source": [
    "out = tf.exp(out_log)\n",
    "print(out.eval())\n",
    "print(v1+v2)"
   ]
  },
  {
   "cell_type": "markdown",
   "metadata": {},
   "source": [
    "This will produce nan if all operants are 0. Then the v_log_max ends up being neg inf and subtracting neg inf from neg info results in nan. This case must be detected."
   ]
  },
  {
   "cell_type": "markdown",
   "metadata": {},
   "source": [
    "# Sum in log space (with all zero detection)"
   ]
  },
  {
   "cell_type": "code",
   "execution_count": 10,
   "metadata": {
    "collapsed": false
   },
   "outputs": [
    {
     "name": "stdout",
     "output_type": "stream",
     "text": [
      "-inf\n",
      "-inf\n"
     ]
    }
   ],
   "source": [
    "v1 = 0\n",
    "v2 = 0\n",
    "v1_log=tf.log(tf.constant(v1, dtype=tf.float32))\n",
    "v2_log=tf.log(tf.constant(v2, dtype=tf.float32))\n",
    "print(v1_log.eval())\n",
    "print(v2_log.eval())"
   ]
  },
  {
   "cell_type": "code",
   "execution_count": 11,
   "metadata": {
    "collapsed": false
   },
   "outputs": [
    {
     "name": "stdout",
     "output_type": "stream",
     "text": [
      "-inf\n"
     ]
    }
   ],
   "source": [
    "v_log_max = tf.maximum(v1_log, v2_log)\n",
    "print(v_log_max.eval())"
   ]
  },
  {
   "cell_type": "code",
   "execution_count": 12,
   "metadata": {
    "collapsed": false
   },
   "outputs": [
    {
     "name": "stdout",
     "output_type": "stream",
     "text": [
      "True\n"
     ]
    }
   ],
   "source": [
    "import math\n",
    "all_zero = tf.equal(v_log_max, tf.constant(-math.inf, dtype=tf.float32))\n",
    "print(all_zero.eval())"
   ]
  },
  {
   "cell_type": "code",
   "execution_count": 13,
   "metadata": {
    "collapsed": false
   },
   "outputs": [
    {
     "name": "stdout",
     "output_type": "stream",
     "text": [
      "nan\n",
      "nan\n"
     ]
    }
   ],
   "source": [
    "v1_log_rebased = tf.sub(v1_log, v_log_max)\n",
    "v2_log_rebased = tf.sub(v2_log, v_log_max)\n",
    "print(v1_log_rebased.eval())\n",
    "print(v2_log_rebased.eval())"
   ]
  },
  {
   "cell_type": "code",
   "execution_count": 14,
   "metadata": {
    "collapsed": false
   },
   "outputs": [
    {
     "name": "stdout",
     "output_type": "stream",
     "text": [
      "nan\n",
      "-inf\n",
      "-inf\n"
     ]
    }
   ],
   "source": [
    "out_log_normal = v_log_max + tf.log(tf.add(tf.exp(v1_log_rebased), tf.exp(v2_log_rebased)))\n",
    "out_log_zeros = tf.constant(-math.inf, dtype=tf.float32)\n",
    "print(out_log_normal.eval())\n",
    "print(out_log_zeros.eval())\n",
    "out_log = tf.select(all_zero, out_log_zeros, out_log_normal)\n",
    "print(out_log.eval())"
   ]
  },
  {
   "cell_type": "code",
   "execution_count": 15,
   "metadata": {
    "collapsed": false
   },
   "outputs": [
    {
     "name": "stdout",
     "output_type": "stream",
     "text": [
      "0.0\n",
      "0\n"
     ]
    }
   ],
   "source": [
    "out = tf.exp(out_log)\n",
    "print(out.eval())\n",
    "print(v1+v2)"
   ]
  },
  {
   "cell_type": "markdown",
   "metadata": {},
   "source": [
    "# Sum in log space on a batch"
   ]
  },
  {
   "cell_type": "code",
   "execution_count": 16,
   "metadata": {
    "collapsed": false
   },
   "outputs": [
    {
     "name": "stdout",
     "output_type": "stream",
     "text": [
      "[[       -inf        -inf]\n",
      " [-0.69314718 -0.51082557]]\n"
     ]
    }
   ],
   "source": [
    "v11 = 0\n",
    "v12 = 0\n",
    "v21 = 0.5\n",
    "v22 = 0.6\n",
    "v_batch = tf.constant([[v11,v12], [v21, v22]], dtype=tf.float32)\n",
    "v_log=tf.log(v_batch)\n",
    "print(v_log.eval())"
   ]
  },
  {
   "cell_type": "code",
   "execution_count": 17,
   "metadata": {
    "collapsed": false
   },
   "outputs": [
    {
     "name": "stdout",
     "output_type": "stream",
     "text": [
      "[[ -3.40282347e+38]\n",
      " [ -5.10825574e-01]]\n"
     ]
    }
   ],
   "source": [
    "v_log_max = tf.reduce_max(v_log, 1, keep_dims=True)\n",
    "print(v_log_max.eval())"
   ]
  },
  {
   "cell_type": "code",
   "execution_count": 18,
   "metadata": {
    "collapsed": false
   },
   "outputs": [
    {
     "name": "stdout",
     "output_type": "stream",
     "text": [
      "[[False]\n",
      " [False]]\n"
     ]
    }
   ],
   "source": [
    "import math\n",
    "all_zero = tf.equal(v_log_max, tf.constant(-math.inf, dtype=tf.float32))\n",
    "print(all_zero.eval())"
   ]
  },
  {
   "cell_type": "code",
   "execution_count": 19,
   "metadata": {
    "collapsed": false
   },
   "outputs": [
    {
     "name": "stdout",
     "output_type": "stream",
     "text": [
      "[[       -inf        -inf]\n",
      " [-0.18232161  0.        ]]\n"
     ]
    }
   ],
   "source": [
    "v_log_rebased = tf.sub(v_log, v_log_max)\n",
    "print(v_log_rebased.eval())"
   ]
  },
  {
   "cell_type": "code",
   "execution_count": 20,
   "metadata": {
    "collapsed": false
   },
   "outputs": [
    {
     "name": "stdout",
     "output_type": "stream",
     "text": [
      "[2 1]\n",
      "[[       -inf]\n",
      " [ 0.09531021]]\n",
      "[[-inf]\n",
      " [-inf]]\n",
      "[[       -inf]\n",
      " [ 0.09531021]]\n"
     ]
    }
   ],
   "source": [
    "out_log_normal = v_log_max + tf.log(tf.reduce_sum(tf.exp(v_log_rebased), 1, keep_dims=True))\n",
    "print(tf.shape(out_log_normal).eval())\n",
    "out_log_zeros = tf.fill(tf.shape(out_log_normal), tf.constant(-math.inf, dtype=tf.float32))\n",
    "print(out_log_normal.eval())\n",
    "print(out_log_zeros.eval())\n",
    "out_log = tf.select(all_zero, out_log_zeros, out_log_normal)\n",
    "print(out_log.eval())"
   ]
  },
  {
   "cell_type": "code",
   "execution_count": 21,
   "metadata": {
    "collapsed": false
   },
   "outputs": [
    {
     "name": "stdout",
     "output_type": "stream",
     "text": [
      "[[ 0.        ]\n",
      " [ 1.10000002]]\n",
      "[[ 0.        ]\n",
      " [ 1.10000002]]\n"
     ]
    }
   ],
   "source": [
    "out = tf.exp(out_log_normal)\n",
    "out_arr = out.eval()\n",
    "print(out_arr)\n",
    "print(tf.reduce_sum(v_batch, 1, keep_dims=True).eval())"
   ]
  },
  {
   "cell_type": "code",
   "execution_count": 22,
   "metadata": {
    "collapsed": false
   },
   "outputs": [
    {
     "data": {
      "text/plain": [
       "array([[ True],\n",
       "       [False]], dtype=bool)"
      ]
     },
     "execution_count": 22,
     "metadata": {},
     "output_type": "execute_result"
    }
   ],
   "source": [
    "out_arr == 0.0"
   ]
  },
  {
   "cell_type": "code",
   "execution_count": 23,
   "metadata": {
    "collapsed": false
   },
   "outputs": [
    {
     "name": "stdout",
     "output_type": "stream",
     "text": [
      "-inf\n",
      "-3.40282e+38\n"
     ]
    },
    {
     "data": {
      "text/plain": [
       "finfo(resolution=1e-06, min=-3.4028235e+38, max=3.4028235e+38, dtype=float32)"
      ]
     },
     "execution_count": 23,
     "metadata": {},
     "output_type": "execute_result"
    }
   ],
   "source": [
    "print(tf.maximum(-math.inf, -math.inf).eval())\n",
    "print(tf.reduce_max([-math.inf, -math.inf]).eval())\n",
    "np.finfo(np.float32)"
   ]
  },
  {
   "cell_type": "markdown",
   "metadata": {},
   "source": [
    "There clearly is a problem with reduce_max which returns min float32 instead of -inf for both negative infinity inputs. At the same time, tf.maximum works as expected. This still gives the correct result, and actually will lead to a simpler code since the negative inf detection is not needed in this case. But is this a stable behavior or a bug that will be removed?"
   ]
  },
  {
   "cell_type": "markdown",
   "metadata": {},
   "source": [
    "# Sum in log space on a batch with weights"
   ]
  },
  {
   "cell_type": "code",
   "execution_count": 24,
   "metadata": {
    "collapsed": false
   },
   "outputs": [
    {
     "name": "stdout",
     "output_type": "stream",
     "text": [
      "[[       -inf        -inf]\n",
      " [-23.0258503 -23.0258503]]\n",
      "[-2.30258512 -0.10536055]\n"
     ]
    }
   ],
   "source": [
    "v11 = 0\n",
    "v12 = 0\n",
    "v21 = 0.0000000001\n",
    "v22 = 0.0000000001\n",
    "w1 = 0.1\n",
    "w2 = 0.9\n",
    "v_batch = tf.constant([[v11,v12], [v21, v22]], dtype=tf.float32)\n",
    "w = tf.constant([w1, w2], dtype=tf.float32)\n",
    "v_log = tf.log(v_batch)\n",
    "w_log = tf.log(w)\n",
    "print(v_log.eval())\n",
    "print(w_log.eval())"
   ]
  },
  {
   "cell_type": "code",
   "execution_count": 25,
   "metadata": {
    "collapsed": false
   },
   "outputs": [],
   "source": [
    "v_log = tf.add(v_log, w_log)"
   ]
  },
  {
   "cell_type": "code",
   "execution_count": 26,
   "metadata": {
    "collapsed": false
   },
   "outputs": [
    {
     "name": "stdout",
     "output_type": "stream",
     "text": [
      "[[ -3.40282347e+38]\n",
      " [ -2.31312103e+01]]\n"
     ]
    }
   ],
   "source": [
    "v_log_max = tf.reduce_max(v_log, 1, keep_dims=True)\n",
    "print(v_log_max.eval())"
   ]
  },
  {
   "cell_type": "code",
   "execution_count": 27,
   "metadata": {
    "collapsed": false
   },
   "outputs": [
    {
     "name": "stdout",
     "output_type": "stream",
     "text": [
      "[[False]\n",
      " [False]]\n"
     ]
    }
   ],
   "source": [
    "import math\n",
    "all_zero = tf.equal(v_log_max, tf.constant(-math.inf, dtype=tf.float32))\n",
    "print(all_zero.eval())"
   ]
  },
  {
   "cell_type": "code",
   "execution_count": 28,
   "metadata": {
    "collapsed": false
   },
   "outputs": [
    {
     "name": "stdout",
     "output_type": "stream",
     "text": [
      "[[       -inf        -inf]\n",
      " [-2.19722557  0.        ]]\n"
     ]
    }
   ],
   "source": [
    "v_log_rebased = tf.sub(v_log, v_log_max)\n",
    "print(v_log_rebased.eval())"
   ]
  },
  {
   "cell_type": "code",
   "execution_count": 29,
   "metadata": {
    "collapsed": false
   },
   "outputs": [
    {
     "name": "stdout",
     "output_type": "stream",
     "text": [
      "[2 1]\n",
      "[[       -inf]\n",
      " [-23.0258503]]\n",
      "[[-inf]\n",
      " [-inf]]\n",
      "[[       -inf]\n",
      " [-23.0258503]]\n"
     ]
    }
   ],
   "source": [
    "out_log_normal = v_log_max + tf.log(tf.reduce_sum(tf.exp(v_log_rebased), 1, keep_dims=True))\n",
    "print(tf.shape(out_log_normal).eval())\n",
    "out_log_zeros = tf.fill(tf.shape(out_log_normal), tf.constant(-math.inf, dtype=tf.float32))\n",
    "print(out_log_normal.eval())\n",
    "print(out_log_zeros.eval())\n",
    "out_log = tf.select(all_zero, out_log_zeros, out_log_normal)\n",
    "print(out_log.eval())"
   ]
  },
  {
   "cell_type": "code",
   "execution_count": 30,
   "metadata": {
    "collapsed": false
   },
   "outputs": [
    {
     "name": "stdout",
     "output_type": "stream",
     "text": [
      "[[  0.00000000e+00]\n",
      " [  1.00000064e-10]]\n",
      "[[0.0], [1e-10]]\n",
      "[[0.0], [1.000001e-10]]\n"
     ]
    },
    {
     "name": "stderr",
     "output_type": "stream",
     "text": [
      "/home/czikus/.local/lib/python3.5/site-packages/ipykernel/__main__.py:6: RuntimeWarning: divide by zero encountered in log\n"
     ]
    }
   ],
   "source": [
    "out = tf.exp(out_log_normal)\n",
    "out_arr = out.eval()\n",
    "print(out_arr)\n",
    "print([[np.float32(v11)*np.float32(w1)+np.float32(v12)*np.float32(w2)], \n",
    "       [np.float32(v21)*np.float32(w1)+np.float32(v22)*np.float32(w2)]])\n",
    "print([[np.exp(np.log(np.float32(v11))+np.log(np.float32(w1)))+np.exp(np.log(np.float32(v12))+np.log(np.float32(w2)))], \n",
    "       [np.exp(np.log(np.float32(v21))+np.log(np.float32(w1)))+np.exp(np.log(np.float32(v22))+np.log(np.float32(w2)))]])"
   ]
  }
 ],
 "metadata": {
  "kernelspec": {
   "display_name": "Python 3",
   "language": "python",
   "name": "python3"
  },
  "language_info": {
   "codemirror_mode": {
    "name": "ipython",
    "version": 3
   },
   "file_extension": ".py",
   "mimetype": "text/x-python",
   "name": "python",
   "nbconvert_exporter": "python",
   "pygments_lexer": "ipython3",
   "version": "3.5.2"
  }
 },
 "nbformat": 4,
 "nbformat_minor": 1
}
