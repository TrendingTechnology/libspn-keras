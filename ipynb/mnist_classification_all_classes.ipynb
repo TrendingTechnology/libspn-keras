{
 "cells": [
  {
   "cell_type": "code",
   "execution_count": 1,
   "metadata": {
    "collapsed": true
   },
   "outputs": [],
   "source": [
    "import libspn as spn\n",
    "import tensorflow as tf\n",
    "import numpy as np\n",
    "import matplotlib.pyplot as plt\n",
    "import scipy as scp"
   ]
  },
  {
   "cell_type": "markdown",
   "metadata": {},
   "source": [
    "# Params"
   ]
  },
  {
   "cell_type": "markdown",
   "metadata": {},
   "source": [
    "### Structure"
   ]
  },
  {
   "cell_type": "code",
   "execution_count": 2,
   "metadata": {
    "collapsed": true
   },
   "outputs": [],
   "source": [
    "# Type of input distributions for dense generator\n",
    "input_dist = spn.DenseSPNGenerator.InputDist.RAW\n",
    "\n",
    "num_decomps=1\n",
    "num_subsets=5\n",
    "num_mixtures=2\n",
    "\n",
    "# Number of input mixtures for dense generator\n",
    "num_input_mixtures = 2"
   ]
  },
  {
   "cell_type": "markdown",
   "metadata": {},
   "source": [
    "### Learning"
   ]
  },
  {
   "cell_type": "code",
   "execution_count": 3,
   "metadata": {
    "collapsed": true
   },
   "outputs": [],
   "source": [
    "# Additive smoothing during learning\n",
    "additive_smoothing=100\n",
    "min_additive_smoothing=1\n",
    "smoothing_decay=0.2\n",
    "\n",
    "# Weight initialization\n",
    "# weight_init_value = 1\n",
    "weight_init_value = spn.ValueType.RANDOM_UNIFORM(10, 11)\n",
    "\n",
    "# Type of inference during upward pass of learning\n",
    "value_inference_type = spn.InferenceType.MARGINAL"
   ]
  },
  {
   "cell_type": "markdown",
   "metadata": {},
   "source": [
    "# Training Set"
   ]
  },
  {
   "cell_type": "code",
   "execution_count": 4,
   "metadata": {
    "collapsed": false
   },
   "outputs": [
    {
     "name": "stdout",
     "output_type": "stream",
     "text": [
      "Extracting /home/pronobis/Data/mnist/train-images-idx3-ubyte.gz\n",
      "Extracting /home/pronobis/Data/mnist/train-labels-idx1-ubyte.gz\n",
      "Extracting /home/pronobis/Data/mnist/t10k-images-idx3-ubyte.gz\n",
      "Extracting /home/pronobis/Data/mnist/t10k-labels-idx1-ubyte.gz\n"
     ]
    }
   ],
   "source": [
    "datasets = tf.contrib.learn.datasets.mnist.read_data_sets(\"/home/pronobis/Data/mnist\")"
   ]
  },
  {
   "cell_type": "code",
   "execution_count": 5,
   "metadata": {
    "collapsed": true
   },
   "outputs": [],
   "source": [
    "def show_mnist(img):\n",
    "    img=np.reshape(img, (14,14))\n",
    "    plt.imshow(img, interpolation='none')\n",
    "    plt.show()"
   ]
  },
  {
   "cell_type": "markdown",
   "metadata": {},
   "source": [
    "### Process data"
   ]
  },
  {
   "cell_type": "code",
   "execution_count": 6,
   "metadata": {
    "collapsed": true
   },
   "outputs": [],
   "source": [
    "def process_set(data):\n",
    "    threshold = 20\n",
    "    images = np.reshape(data, (-1, 28,28))\n",
    "    resized=[]\n",
    "    for i in range(images.shape[0]):\n",
    "        resized.append((scp.misc.imresize(images[i, :, :], 0.5, interp='nearest').ravel() > threshold).astype(dtype=int))\n",
    "    images=np.vstack(resized)\n",
    "    return images"
   ]
  },
  {
   "cell_type": "code",
   "execution_count": 7,
   "metadata": {
    "collapsed": false
   },
   "outputs": [],
   "source": [
    "train_images = process_set(datasets.train.images)\n",
    "test_images = process_set(datasets.test.images)\n",
    "train_labels = datasets.train.labels\n",
    "test_labels = datasets.test.labels\n",
    "validation_labels = datasets.validation.labels"
   ]
  },
  {
   "cell_type": "code",
   "execution_count": 8,
   "metadata": {
    "collapsed": false
   },
   "outputs": [
    {
     "data": {
      "image/png": "[encoded data removed]",
      "text/plain": [
       "<matplotlib.figure.Figure at 0x7fbfdab33d30>"
      ]
     },
     "metadata": {},
     "output_type": "display_data"
    }
   ],
   "source": [
    "show_mnist(train_images[19])"
   ]
  },
  {
   "cell_type": "markdown",
   "metadata": {},
   "source": [
    "# Generate SPN structure"
   ]
  },
  {
   "cell_type": "code",
   "execution_count": 10,
   "metadata": {
    "collapsed": false
   },
   "outputs": [
    {
     "name": "stdout",
     "output_type": "stream",
     "text": [
      "15980\n"
     ]
    }
   ],
   "source": [
    "ivs = spn.IVs(num_vars=196, num_vals=2)\n",
    "dense_gen = spn.DenseSPNGenerator(num_decomps=num_decomps, num_subsets=num_subsets, num_mixtures=num_mixtures, \n",
    "                                  input_dist=input_dist, \n",
    "                                  num_input_mixtures=num_input_mixtures)\n",
    "class_roots = [dense_gen.generate(ivs) for _ in range(10)]\n",
    "root = spn.Sum(*class_roots)\n",
    "spn.generate_weights(root, init_value=weight_init_value)\n",
    "latent = root.generate_ivs()\n",
    "print(root.get_num_nodes())"
   ]
  },
  {
   "cell_type": "markdown",
   "metadata": {},
   "source": [
    "# Add Learning Ops"
   ]
  },
  {
   "cell_type": "code",
   "execution_count": 11,
   "metadata": {
    "collapsed": false
   },
   "outputs": [],
   "source": [
    "additive_smoothing_var = tf.Variable(additive_smoothing, dtype=spn.conf.dtype)\n",
    "learning = spn.EMLearning(root, log=True, value_inference_type = value_inference_type,\n",
    "                          additive_smoothing=additive_smoothing_var)\n",
    "init_weights = spn.initialize_weights(root)\n",
    "reset_accumulators = learning.reset_accumulators()\n",
    "accumulate_updates = learning.accumulate_updates()\n",
    "update_spn = learning.update_spn()\n",
    "train_likelihood=learning.value.values[root]\n",
    "avg_train_likelihood = tf.reduce_mean(train_likelihood)"
   ]
  },
  {
   "cell_type": "markdown",
   "metadata": {
    "collapsed": true
   },
   "source": [
    "# Run Training"
   ]
  },
  {
   "cell_type": "code",
   "execution_count": 12,
   "metadata": {
    "collapsed": false
   },
   "outputs": [],
   "source": [
    "sess=None"
   ]
  },
  {
   "cell_type": "code",
   "execution_count": 13,
   "metadata": {
    "collapsed": false
   },
   "outputs": [
    {
     "name": "stdout",
     "output_type": "stream",
     "text": [
      "EPOCH 0 BATCH 0 SAMPLES 0 55000\n",
      "Smoothing:  100.0\n",
      "Avg likelihood (this batch data on previous weights): -138.161\n",
      "Avg likelihood: -138.160705566\n",
      "EPOCH 1 BATCH 0 SAMPLES 0 55000\n",
      "Smoothing:  81.8731\n",
      "Avg likelihood (this batch data on previous weights): -63.632\n",
      "Avg likelihood: -63.6320343018\n",
      "EPOCH 2 BATCH 0 SAMPLES 0 55000\n",
      "Smoothing:  67.032\n",
      "Avg likelihood (this batch data on previous weights): -61.0462\n",
      "Avg likelihood: -61.0462188721\n",
      "EPOCH 3 BATCH 0 SAMPLES 0 55000\n",
      "Smoothing:  54.8812\n",
      "Avg likelihood (this batch data on previous weights): -58.9092\n",
      "Avg likelihood: -58.9091529846\n",
      "EPOCH 4 BATCH 0 SAMPLES 0 55000\n",
      "Smoothing:  44.9329\n",
      "Avg likelihood (this batch data on previous weights): -57.1316\n",
      "Avg likelihood: -57.1316452026\n",
      "EPOCH 5 BATCH 0 SAMPLES 0 55000\n",
      "Smoothing:  36.7879\n",
      "Avg likelihood (this batch data on previous weights): -55.6239\n",
      "Avg likelihood: -55.6238555908\n",
      "EPOCH 6 BATCH 0 SAMPLES 0 55000\n",
      "Smoothing:  30.1194\n",
      "Avg likelihood (this batch data on previous weights): -54.352\n",
      "Avg likelihood: -54.3520355225\n",
      "EPOCH 7 BATCH 0 SAMPLES 0 55000\n",
      "Smoothing:  24.6597\n",
      "Avg likelihood (this batch data on previous weights): -53.2736\n",
      "Avg likelihood: -53.2736053467\n",
      "EPOCH 8 BATCH 0 SAMPLES 0 55000\n",
      "Smoothing:  20.1897\n",
      "Avg likelihood (this batch data on previous weights): -52.3606\n",
      "Avg likelihood: -52.3605728149\n",
      "EPOCH 9 BATCH 0 SAMPLES 0 55000\n",
      "Smoothing:  16.5299\n",
      "Avg likelihood (this batch data on previous weights): -51.5983\n",
      "Avg likelihood: -51.5983047485\n",
      "EPOCH 10 BATCH 0 SAMPLES 0 55000\n",
      "Smoothing:  13.5335\n",
      "Avg likelihood (this batch data on previous weights): -50.9596\n",
      "Avg likelihood: -50.9595680237\n",
      "EPOCH 11 BATCH 0 SAMPLES 0 55000\n",
      "Smoothing:  11.0803\n",
      "Avg likelihood (this batch data on previous weights): -50.4285\n",
      "Avg likelihood: -50.4284744263\n",
      "EPOCH 12 BATCH 0 SAMPLES 0 55000\n",
      "Smoothing:  9.0718\n",
      "Avg likelihood (this batch data on previous weights): -49.9891\n",
      "Avg likelihood: -49.9891471863\n",
      "EPOCH 13 BATCH 0 SAMPLES 0 55000\n",
      "Smoothing:  7.42736\n",
      "Avg likelihood (this batch data on previous weights): -49.6258\n",
      "Avg likelihood: -49.6258087158\n",
      "EPOCH 14 BATCH 0 SAMPLES 0 55000\n",
      "Smoothing:  6.08101\n",
      "Avg likelihood (this batch data on previous weights): -49.3269\n",
      "Avg likelihood: -49.3269271851\n",
      "EPOCH 15 BATCH 0 SAMPLES 0 55000\n",
      "Smoothing:  4.97871\n",
      "Avg likelihood (this batch data on previous weights): -49.0815\n",
      "Avg likelihood: -49.0814819336\n",
      "EPOCH 16 BATCH 0 SAMPLES 0 55000\n",
      "Smoothing:  4.07622\n",
      "Avg likelihood (this batch data on previous weights): -48.8829\n",
      "Avg likelihood: -48.8829040527\n",
      "EPOCH 17 BATCH 0 SAMPLES 0 55000\n",
      "Smoothing:  3.33733\n",
      "Avg likelihood (this batch data on previous weights): -48.7197\n",
      "Avg likelihood: -48.7197341919\n",
      "EPOCH 18 BATCH 0 SAMPLES 0 55000\n",
      "Smoothing:  2.73237\n",
      "Avg likelihood (this batch data on previous weights): -48.5859\n",
      "Avg likelihood: -48.5858764648\n",
      "EPOCH 19 BATCH 0 SAMPLES 0 55000\n",
      "Smoothing:  2.23708\n",
      "Avg likelihood (this batch data on previous weights): -48.4759\n",
      "Avg likelihood: -48.4759407043\n",
      "EPOCH 20 BATCH 0 SAMPLES 0 55000\n",
      "Smoothing:  1.83156\n",
      "Avg likelihood (this batch data on previous weights): -48.3855\n",
      "Avg likelihood: -48.3854866028\n"
     ]
    }
   ],
   "source": [
    "train_set = train_images\n",
    "train_labels=np.reshape(train_labels, (-1, 1))\n",
    "\n",
    "if sess is not None:\n",
    "    sess.close()\n",
    "sess = tf.Session()\n",
    "\n",
    "sess.run(init_weights)\n",
    "sess.run(reset_accumulators)\n",
    "\n",
    "num_batches=1\n",
    "batch_size = train_set.shape[0] // num_batches\n",
    "prev_likelihood = 100\n",
    "likelihood = 0\n",
    "epoch = 0\n",
    "while abs(prev_likelihood - likelihood)>0.1:\n",
    "    prev_likelihood=likelihood\n",
    "    likelihoods = []\n",
    "    for batch in range(num_batches):\n",
    "        start = (batch)*batch_size\n",
    "        stop = (batch+1)*batch_size\n",
    "        print(\"EPOCH\", epoch, \"BATCH\", batch, \"SAMPLES\", start, stop)\n",
    "        # Adjust smoothing\n",
    "        ads=max(np.exp(-epoch*smoothing_decay)*additive_smoothing, min_additive_smoothing)\n",
    "        sess.run(additive_smoothing_var.assign(ads))\n",
    "        print(\"Smoothing: \", sess.run(additive_smoothing_var)) \n",
    "        # Run accumulate_updates\n",
    "        train_likelihoods_arr, avg_train_likelihood_val, _, = \\\n",
    "                sess.run([train_likelihood, avg_train_likelihood, accumulate_updates],\n",
    "                        feed_dict={ivs: train_set[start:stop],\n",
    "                                   latent: train_labels[start:stop]})\n",
    "        # Print avg likelihood of this batch data on previous batch weights\n",
    "        print(\"Avg likelihood (this batch data on previous weights): %s\" % (avg_train_likelihood_val))\n",
    "        likelihoods.append(avg_train_likelihood_val)\n",
    "        # Update weights\n",
    "        sess.run(update_spn)\n",
    "    likelihood = sum(likelihoods) / len(likelihoods)\n",
    "    print(\"Avg likelihood: %s\" % (likelihood))\n",
    "    epoch+=1\n",
    "    sess.run(reset_accumulators)"
   ]
  },
  {
   "cell_type": "markdown",
   "metadata": {},
   "source": [
    "# Generate Testing Ops"
   ]
  },
  {
   "cell_type": "code",
   "execution_count": 14,
   "metadata": {
    "collapsed": true
   },
   "outputs": [],
   "source": [
    "mpe_state_gen = spn.MPEState(log=True, value_inference_type=spn.InferenceType.MPE)"
   ]
  },
  {
   "cell_type": "code",
   "execution_count": 15,
   "metadata": {
    "collapsed": false
   },
   "outputs": [],
   "source": [
    "mpe_ivs, mpe_latent = mpe_state_gen.get_state(root, ivs, latent)"
   ]
  },
  {
   "cell_type": "markdown",
   "metadata": {},
   "source": [
    "# Run Testing"
   ]
  },
  {
   "cell_type": "markdown",
   "metadata": {},
   "source": [
    "### MPE of the whole network"
   ]
  },
  {
   "cell_type": "code",
   "execution_count": 16,
   "metadata": {
    "collapsed": false
   },
   "outputs": [
    {
     "data": {
      "image/png": "[encoded data removed]",
      "text/plain": [
       "<matplotlib.figure.Figure at 0x7fbfdaa0c2e8>"
      ]
     },
     "metadata": {},
     "output_type": "display_data"
    },
    {
     "name": "stdout",
     "output_type": "stream",
     "text": [
      "[[1]]\n"
     ]
    }
   ],
   "source": [
    "mpe_ivs_val, mpe_latent_val = sess.run([mpe_ivs, mpe_latent], feed_dict={ivs: np.ones((1, 14*14), dtype=int) * -1,\n",
    "                                                                       latent: [[-1]]})\n",
    "show_mnist(mpe_ivs_val)\n",
    "print(mpe_latent_val)"
   ]
  },
  {
   "cell_type": "markdown",
   "metadata": {},
   "source": [
    "### MPE for 0"
   ]
  },
  {
   "cell_type": "code",
   "execution_count": 17,
   "metadata": {
    "collapsed": false
   },
   "outputs": [
    {
     "data": {
      "image/png": "[encoded data removed]",
      "text/plain": [
       "<matplotlib.figure.Figure at 0x7fbfda2e5ac8>"
      ]
     },
     "metadata": {},
     "output_type": "display_data"
    },
    {
     "name": "stdout",
     "output_type": "stream",
     "text": [
      "[[0]]\n"
     ]
    }
   ],
   "source": [
    "mpe_ivs_val, mpe_latent_val = sess.run([mpe_ivs, mpe_latent], feed_dict={ivs: np.ones((1, 14*14), dtype=int) * -1,\n",
    "                                                                       latent: [[0]]})\n",
    "show_mnist(mpe_ivs_val)\n",
    "print(mpe_latent_val)"
   ]
  },
  {
   "cell_type": "markdown",
   "metadata": {},
   "source": [
    "### MPE for 1"
   ]
  },
  {
   "cell_type": "code",
   "execution_count": 18,
   "metadata": {
    "collapsed": false
   },
   "outputs": [
    {
     "data": {
      "image/png": "[encoded data removed]",
      "text/plain": [
       "<matplotlib.figure.Figure at 0x7fbe41fe3128>"
      ]
     },
     "metadata": {},
     "output_type": "display_data"
    },
    {
     "name": "stdout",
     "output_type": "stream",
     "text": [
      "[[1]]\n"
     ]
    }
   ],
   "source": [
    "mpe_ivs_val, mpe_latent_val = sess.run([mpe_ivs, mpe_latent], feed_dict={ivs: np.ones((1, 14*14), dtype=int) * -1,\n",
    "                                                                       latent: [[1]]})\n",
    "show_mnist(mpe_ivs_val)\n",
    "print(mpe_latent_val)"
   ]
  },
  {
   "cell_type": "markdown",
   "metadata": {},
   "source": [
    "### MPE for 3"
   ]
  },
  {
   "cell_type": "code",
   "execution_count": 19,
   "metadata": {
    "collapsed": false
   },
   "outputs": [
    {
     "data": {
      "image/png": "[encoded data removed]",
      "text/plain": [
       "<matplotlib.figure.Figure at 0x7fbe419e2fd0>"
      ]
     },
     "metadata": {},
     "output_type": "display_data"
    },
    {
     "name": "stdout",
     "output_type": "stream",
     "text": [
      "[[3]]\n"
     ]
    }
   ],
   "source": [
    "mpe_ivs_val, mpe_latent_val = sess.run([mpe_ivs, mpe_latent], feed_dict={ivs: np.ones((1, 14*14), dtype=int) * -1,\n",
    "                                                                       latent: [[3]]})\n",
    "show_mnist(mpe_ivs_val)\n",
    "print(mpe_latent_val)"
   ]
  },
  {
   "cell_type": "markdown",
   "metadata": {},
   "source": [
    "### Classification of Training Data"
   ]
  },
  {
   "cell_type": "code",
   "execution_count": 21,
   "metadata": {
    "collapsed": false
   },
   "outputs": [
    {
     "data": {
      "text/plain": [
       "0.84590909090909094"
      ]
     },
     "execution_count": 21,
     "metadata": {},
     "output_type": "execute_result"
    }
   ],
   "source": [
    "mpe_latent_val = sess.run([mpe_latent], feed_dict={ivs: train_set, \n",
    "                                                   latent: np.ones((train_set.shape[0], 1))*-1})\n",
    "result=(mpe_latent_val==train_labels)\n",
    "np.sum(result) / train_labels.size"
   ]
  },
  {
   "cell_type": "markdown",
   "metadata": {
    "collapsed": true
   },
   "source": [
    "### Classification of Test Data"
   ]
  },
  {
   "cell_type": "code",
   "execution_count": 22,
   "metadata": {
    "collapsed": true
   },
   "outputs": [],
   "source": [
    "test_set = test_images\n",
    "test_labels=np.reshape(test_labels, (-1, 1))"
   ]
  },
  {
   "cell_type": "code",
   "execution_count": 23,
   "metadata": {
    "collapsed": false
   },
   "outputs": [
    {
     "data": {
      "text/plain": [
       "0.85189999999999999"
      ]
     },
     "execution_count": 23,
     "metadata": {},
     "output_type": "execute_result"
    }
   ],
   "source": [
    "mpe_latent_val = sess.run([mpe_latent], feed_dict={ivs: test_set, \n",
    "                                                   latent: np.ones((test_set.shape[0], 1))*-1})\n",
    "result=(mpe_latent_val==test_labels)\n",
    "np.sum(result) / test_labels.size"
   ]
  },
  {
   "cell_type": "markdown",
   "metadata": {
    "collapsed": true
   },
   "source": [
    "# Save model"
   ]
  },
  {
   "cell_type": "code",
   "execution_count": 27,
   "metadata": {
    "collapsed": false
   },
   "outputs": [
    {
     "ename": "KeyboardInterrupt",
     "evalue": "",
     "output_type": "error",
     "traceback": [
      "\u001b[0;31m---------------------------------------------------------------------------\u001b[0m",
      "\u001b[0;31mKeyboardInterrupt\u001b[0m                         Traceback (most recent call last)",
      "\u001b[0;32m<ipython-input-27-6ce68f31aea2>\u001b[0m in \u001b[0;36m<module>\u001b[0;34m()\u001b[0m\n\u001b[1;32m      1\u001b[0m \u001b[0;32mwith\u001b[0m \u001b[0msess\u001b[0m\u001b[0;34m.\u001b[0m\u001b[0mas_default\u001b[0m\u001b[0;34m(\u001b[0m\u001b[0;34m)\u001b[0m\u001b[0;34m:\u001b[0m\u001b[0;34m\u001b[0m\u001b[0m\n\u001b[1;32m      2\u001b[0m     \u001b[0msaver\u001b[0m\u001b[0;34m=\u001b[0m\u001b[0mspn\u001b[0m\u001b[0;34m.\u001b[0m\u001b[0mJSONSaver\u001b[0m\u001b[0;34m(\u001b[0m\u001b[0mpath\u001b[0m\u001b[0;34m=\u001b[0m\u001b[0;34m\"/home/pronobis/mnist_all_classes.spn\"\u001b[0m\u001b[0;34m)\u001b[0m\u001b[0;34m\u001b[0m\u001b[0m\n\u001b[0;32m----> 3\u001b[0;31m     \u001b[0msaver\u001b[0m\u001b[0;34m.\u001b[0m\u001b[0msave\u001b[0m\u001b[0;34m(\u001b[0m\u001b[0mroot\u001b[0m\u001b[0;34m)\u001b[0m\u001b[0;34m\u001b[0m\u001b[0m\n\u001b[0m",
      "\u001b[0;32m/home/pronobis/Code/libspn/libspn/graph/saver.py\u001b[0m in \u001b[0;36msave\u001b[0;34m(self, root)\u001b[0m\n\u001b[1;32m     47\u001b[0m \u001b[0;34m\u001b[0m\u001b[0m\n\u001b[1;32m     48\u001b[0m         \u001b[0;31m# Serialize all nodes\u001b[0m\u001b[0;34m\u001b[0m\u001b[0;34m\u001b[0m\u001b[0m\n\u001b[0;32m---> 49\u001b[0;31m         \u001b[0mtraverse_graph\u001b[0m\u001b[0;34m(\u001b[0m\u001b[0mroot\u001b[0m\u001b[0;34m,\u001b[0m \u001b[0mfun\u001b[0m\u001b[0;34m=\u001b[0m\u001b[0mfun\u001b[0m\u001b[0;34m,\u001b[0m \u001b[0mskip_params\u001b[0m\u001b[0;34m=\u001b[0m\u001b[0;32mFalse\u001b[0m\u001b[0;34m)\u001b[0m\u001b[0;34m\u001b[0m\u001b[0m\n\u001b[0m\u001b[1;32m     50\u001b[0m \u001b[0;34m\u001b[0m\u001b[0m\n\u001b[1;32m     51\u001b[0m         \u001b[0;31m# Write JSON\u001b[0m\u001b[0;34m\u001b[0m\u001b[0;34m\u001b[0m\u001b[0m\n",
      "\u001b[0;32m/home/pronobis/Code/libspn/libspn/graph/algorithms.py\u001b[0m in \u001b[0;36mtraverse_graph\u001b[0;34m(root, fun, skip_params)\u001b[0m\n\u001b[1;32m    173\u001b[0m         \u001b[0mnext_node\u001b[0m \u001b[0;34m=\u001b[0m \u001b[0mqueue\u001b[0m\u001b[0;34m.\u001b[0m\u001b[0mpopleft\u001b[0m\u001b[0;34m(\u001b[0m\u001b[0;34m)\u001b[0m\u001b[0;34m\u001b[0m\u001b[0m\n\u001b[1;32m    174\u001b[0m         \u001b[0;32mif\u001b[0m \u001b[0mnext_node\u001b[0m \u001b[0;32mnot\u001b[0m \u001b[0;32min\u001b[0m \u001b[0mvisited_nodes\u001b[0m\u001b[0;34m:\u001b[0m\u001b[0;34m\u001b[0m\u001b[0m\n\u001b[0;32m--> 175\u001b[0;31m             \u001b[0;32mif\u001b[0m \u001b[0mfun\u001b[0m\u001b[0;34m(\u001b[0m\u001b[0mnext_node\u001b[0m\u001b[0;34m)\u001b[0m\u001b[0;34m:\u001b[0m\u001b[0;34m\u001b[0m\u001b[0m\n\u001b[0m\u001b[1;32m    176\u001b[0m                 \u001b[0;32mreturn\u001b[0m \u001b[0mnext_node\u001b[0m\u001b[0;34m\u001b[0m\u001b[0m\n\u001b[1;32m    177\u001b[0m             \u001b[0mvisited_nodes\u001b[0m\u001b[0;34m.\u001b[0m\u001b[0madd\u001b[0m\u001b[0;34m(\u001b[0m\u001b[0mnext_node\u001b[0m\u001b[0;34m)\u001b[0m\u001b[0;34m\u001b[0m\u001b[0m\n",
      "\u001b[0;32m/home/pronobis/Code/libspn/libspn/graph/saver.py\u001b[0m in \u001b[0;36mfun\u001b[0;34m(node)\u001b[0m\n\u001b[1;32m     40\u001b[0m \u001b[0;34m\u001b[0m\u001b[0m\n\u001b[1;32m     41\u001b[0m         \u001b[0;32mdef\u001b[0m \u001b[0mfun\u001b[0m\u001b[0;34m(\u001b[0m\u001b[0mnode\u001b[0m\u001b[0;34m)\u001b[0m\u001b[0;34m:\u001b[0m\u001b[0;34m\u001b[0m\u001b[0m\n\u001b[0;32m---> 42\u001b[0;31m             \u001b[0mdata\u001b[0m \u001b[0;34m=\u001b[0m \u001b[0mnode\u001b[0m\u001b[0;34m.\u001b[0m\u001b[0mserialize\u001b[0m\u001b[0;34m(\u001b[0m\u001b[0;34m)\u001b[0m\u001b[0;34m\u001b[0m\u001b[0m\n\u001b[0m\u001b[1;32m     43\u001b[0m             \u001b[0;31m# The nodes will not be deserialized automatically during JSON\u001b[0m\u001b[0;34m\u001b[0m\u001b[0;34m\u001b[0m\u001b[0m\n\u001b[1;32m     44\u001b[0m             \u001b[0;31m# decoding since they do not use the __type__ data field.\u001b[0m\u001b[0;34m\u001b[0m\u001b[0;34m\u001b[0m\u001b[0m\n",
      "\u001b[0;32m/home/pronobis/Code/libspn/libspn/graph/weights.py\u001b[0m in \u001b[0;36mserialize\u001b[0;34m(self)\u001b[0m\n\u001b[1;32m     36\u001b[0m         \u001b[0msess\u001b[0m \u001b[0;34m=\u001b[0m \u001b[0mtf\u001b[0m\u001b[0;34m.\u001b[0m\u001b[0mget_default_session\u001b[0m\u001b[0;34m(\u001b[0m\u001b[0;34m)\u001b[0m\u001b[0;34m\u001b[0m\u001b[0m\n\u001b[1;32m     37\u001b[0m         if (sess is not None and\n\u001b[0;32m---> 38\u001b[0;31m                 sess.run(tf.is_variable_initialized(self._variable))):\n\u001b[0m\u001b[1;32m     39\u001b[0m             \u001b[0mdata\u001b[0m\u001b[0;34m[\u001b[0m\u001b[0;34m'value'\u001b[0m\u001b[0;34m]\u001b[0m \u001b[0;34m=\u001b[0m \u001b[0msess\u001b[0m\u001b[0;34m.\u001b[0m\u001b[0mrun\u001b[0m\u001b[0;34m(\u001b[0m\u001b[0mself\u001b[0m\u001b[0;34m.\u001b[0m\u001b[0m_variable\u001b[0m\u001b[0;34m)\u001b[0m\u001b[0;34m.\u001b[0m\u001b[0mtolist\u001b[0m\u001b[0;34m(\u001b[0m\u001b[0;34m)\u001b[0m\u001b[0;34m\u001b[0m\u001b[0m\n\u001b[1;32m     40\u001b[0m         \u001b[0;32melse\u001b[0m\u001b[0;34m:\u001b[0m\u001b[0;34m\u001b[0m\u001b[0m\n",
      "\u001b[0;32m/home/pronobis/.local/lib/python3.5/site-packages/tensorflow/python/client/session.py\u001b[0m in \u001b[0;36mrun\u001b[0;34m(self, fetches, feed_dict, options, run_metadata)\u001b[0m\n\u001b[1;32m    380\u001b[0m     \u001b[0;32mtry\u001b[0m\u001b[0;34m:\u001b[0m\u001b[0;34m\u001b[0m\u001b[0m\n\u001b[1;32m    381\u001b[0m       result = self._run(None, fetches, feed_dict, options_ptr,\n\u001b[0;32m--> 382\u001b[0;31m                          run_metadata_ptr)\n\u001b[0m\u001b[1;32m    383\u001b[0m       \u001b[0;32mif\u001b[0m \u001b[0mrun_metadata\u001b[0m\u001b[0;34m:\u001b[0m\u001b[0;34m\u001b[0m\u001b[0m\n\u001b[1;32m    384\u001b[0m         \u001b[0mproto_data\u001b[0m \u001b[0;34m=\u001b[0m \u001b[0mtf_session\u001b[0m\u001b[0;34m.\u001b[0m\u001b[0mTF_GetBuffer\u001b[0m\u001b[0;34m(\u001b[0m\u001b[0mrun_metadata_ptr\u001b[0m\u001b[0;34m)\u001b[0m\u001b[0;34m\u001b[0m\u001b[0m\n",
      "\u001b[0;32m/home/pronobis/.local/lib/python3.5/site-packages/tensorflow/python/client/session.py\u001b[0m in \u001b[0;36m_run\u001b[0;34m(self, handle, fetches, feed_dict, options, run_metadata)\u001b[0m\n\u001b[1;32m    653\u001b[0m     \u001b[0mmovers\u001b[0m \u001b[0;34m=\u001b[0m \u001b[0mself\u001b[0m\u001b[0;34m.\u001b[0m\u001b[0m_update_with_movers\u001b[0m\u001b[0;34m(\u001b[0m\u001b[0mfeed_dict_string\u001b[0m\u001b[0;34m,\u001b[0m \u001b[0mfeed_map\u001b[0m\u001b[0;34m)\u001b[0m\u001b[0;34m\u001b[0m\u001b[0m\n\u001b[1;32m    654\u001b[0m     results = self._do_run(handle, target_list, unique_fetches,\n\u001b[0;32m--> 655\u001b[0;31m                            feed_dict_string, options, run_metadata)\n\u001b[0m\u001b[1;32m    656\u001b[0m \u001b[0;34m\u001b[0m\u001b[0m\n\u001b[1;32m    657\u001b[0m     \u001b[0;31m# User may have fetched the same tensor multiple times, but we\u001b[0m\u001b[0;34m\u001b[0m\u001b[0;34m\u001b[0m\u001b[0m\n",
      "\u001b[0;32m/home/pronobis/.local/lib/python3.5/site-packages/tensorflow/python/client/session.py\u001b[0m in \u001b[0;36m_do_run\u001b[0;34m(self, handle, target_list, fetch_list, feed_dict, options, run_metadata)\u001b[0m\n\u001b[1;32m    721\u001b[0m     \u001b[0;32mif\u001b[0m \u001b[0mhandle\u001b[0m \u001b[0;32mis\u001b[0m \u001b[0;32mNone\u001b[0m\u001b[0;34m:\u001b[0m\u001b[0;34m\u001b[0m\u001b[0m\n\u001b[1;32m    722\u001b[0m       return self._do_call(_run_fn, self._session, feed_dict, fetch_list,\n\u001b[0;32m--> 723\u001b[0;31m                            target_list, options, run_metadata)\n\u001b[0m\u001b[1;32m    724\u001b[0m     \u001b[0;32melse\u001b[0m\u001b[0;34m:\u001b[0m\u001b[0;34m\u001b[0m\u001b[0m\n\u001b[1;32m    725\u001b[0m       return self._do_call(_prun_fn, self._session, handle, feed_dict,\n",
      "\u001b[0;32m/home/pronobis/.local/lib/python3.5/site-packages/tensorflow/python/client/session.py\u001b[0m in \u001b[0;36m_do_call\u001b[0;34m(self, fn, *args)\u001b[0m\n\u001b[1;32m    728\u001b[0m   \u001b[0;32mdef\u001b[0m \u001b[0m_do_call\u001b[0m\u001b[0;34m(\u001b[0m\u001b[0mself\u001b[0m\u001b[0;34m,\u001b[0m \u001b[0mfn\u001b[0m\u001b[0;34m,\u001b[0m \u001b[0;34m*\u001b[0m\u001b[0margs\u001b[0m\u001b[0;34m)\u001b[0m\u001b[0;34m:\u001b[0m\u001b[0;34m\u001b[0m\u001b[0m\n\u001b[1;32m    729\u001b[0m     \u001b[0;32mtry\u001b[0m\u001b[0;34m:\u001b[0m\u001b[0;34m\u001b[0m\u001b[0m\n\u001b[0;32m--> 730\u001b[0;31m       \u001b[0;32mreturn\u001b[0m \u001b[0mfn\u001b[0m\u001b[0;34m(\u001b[0m\u001b[0;34m*\u001b[0m\u001b[0margs\u001b[0m\u001b[0;34m)\u001b[0m\u001b[0;34m\u001b[0m\u001b[0m\n\u001b[0m\u001b[1;32m    731\u001b[0m     \u001b[0;32mexcept\u001b[0m \u001b[0merrors\u001b[0m\u001b[0;34m.\u001b[0m\u001b[0mOpError\u001b[0m \u001b[0;32mas\u001b[0m \u001b[0me\u001b[0m\u001b[0;34m:\u001b[0m\u001b[0;34m\u001b[0m\u001b[0m\n\u001b[1;32m    732\u001b[0m       \u001b[0mmessage\u001b[0m \u001b[0;34m=\u001b[0m \u001b[0mcompat\u001b[0m\u001b[0;34m.\u001b[0m\u001b[0mas_text\u001b[0m\u001b[0;34m(\u001b[0m\u001b[0me\u001b[0m\u001b[0;34m.\u001b[0m\u001b[0mmessage\u001b[0m\u001b[0;34m)\u001b[0m\u001b[0;34m\u001b[0m\u001b[0m\n",
      "\u001b[0;32m/home/pronobis/.local/lib/python3.5/site-packages/tensorflow/python/client/session.py\u001b[0m in \u001b[0;36m_run_fn\u001b[0;34m(session, feed_dict, fetch_list, target_list, options, run_metadata)\u001b[0m\n\u001b[1;32m    706\u001b[0m                 run_metadata):\n\u001b[1;32m    707\u001b[0m       \u001b[0;31m# Ensure any changes to the graph are reflected in the runtime.\u001b[0m\u001b[0;34m\u001b[0m\u001b[0;34m\u001b[0m\u001b[0m\n\u001b[0;32m--> 708\u001b[0;31m       \u001b[0mself\u001b[0m\u001b[0;34m.\u001b[0m\u001b[0m_extend_graph\u001b[0m\u001b[0;34m(\u001b[0m\u001b[0;34m)\u001b[0m\u001b[0;34m\u001b[0m\u001b[0m\n\u001b[0m\u001b[1;32m    709\u001b[0m       \u001b[0;32mwith\u001b[0m \u001b[0merrors\u001b[0m\u001b[0;34m.\u001b[0m\u001b[0mraise_exception_on_not_ok_status\u001b[0m\u001b[0;34m(\u001b[0m\u001b[0;34m)\u001b[0m \u001b[0;32mas\u001b[0m \u001b[0mstatus\u001b[0m\u001b[0;34m:\u001b[0m\u001b[0;34m\u001b[0m\u001b[0m\n\u001b[1;32m    710\u001b[0m         return tf_session.TF_Run(session, options,\n",
      "\u001b[0;32m/home/pronobis/.local/lib/python3.5/site-packages/tensorflow/python/client/session.py\u001b[0m in \u001b[0;36m_extend_graph\u001b[0;34m(self)\u001b[0m\n\u001b[1;32m    755\u001b[0m         \u001b[0;32mwith\u001b[0m \u001b[0merrors\u001b[0m\u001b[0;34m.\u001b[0m\u001b[0mraise_exception_on_not_ok_status\u001b[0m\u001b[0;34m(\u001b[0m\u001b[0;34m)\u001b[0m \u001b[0;32mas\u001b[0m \u001b[0mstatus\u001b[0m\u001b[0;34m:\u001b[0m\u001b[0;34m\u001b[0m\u001b[0m\n\u001b[1;32m    756\u001b[0m           tf_session.TF_ExtendGraph(\n\u001b[0;32m--> 757\u001b[0;31m               self._session, graph_def.SerializeToString(), status)\n\u001b[0m\u001b[1;32m    758\u001b[0m         \u001b[0mself\u001b[0m\u001b[0;34m.\u001b[0m\u001b[0m_opened\u001b[0m \u001b[0;34m=\u001b[0m \u001b[0;32mTrue\u001b[0m\u001b[0;34m\u001b[0m\u001b[0m\n\u001b[1;32m    759\u001b[0m \u001b[0;34m\u001b[0m\u001b[0m\n",
      "\u001b[0;31mKeyboardInterrupt\u001b[0m: "
     ]
    }
   ],
   "source": [
    "with sess.as_default():\n",
    "    saver=spn.JSONSaver(path=\"/home/pronobis/mnist_all_classes.spn\")\n",
    "    saver.save(root)"
   ]
  },
  {
   "cell_type": "code",
   "execution_count": null,
   "metadata": {
    "collapsed": true
   },
   "outputs": [],
   "source": []
  }
 ],
 "metadata": {
  "kernelspec": {
   "display_name": "Python 3",
   "language": "python",
   "name": "python3"
  },
  "language_info": {
   "codemirror_mode": {
    "name": "ipython",
    "version": 3
   },
   "file_extension": ".py",
   "mimetype": "text/x-python",
   "name": "python",
   "nbconvert_exporter": "python",
   "pygments_lexer": "ipython3",
   "version": "3.5.2"
  }
 },
 "nbformat": 4,
 "nbformat_minor": 1
}
