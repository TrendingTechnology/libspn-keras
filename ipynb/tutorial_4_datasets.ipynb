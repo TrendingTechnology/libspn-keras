{
 "cells": [
  {
   "cell_type": "markdown",
   "metadata": {},
   "source": [
    "# Tutorial 4: Attaching a Dataset"
   ]
  },
  {
   "cell_type": "code",
   "execution_count": 1,
   "metadata": {
    "collapsed": true
   },
   "outputs": [],
   "source": [
    "import libspn as spn\n",
    "import tensorflow as tf"
   ]
  },
  {
   "cell_type": "markdown",
   "metadata": {},
   "source": [
    "### Building a Test Graph with Random Weights"
   ]
  },
  {
   "cell_type": "code",
   "execution_count": 2,
   "metadata": {
    "collapsed": true
   },
   "outputs": [],
   "source": [
    "iv_x = spn.IVs(num_vars=2, num_vals=2, name=\"iv_x\")\n",
    "sum_11 = spn.Sum((iv_x, [0,1]), name=\"sum_11\")\n",
    "sum_12 = spn.Sum((iv_x, [0,1]), name=\"sum_12\")\n",
    "sum_21 = spn.Sum((iv_x, [2,3]), name=\"sum_21\")\n",
    "sum_22 = spn.Sum((iv_x, [2,3]), name=\"sum_22\")\n",
    "prod_1 = spn.Product(sum_11, sum_21, name=\"prod_1\")\n",
    "prod_2 = spn.Product(sum_11, sum_22, name=\"prod_2\")\n",
    "prod_3 = spn.Product(sum_12, sum_22, name=\"prod_3\")\n",
    "root = spn.Sum(prod_1, prod_2, prod_3, name=\"root\")\n",
    "iv_y = root.generate_ivs(name=\"iv_y\")\n",
    "spn.generate_weights(root, init_value=spn.ValueType.RANDOM_UNIFORM(0, 1))"
   ]
  },
  {
   "cell_type": "markdown",
   "metadata": {},
   "source": [
    "### Visualizing the SPN Graph"
   ]
  },
  {
   "cell_type": "code",
   "execution_count": 3,
   "metadata": {},
   "outputs": [
    {
     "data": {
      "text/html": [
       "<svg id=\"S0b44cb938f344d378ca427591d43c90d\" width=\"950\" height=\"800\"></svg>\n",
       "<script>\n",
       " require.config({\n",
       "   paths: {\n",
       "     d3: 'https://d3js.org/d3.v4.min'\n",
       "   }\n",
       " });\n",
       " require(['d3'], function(d3){\n",
       "\n",
       "   var graph = {\"links\": [{\"value\": 2, \"source\": \"Weights/sum_22_Weights_1\", \"target\": \"sum_22\"}, {\"value\": 2, \"source\": \"iv_x_2\", \"target\": \"sum_22\"}, {\"value\": 2, \"source\": \"Weights/sum_12_Weights_3\", \"target\": \"sum_12\"}, {\"value\": 2, \"source\": \"iv_x_4\", \"target\": \"sum_12\"}, {\"value\": 1, \"source\": \"sum_12\", \"target\": \"prod_3\"}, {\"value\": 1, \"source\": \"sum_22\", \"target\": \"prod_3\"}, {\"value\": 2, \"source\": \"Weights/sum_11_Weights_5\", \"target\": \"sum_11\"}, {\"value\": 2, \"source\": \"iv_x_6\", \"target\": \"sum_11\"}, {\"value\": 1, \"source\": \"sum_11\", \"target\": \"prod_2\"}, {\"value\": 1, \"source\": \"sum_22\", \"target\": \"prod_2\"}, {\"value\": 2, \"source\": \"Weights/sum_21_Weights_7\", \"target\": \"sum_21\"}, {\"value\": 2, \"source\": \"iv_x_8\", \"target\": \"sum_21\"}, {\"value\": 1, \"source\": \"sum_11\", \"target\": \"prod_1\"}, {\"value\": 1, \"source\": \"sum_21\", \"target\": \"prod_1\"}, {\"value\": 3, \"source\": \"Weights/root_Weights_9\", \"target\": \"root\"}, {\"value\": 3, \"source\": \"iv_y_10\", \"target\": \"root\"}, {\"value\": 1, \"source\": \"prod_1\", \"target\": \"root\"}, {\"value\": 1, \"source\": \"prod_2\", \"target\": \"root\"}, {\"value\": 1, \"source\": \"prod_3\", \"target\": \"root\"}], \"nodes\": [{\"type\": 2, \"id\": \"sum_22\", \"tooltip\": \"sum_22\", \"name\": \"sum_22\"}, {\"type\": 1, \"id\": \"Weights/sum_22_Weights_1\", \"tooltip\": \"Weights/sum_22_Weights\", \"name\": \"Weights/sum_22_Weights\"}, {\"type\": 0, \"id\": \"iv_x_2\", \"tooltip\": \"iv_x\", \"name\": \"iv_x[2, 3]\"}, {\"type\": 2, \"id\": \"sum_12\", \"tooltip\": \"sum_12\", \"name\": \"sum_12\"}, {\"type\": 1, \"id\": \"Weights/sum_12_Weights_3\", \"tooltip\": \"Weights/sum_12_Weights\", \"name\": \"Weights/sum_12_Weights\"}, {\"type\": 0, \"id\": \"iv_x_4\", \"tooltip\": \"iv_x\", \"name\": \"iv_x[0, 1]\"}, {\"type\": 3, \"id\": \"prod_3\", \"tooltip\": \"prod_3\", \"name\": \"prod_3\"}, {\"type\": 2, \"id\": \"sum_11\", \"tooltip\": \"sum_11\", \"name\": \"sum_11\"}, {\"type\": 1, \"id\": \"Weights/sum_11_Weights_5\", \"tooltip\": \"Weights/sum_11_Weights\", \"name\": \"Weights/sum_11_Weights\"}, {\"type\": 0, \"id\": \"iv_x_6\", \"tooltip\": \"iv_x\", \"name\": \"iv_x[0, 1]\"}, {\"type\": 3, \"id\": \"prod_2\", \"tooltip\": \"prod_2\", \"name\": \"prod_2\"}, {\"type\": 2, \"id\": \"sum_21\", \"tooltip\": \"sum_21\", \"name\": \"sum_21\"}, {\"type\": 1, \"id\": \"Weights/sum_21_Weights_7\", \"tooltip\": \"Weights/sum_21_Weights\", \"name\": \"Weights/sum_21_Weights\"}, {\"type\": 0, \"id\": \"iv_x_8\", \"tooltip\": \"iv_x\", \"name\": \"iv_x[2, 3]\"}, {\"type\": 3, \"id\": \"prod_1\", \"tooltip\": \"prod_1\", \"name\": \"prod_1\"}, {\"type\": 2, \"id\": \"root\", \"tooltip\": \"root\", \"name\": \"root\"}, {\"type\": 1, \"id\": \"Weights/root_Weights_9\", \"tooltip\": \"Weights/root_Weights\", \"name\": \"Weights/root_Weights\"}, {\"type\": 0, \"id\": \"iv_y_10\", \"tooltip\": \"iv_y\", \"name\": \"iv_y\"}]};\n",
       "\n",
       "   var color = d3.scaleOrdinal(d3.schemeCategory10);\n",
       "\n",
       "   var zoom = d3.zoom()\n",
       "                .scaleExtent([0.1, 10])\n",
       "                .on(\"zoom\", zoomed);\n",
       "\n",
       "   var svg = d3.select(\"#S0b44cb938f344d378ca427591d43c90d\").\n",
       "                call(zoom);\n",
       "\n",
       "   var width = svg.attr(\"width\");\n",
       "   var height = svg.attr(\"height\");\n",
       "\n",
       "   var simulation = d3.forceSimulation(graph.nodes)\n",
       "                      .on(\"tick\", ticked)\n",
       "                      .force(\"link\", d3.forceLink(graph.links)\n",
       "                                       .distance(80)\n",
       "                                       .id(function(d) { return d.id; }))\n",
       "                      .force(\"charge\", d3.forceManyBody().\n",
       "                                          strength(-1000))\n",
       "                      .force(\"center\", d3.forceCenter(width / 2, height / 2));\n",
       "\n",
       "   /* Contents */\n",
       "   var container = svg.append(\"g\").\n",
       "                       attr(\"class\", \"container\");\n",
       "\n",
       "   var link = container.append(\"g\")\n",
       "                       .selectAll(\"link\")\n",
       "                       .data(graph.links)\n",
       "                       .enter().append(\"line\")\n",
       "                       .attr(\"stroke\", \"#444\")\n",
       "                       .attr(\"stroke-opacity\", \"0.6\")\n",
       "                       .attr(\"stroke-width\",\n",
       "                             function(d) {\n",
       "                               return d.value;\n",
       "                               /*return Math.sqrt(d.value);*/\n",
       "                             });\n",
       "\n",
       "   var link_value = container.append(\"g\")\n",
       "                             .selectAll(\"linkvalue\")\n",
       "                             .data(graph.links)\n",
       "                             .enter().append(\"text\")\n",
       "                             .attr(\"alignment-baseline\", \"middle\")\n",
       "                             .style(\"text-anchor\", \"middle\")\n",
       "                             .text(function(d) { return d.value; });\n",
       "\n",
       "   var node = container.append(\"g\")\n",
       "                       .selectAll(\"node\")\n",
       "                       .data(graph.nodes)\n",
       "                       .enter().append(\"g\")\n",
       "                       .call(d3.drag()\n",
       "                               .on(\"start\", dragstarted)\n",
       "                               .on(\"drag\", dragged)\n",
       "                               .on(\"end\", dragended));\n",
       "\n",
       "   /* Node appearance */\n",
       "   node.append(\"rect\")\n",
       "       .attr(\"height\", 0)\n",
       "       .attr(\"width\", 0)\n",
       "       .attr(\"fill\", function(d) { return color(d.type); })\n",
       "       .attr(\"stroke\", \"#000\")\n",
       "       .attr(\"stroke-width\", \"1px\");\n",
       "\n",
       "   node.append(\"text\")\n",
       "       .attr(\"alignment-baseline\", \"middle\")\n",
       "       .style(\"text-anchor\", \"middle\")\n",
       "       .text(function(d) { return d.name; });\n",
       "\n",
       "   /* Adjust rect width to text */\n",
       "   var margin=10;\n",
       "   node.selectAll('rect')\n",
       "       .attr(\"x\", function(d) {return d3.select(this).attr(\"x\") - (this.parentNode.getBBox().width + margin)/2.0;})\n",
       "       .attr(\"y\", function(d) {return d3.select(this).attr(\"y\") - (this.parentNode.getBBox().height + margin)/2.0;})\n",
       "       .attr(\"width\", function(d) {return this.parentNode.getBBox().width + margin;})\n",
       "       .attr(\"height\", function(d) {return this.parentNode.getBBox().height + margin;});\n",
       "\n",
       "   /* Tooltips */\n",
       "   node.append(\"title\")\n",
       "       .text(function(d) { return d.tooltip; });\n",
       "\n",
       "   /* Functions */\n",
       "   function zoomed() {\n",
       "     container.attr(\"transform\", d3.event.transform);\n",
       "   }\n",
       "\n",
       "   function ticked() {\n",
       "     link\n",
       "       .attr(\"x1\", function(d) { return d.source.x; })\n",
       "       .attr(\"y1\", function(d) { return d.source.y; })\n",
       "       .attr(\"x2\", function(d) { return d.target.x; })\n",
       "       .attr(\"y2\", function(d) { return d.target.y; });\n",
       "\n",
       "     link_value\n",
       "       .attr(\"x\", function(d) { return (d.source.x+d.target.x)/2; })\n",
       "       .attr(\"y\", function(d) { return (d.source.y+d.target.y)/2; })\n",
       "\n",
       "     node.attr(\"transform\",\n",
       "               function(d) { return \"translate(\" + d.x + \",\" + d.y + \")\"; });\n",
       "   }\n",
       "\n",
       "   function dragstarted(d) {\n",
       "     if (!d3.event.active) simulation.alphaTarget(0.3).restart();\n",
       "     d.fx = d.x;\n",
       "     d.fy = d.y;\n",
       "   }\n",
       "\n",
       "   function dragged(d) {\n",
       "     d.fx = d3.event.x;\n",
       "     d.fy = d3.event.y;\n",
       "   }\n",
       "\n",
       "   function dragended(d) {\n",
       "     if (!d3.event.active) simulation.alphaTarget(0);\n",
       "     d.fx = null;\n",
       "     d.fy = null;\n",
       "   }\n",
       "\n",
       " });\n",
       "</script>\n"
      ],
      "text/plain": [
       "<IPython.core.display.HTML object>"
      ]
     },
     "metadata": {},
     "output_type": "display_data"
    }
   ],
   "source": [
    "spn.display_spn_graph(root)"
   ]
  },
  {
   "cell_type": "markdown",
   "metadata": {},
   "source": [
    "### Specify Training Data"
   ]
  },
  {
   "cell_type": "code",
   "execution_count": 4,
   "metadata": {},
   "outputs": [
    {
     "name": "stderr",
     "output_type": "stream",
     "text": [
      "[INFO] [spn.Dataset:get_data] Building dataset operations\n"
     ]
    }
   ],
   "source": [
    "dataset=spn.CSVFileDataset('data.csv', num_vals=[2, 2], defaults=[[-1],[-1],[-1]],\n",
    "                           num_labels=1, num_epochs=10, batch_size=10, shuffle=False)\n",
    "samples, labels = dataset.get_data()\n",
    "iv_x.attach_feed(samples)\n",
    "iv_y.attach_feed(labels)"
   ]
  },
  {
   "cell_type": "markdown",
   "metadata": {},
   "source": [
    "### Add Learning Ops"
   ]
  },
  {
   "cell_type": "code",
   "execution_count": 5,
   "metadata": {},
   "outputs": [],
   "source": [
    "init_weights = spn.initialize_weights(root)\n",
    "learning = spn.EMLearning(root, initial_accum_value=2)\n",
    "init_learning = learning.reset_accumulators()\n",
    "accumulate_updates = learning.accumulate_updates()\n",
    "update_spn = learning.update_spn()\n",
    "likelihood = tf.reduce_mean(learning.value.values[root])"
   ]
  },
  {
   "cell_type": "markdown",
   "metadata": {},
   "source": [
    "### Run Learning"
   ]
  },
  {
   "cell_type": "code",
   "execution_count": 6,
   "metadata": {},
   "outputs": [
    {
     "name": "stdout",
     "output_type": "stream",
     "text": [
      "Avg. Likelihood: -1.42971\n",
      "Avg. Likelihood: -1.29909\n",
      "Avg. Likelihood: -1.28976\n",
      "Avg. Likelihood: -1.28698\n",
      "Avg. Likelihood: -1.28579\n",
      "Avg. Likelihood: -1.28517\n",
      "Avg. Likelihood: -1.28481\n",
      "Avg. Likelihood: -1.28458\n",
      "Avg. Likelihood: -1.28443\n",
      "Avg. Likelihood: -1.28432\n",
      "Done!\n"
     ]
    }
   ],
   "source": [
    "epoch = 0\n",
    "with spn.session() as (sess, run):\n",
    "    sess.run(init_weights)\n",
    "    sess.run(init_learning)\n",
    "    try:    \n",
    "        while run():\n",
    "            likelihood_arr, _ = sess.run([likelihood, accumulate_updates])\n",
    "            print(\"Avg. Likelihood: %s\" % (likelihood_arr))\n",
    "            sess.run(update_spn)\n",
    "            \n",
    "    except tf.errors.OutOfRangeError:\n",
    "        print(\"Done!\")"
   ]
  },
  {
   "cell_type": "code",
   "execution_count": 7,
   "metadata": {},
   "outputs": [
    {
     "ename": "NameError",
     "evalue": "name 'avg_likelihood' is not defined",
     "output_type": "error",
     "traceback": [
      "\u001b[0;31m---------------------------------------------------------------------------\u001b[0m",
      "\u001b[0;31mNameError\u001b[0m                                 Traceback (most recent call last)",
      "\u001b[0;32m<ipython-input-7-d537044568a9>\u001b[0m in \u001b[0;36m<module>\u001b[0;34m()\u001b[0m\n\u001b[1;32m      5\u001b[0m         \u001b[0;32mwhile\u001b[0m \u001b[0mrun\u001b[0m\u001b[0;34m(\u001b[0m\u001b[0;34m)\u001b[0m\u001b[0;34m:\u001b[0m\u001b[0;34m\u001b[0m\u001b[0m\n\u001b[1;32m      6\u001b[0m             \u001b[0mlikelihoods\u001b[0m\u001b[0;34m,\u001b[0m \u001b[0m_\u001b[0m \u001b[0;34m=\u001b[0m  \u001b[0msess\u001b[0m\u001b[0;34m.\u001b[0m\u001b[0mrun\u001b[0m\u001b[0;34m(\u001b[0m\u001b[0;34m[\u001b[0m\u001b[0mlikelihood\u001b[0m\u001b[0;34m,\u001b[0m \u001b[0maccumulate_updates\u001b[0m\u001b[0;34m]\u001b[0m\u001b[0;34m)\u001b[0m\u001b[0;34m\u001b[0m\u001b[0m\n\u001b[0;32m----> 7\u001b[0;31m             \u001b[0mprint\u001b[0m\u001b[0;34m(\u001b[0m\u001b[0;34m\"Avg. Likelihood: %s\"\u001b[0m \u001b[0;34m%\u001b[0m \u001b[0;34m(\u001b[0m\u001b[0mavg_likelihood\u001b[0m\u001b[0;34m)\u001b[0m\u001b[0;34m)\u001b[0m\u001b[0;34m\u001b[0m\u001b[0m\n\u001b[0m\u001b[1;32m      8\u001b[0m             \u001b[0msess\u001b[0m\u001b[0;34m.\u001b[0m\u001b[0mrun\u001b[0m\u001b[0;34m(\u001b[0m\u001b[0mupdate_spn\u001b[0m\u001b[0;34m)\u001b[0m\u001b[0;34m\u001b[0m\u001b[0m\n\u001b[1;32m      9\u001b[0m \u001b[0;34m\u001b[0m\u001b[0m\n",
      "\u001b[0;31mNameError\u001b[0m: name 'avg_likelihood' is not defined"
     ]
    }
   ],
   "source": [
    "with spn.session() as (sess, run):\n",
    "    sess.run(init_weights)\n",
    "    sess.run(init_learning)\n",
    "    try:\n",
    "        while run():\n",
    "            likelihoods, _ =  sess.run([likelihood, accumulate_updates])\n",
    "            print(\"Avg. Likelihood: %s\" % (avg_likelihood))\n",
    "            sess.run(update_spn)\n",
    "            \n",
    "    except tf.errors.OutOfRangeError:\n",
    "        print(\"TRAINING DONE!\")"
   ]
  },
  {
   "cell_type": "code",
   "execution_count": null,
   "metadata": {
    "collapsed": true
   },
   "outputs": [],
   "source": []
  }
 ],
 "metadata": {
  "kernelspec": {
   "display_name": "Python 3",
   "language": "python",
   "name": "python3"
  },
  "language_info": {
   "codemirror_mode": {
    "name": "ipython",
    "version": 3
   },
   "file_extension": ".py",
   "mimetype": "text/x-python",
   "name": "python",
   "nbconvert_exporter": "python",
   "pygments_lexer": "ipython3",
   "version": "3.5.2"
  }
 },
 "nbformat": 4,
 "nbformat_minor": 2
}
