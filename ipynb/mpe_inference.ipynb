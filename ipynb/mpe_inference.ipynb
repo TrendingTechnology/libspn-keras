{
 "cells": [
  {
   "cell_type": "code",
   "execution_count": 1,
   "metadata": {
    "collapsed": false
   },
   "outputs": [],
   "source": [
    "import libspn as spn\n",
    "import tensorflow as tf\n",
    "import numpy as np\n",
    "sess = tf.InteractiveSession()"
   ]
  },
  {
   "cell_type": "markdown",
   "metadata": {},
   "source": [
    "# Generate SPN"
   ]
  },
  {
   "cell_type": "code",
   "execution_count": 2,
   "metadata": {
    "collapsed": false
   },
   "outputs": [],
   "source": [
    "gen = spn.TestSPNGenerator(spn_type = spn.TestSPNGenerator.Type.POON10_NAIVE_MIXTURE)\n",
    "ivs, root = gen.generate()\n",
    "spn.initialize_weights(root).run()"
   ]
  },
  {
   "cell_type": "code",
   "execution_count": 3,
   "metadata": {
    "collapsed": false
   },
   "outputs": [],
   "source": [
    "# spn.display_spn_graph(root)"
   ]
  },
  {
   "cell_type": "markdown",
   "metadata": {},
   "source": [
    "# Value"
   ]
  },
  {
   "cell_type": "code",
   "execution_count": 4,
   "metadata": {
    "collapsed": true
   },
   "outputs": [],
   "source": [
    "value=root.get_value()\n",
    "log_value=root.get_log_value()"
   ]
  },
  {
   "cell_type": "code",
   "execution_count": 5,
   "metadata": {
    "collapsed": false
   },
   "outputs": [
    {
     "name": "stdout",
     "output_type": "stream",
     "text": [
      "[[ 1.        ]\n",
      " [ 0.75      ]\n",
      " [ 0.25      ]\n",
      " [ 0.31      ]\n",
      " [ 0.228     ]\n",
      " [ 0.082     ]\n",
      " [ 0.69000006]\n",
      " [ 0.52200001]\n",
      " [ 0.16800001]]\n",
      "[[ 1.        ]\n",
      " [ 0.75      ]\n",
      " [ 0.25      ]\n",
      " [ 0.31      ]\n",
      " [ 0.228     ]\n",
      " [ 0.082     ]\n",
      " [ 0.69      ]\n",
      " [ 0.52200001]\n",
      " [ 0.168     ]]\n"
     ]
    }
   ],
   "source": [
    "value_array=value.eval(feed_dict={ivs: gen.feed})\n",
    "value_array_log=np.exp(log_value.eval(feed_dict={ivs: gen.feed}))\n",
    "\n",
    "print(value_array)\n",
    "print(gen.true_values)\n",
    "np.testing.assert_almost_equal(value_array, gen.true_values)\n",
    "np.testing.assert_almost_equal(value_array_log, gen.true_values)"
   ]
  },
  {
   "cell_type": "markdown",
   "metadata": {},
   "source": [
    "# MPE Value"
   ]
  },
  {
   "cell_type": "code",
   "execution_count": 6,
   "metadata": {
    "collapsed": true
   },
   "outputs": [],
   "source": [
    "mpe_value=root.get_value(spn.InferenceType.MPE)\n",
    "log_mpe_value = root.get_log_value(spn.InferenceType.MPE)"
   ]
  },
  {
   "cell_type": "code",
   "execution_count": 7,
   "metadata": {
    "collapsed": false
   },
   "outputs": [
    {
     "name": "stdout",
     "output_type": "stream",
     "text": [
      "[[ 0.21600001]\n",
      " [ 0.21600001]\n",
      " [ 0.09      ]\n",
      " [ 0.14      ]\n",
      " [ 0.14      ]\n",
      " [ 0.06      ]\n",
      " [ 0.21600001]\n",
      " [ 0.21600001]\n",
      " [ 0.09      ]]\n",
      "[[ 1.        ]\n",
      " [ 0.75      ]\n",
      " [ 0.25      ]\n",
      " [ 0.31      ]\n",
      " [ 0.228     ]\n",
      " [ 0.082     ]\n",
      " [ 0.69      ]\n",
      " [ 0.52200001]\n",
      " [ 0.168     ]]\n"
     ]
    }
   ],
   "source": [
    "mpe_value_array=mpe_value.eval(feed_dict={ivs: gen.feed})\n",
    "mpe_value_array_log=np.exp(log_mpe_value.eval(feed_dict={ivs: gen.feed}))\n",
    "\n",
    "print(mpe_value_array)\n",
    "print(gen.true_values)\n",
    "np.testing.assert_almost_equal(mpe_value_array, gen.true_mpe_values)\n",
    "np.testing.assert_almost_equal(mpe_value_array_log, gen.true_mpe_values)"
   ]
  },
  {
   "cell_type": "markdown",
   "metadata": {},
   "source": [
    "# MPE Path"
   ]
  },
  {
   "cell_type": "code",
   "execution_count": 8,
   "metadata": {
    "collapsed": false
   },
   "outputs": [],
   "source": [
    "mpe_mpe_path_gen = spn.MPEPath(value_inference_type=spn.InferenceType.MPE, log=False)\n",
    "mpe_mpe_path_gen.get_mpe_path(root)"
   ]
  },
  {
   "cell_type": "code",
   "execution_count": 9,
   "metadata": {
    "collapsed": false
   },
   "outputs": [
    {
     "name": "stdout",
     "output_type": "stream",
     "text": [
      "[[ 0.  1.  1.  0.]\n",
      " [ 0.  1.  1.  0.]\n",
      " [ 0.  1.  0.  1.]\n",
      " [ 1.  0.  1.  0.]\n",
      " [ 1.  0.  1.  0.]\n",
      " [ 1.  0.  0.  1.]\n",
      " [ 0.  1.  1.  0.]\n",
      " [ 0.  1.  1.  0.]\n",
      " [ 0.  1.  0.  1.]]\n"
     ]
    }
   ],
   "source": [
    "print(mpe_mpe_path_gen.counts[ivs].eval(feed_dict={ivs: gen.feed}))"
   ]
  },
  {
   "cell_type": "code",
   "execution_count": 10,
   "metadata": {
    "collapsed": true
   },
   "outputs": [],
   "source": [
    "mpe_marginal_path_gen = spn.MPEPath(value_inference_type=spn.InferenceType.MARGINAL, log=False)\n",
    "mpe_marginal_path_gen.get_mpe_path(root)"
   ]
  },
  {
   "cell_type": "code",
   "execution_count": 11,
   "metadata": {
    "collapsed": false
   },
   "outputs": [
    {
     "name": "stdout",
     "output_type": "stream",
     "text": [
      "[[ 0.  1.  1.  0.]\n",
      " [ 0.  1.  1.  0.]\n",
      " [ 0.  1.  0.  1.]\n",
      " [ 1.  0.  1.  0.]\n",
      " [ 1.  0.  1.  0.]\n",
      " [ 1.  0.  0.  1.]\n",
      " [ 0.  1.  1.  0.]\n",
      " [ 0.  1.  1.  0.]\n",
      " [ 0.  1.  0.  1.]]\n"
     ]
    }
   ],
   "source": [
    "print(mpe_marginal_path_gen.counts[ivs].eval(feed_dict={ivs: gen.feed}))"
   ]
  },
  {
   "cell_type": "markdown",
   "metadata": {},
   "source": [
    "# MPE State"
   ]
  },
  {
   "cell_type": "code",
   "execution_count": 12,
   "metadata": {
    "collapsed": false
   },
   "outputs": [],
   "source": [
    "mpe_state_gen = spn.MPEState(log=False)\n",
    "ivs_state, = mpe_state_gen.get_state(root, ivs)"
   ]
  },
  {
   "cell_type": "code",
   "execution_count": 13,
   "metadata": {
    "collapsed": false
   },
   "outputs": [
    {
     "data": {
      "text/plain": [
       "array([[1, 0]])"
      ]
     },
     "execution_count": 13,
     "metadata": {},
     "output_type": "execute_result"
    }
   ],
   "source": [
    "ivs_state.eval(feed_dict={ivs: [[-1, -1]]})"
   ]
  },
  {
   "cell_type": "code",
   "execution_count": null,
   "metadata": {
    "collapsed": true
   },
   "outputs": [],
   "source": []
  }
 ],
 "metadata": {
  "kernelspec": {
   "display_name": "Python 3",
   "language": "python",
   "name": "python3"
  },
  "language_info": {
   "codemirror_mode": {
    "name": "ipython",
    "version": 3
   },
   "file_extension": ".py",
   "mimetype": "text/x-python",
   "name": "python",
   "nbconvert_exporter": "python",
   "pygments_lexer": "ipython3",
   "version": "3.5.2"
  }
 },
 "nbformat": 4,
 "nbformat_minor": 1
}
